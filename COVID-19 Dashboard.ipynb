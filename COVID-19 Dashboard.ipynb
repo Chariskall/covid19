{
 "cells": [
  {
   "cell_type": "markdown",
   "metadata": {},
   "source": [
    "# COVID-19 Dashboard"
   ]
  },
  {
   "cell_type": "markdown",
   "metadata": {},
   "source": [
    "## Load Libraries"
   ]
  },
  {
   "cell_type": "code",
   "execution_count": 11,
   "metadata": {},
   "outputs": [],
   "source": [
    "import pandas as pd\n",
    "import numpy as np\n",
    "import matplotlib.pyplot as plt\n",
    "%matplotlib inline\n",
    "from scipy.interpolate import make_interp_spline"
   ]
  },
  {
   "cell_type": "markdown",
   "metadata": {},
   "source": [
    "## Load Data"
   ]
  },
  {
   "cell_type": "code",
   "execution_count": 12,
   "metadata": {},
   "outputs": [],
   "source": [
    "import pandas as pd\n",
    "import io\n",
    "import requests\n",
    "url=\"https://opendata.ecdc.europa.eu/covid19/casedistribution/csv\"\n",
    "s=requests.get(url).content\n",
    "df=pd.read_csv(io.StringIO(s.decode('utf-8')))"
   ]
  },
  {
   "cell_type": "code",
   "execution_count": 13,
   "metadata": {},
   "outputs": [],
   "source": [
    "df.sort_values(['countryterritoryCode','year','month','day']).reset_index(drop=True)\n",
    "df = df[['dateRep','day','month','year','cases','deaths','countriesAndTerritories',\n",
    "        'geoId','countryterritoryCode']]\n",
    "df['dateRep'] = pd.to_datetime(df['dateRep'], format = '%d/%m/%Y').dt.date"
   ]
  },
  {
   "cell_type": "code",
   "execution_count": null,
   "metadata": {},
   "outputs": [],
   "source": [
    "column = 'Afghanistan'\n",
    "x = data[column].dropna().index[-1]\n",
    "y = list(data[column].dropna())[-1]"
   ]
  },
  {
   "cell_type": "code",
   "execution_count": 34,
   "metadata": {},
   "outputs": [
    {
     "name": "stdout",
     "output_type": "stream",
     "text": [
      "1 Afghanistan\n",
      "2 Albania\n",
      "3 Algeria\n",
      "4 Andorra\n",
      "5 Argentina\n",
      "6 Armenia\n",
      "7 Australia\n",
      "8 Austria\n",
      "9 Azerbaijan\n",
      "10 Bahrain\n",
      "11 Belarus\n",
      "12 Belgium\n",
      "13 Bolivia\n",
      "14 Bosnia_and_Herzegovina\n",
      "15 Brazil\n",
      "16 Brunei_Darussalam\n",
      "17 Bulgaria\n",
      "18 Burkina_Faso\n",
      "19 Cambodia\n",
      "20 Cameroon\n",
      "21 Canada\n",
      "22 Cases_on_an_international_conveyance_Japan\n",
      "23 Chile\n",
      "24 China\n",
      "25 Colombia\n",
      "26 Costa_Rica\n",
      "27 Cote_dIvoire\n",
      "28 Croatia\n",
      "29 Cuba\n",
      "30 Cyprus\n",
      "31 Czech_Republic\n",
      "32 Democratic_Republic_of_the_Congo\n",
      "33 Denmark\n",
      "34 Dominican_Republic\n",
      "35 Ecuador\n",
      "36 Egypt\n",
      "37 Estonia\n",
      "38 Faroe_Islands\n",
      "39 Finland\n",
      "40 France\n",
      "41 Georgia\n",
      "42 Germany\n",
      "43 Ghana\n",
      "44 Greece\n",
      "45 Guernsey\n",
      "46 Guinea\n",
      "47 Honduras\n",
      "48 Hungary\n",
      "49 Iceland\n",
      "50 India\n",
      "51 Indonesia\n",
      "52 Iran\n",
      "53 Iraq\n",
      "54 Ireland\n",
      "55 Isle_of_Man\n",
      "56 Israel\n",
      "57 Italy\n",
      "58 Japan\n",
      "59 Jersey\n",
      "60 Jordan\n",
      "61 Kazakhstan\n",
      "62 Kenya\n",
      "63 Kosovo\n",
      "64 Kuwait\n",
      "65 Kyrgyzstan\n",
      "66 Latvia\n",
      "67 Lebanon\n",
      "68 Lithuania\n",
      "69 Luxembourg\n",
      "70 Malaysia\n",
      "71 Malta\n",
      "72 Mauritius\n",
      "73 Mexico\n",
      "74 Moldova\n",
      "75 Montenegro\n",
      "76 Morocco\n",
      "77 Netherlands\n",
      "78 New_Zealand\n",
      "79 Niger\n",
      "80 Nigeria\n",
      "81 North_Macedonia\n",
      "82 Norway\n",
      "83 Oman\n",
      "84 Pakistan\n",
      "85 Palestine\n",
      "86 Panama\n",
      "87 Paraguay\n",
      "88 Peru\n",
      "89 Philippines\n",
      "90 Poland\n",
      "91 Portugal\n",
      "92 Puerto_Rico\n",
      "93 Qatar\n",
      "94 Romania\n",
      "95 Russia\n",
      "96 Rwanda\n",
      "97 San_Marino\n",
      "98 Saudi_Arabia\n",
      "99 Senegal\n",
      "100 Serbia\n",
      "101 Singapore\n",
      "102 Slovakia\n",
      "103 Slovenia\n",
      "104 South_Africa\n",
      "105 South_Korea\n",
      "106 Spain\n",
      "107 Sri_Lanka\n",
      "108 Sweden\n",
      "109 Switzerland\n",
      "110 Taiwan\n",
      "111 Thailand\n",
      "112 Trinidad_and_Tobago\n",
      "113 Tunisia\n",
      "114 Turkey\n",
      "115 Ukraine\n",
      "116 United_Arab_Emirates\n",
      "117 United_Kingdom\n",
      "118 United_States_of_America\n",
      "119 Uruguay\n",
      "120 Uzbekistan\n",
      "121 Venezuela\n",
      "122 Vietnam\n"
     ]
    }
   ],
   "source": [
    "colors = ['rgb(67,67,67)', 'rgb(115,115,115)', 'rgb(49,130,189)', 'rgb(189,189,189)']\n",
    "for i,column in enumerate(df_norm_100case.columns):\n",
    "    print(i+1,column)"
   ]
  },
  {
   "cell_type": "code",
   "execution_count": 32,
   "metadata": {},
   "outputs": [
    {
     "name": "stdout",
     "output_type": "stream",
     "text": [
      "['#636EFA', '#EF553B', '#00CC96', '#AB63FA', '#FFA15A', '#19D3F3', '#FF6692', '#B6E880', '#FF97FF', '#FECB52']\n"
     ]
    }
   ],
   "source": [
    "import plotly.express as px\n",
    "\n",
    "print(px.colors.qualitative.Plotly)"
   ]
  },
  {
   "cell_type": "code",
   "execution_count": null,
   "metadata": {},
   "outputs": [],
   "source": [
    "['#636EFA', '#EF553B', '#00CC96', '#AB63FA', '#FFA15A', '#19D3F3', '#FF6692', '#B6E880', '#FF97FF', '#FECB52',\n",
    "'#636EFA', '#EF553B', '#00CC96', '#AB63FA', '#FFA15A', '#19D3F3', '#FF6692', '#B6E880', '#FF97FF', '#FECB52',\n",
    "'#636EFA', '#EF553B', '#00CC96', '#AB63FA', '#FFA15A', '#19D3F3', '#FF6692', '#B6E880', '#FF97FF', '#FECB52',\n",
    "'#636EFA', '#EF553B', '#00CC96', '#AB63FA', '#FFA15A', '#19D3F3', '#FF6692', '#B6E880', '#FF97FF', '#FECB52',\n",
    "'#636EFA', '#EF553B', '#00CC96', '#AB63FA', '#FFA15A', '#19D3F3', '#FF6692', '#B6E880', '#FF97FF', '#FECB52',\n",
    "'#636EFA', '#EF553B', '#00CC96', '#AB63FA', '#FFA15A', '#19D3F3', '#FF6692', '#B6E880', '#FF97FF', '#FECB52',\n",
    "'#636EFA', '#EF553B', '#00CC96', '#AB63FA', '#FFA15A', '#19D3F3', '#FF6692', '#B6E880', '#FF97FF', '#FECB52',\n",
    "'#636EFA', '#EF553B', '#00CC96', '#AB63FA', '#FFA15A', '#19D3F3', '#FF6692', '#B6E880', '#FF97FF', '#FECB52',\n",
    "'#636EFA', '#EF553B', '#00CC96', '#AB63FA', '#FFA15A', '#19D3F3', '#FF6692', '#B6E880', '#FF97FF', '#FECB52',\n",
    " '#636EFA', '#EF553B', '#00CC96', '#AB63FA', '#FFA15A', '#19D3F3', '#FF6692', '#B6E880', '#FF97FF', '#FECB52',\n",
    " '#636EFA', '#EF553B', '#00CC96', '#AB63FA', '#FFA15A', '#19D3F3', '#FF6692', '#B6E880', '#FF97FF', '#FECB52',\n",
    " '#636EFA', '#EF553B', '#00CC96', '#AB63FA', '#FFA15A', '#19D3F3', '#FF6692', '#B6E880', '#FF97FF', '#FECB52',\n",
    " '#636EFA', '#EF553B']"
   ]
  },
  {
   "cell_type": "markdown",
   "metadata": {},
   "source": [
    "#### Cases"
   ]
  },
  {
   "cell_type": "code",
   "execution_count": 14,
   "metadata": {},
   "outputs": [],
   "source": [
    "df_pivot_c= df.pivot(index='dateRep', columns='countriesAndTerritories', values='cases')\n",
    "df_pivot_c_cumsum = df_pivot_c.cumsum()"
   ]
  },
  {
   "cell_type": "code",
   "execution_count": 15,
   "metadata": {},
   "outputs": [],
   "source": [
    "df_norm_100case = []\n",
    "for column in df_pivot_c_cumsum.columns:\n",
    "    df_norm_100case.append(df_pivot_c_cumsum[column][df_pivot_c_cumsum[column] >= 100].values)\n",
    "\n",
    "df_norm_100case = pd.DataFrame(df_norm_100case).T\n",
    "\n",
    "df_norm_100case.columns = df_pivot_c_cumsum.columns\n",
    "\n",
    "df_norm_100case = df_norm_100case.dropna(how='all',axis = 1)"
   ]
  },
  {
   "cell_type": "code",
   "execution_count": null,
   "metadata": {
    "scrolled": false
   },
   "outputs": [],
   "source": [
    "y_cutoff = 6000000\n",
    "x_start = 100\n",
    "Double_1day = [x_start]\n",
    "Double_2days = [x_start]\n",
    "Double_3days = [x_start]\n",
    "Double_4days = [x_start]\n",
    "Double_week = [x_start]\n",
    "for i in range(1,77):\n",
    "    x = x_start * (2 ** i)\n",
    "    if x > y_cutoff:\n",
    "        x = y_cutoff\n",
    "        Double_1day.append(x)\n",
    "    else: Double_1day.append(x)\n",
    "    y = x_start * ((2 ** (1/2)) ** i)\n",
    "    if y > y_cutoff:\n",
    "        y = y_cutoff\n",
    "        Double_2days.append(y)\n",
    "    else: Double_2days.append(y)\n",
    "    z = x_start * ((2**(1/3)) ** i)\n",
    "    if z > y_cutoff:\n",
    "        z = y_cutoff\n",
    "        Double_3days.append(z)\n",
    "    else: Double_3days.append(z)\n",
    "    v = x_start * ((2**(1/4)) ** i)\n",
    "    if v > y_cutoff:\n",
    "        v = y_cutoff\n",
    "        Double_4days.append(v)\n",
    "    else: Double_4days.append(v)\n",
    "    w = x_start * ((2**(1/7)) ** i)\n",
    "    if w > y_cutoff:\n",
    "        w = y_cutoff\n",
    "        Double_week.append(w)\n",
    "    else: Double_week.append(w)\n",
    "\n",
    "Lines_c = pd.DataFrame(Double_1day,columns=['Double_1day'],dtype=np.float64)\n",
    "Lines_c['Double_2days'] = pd.DataFrame(Double_2days)\n",
    "Lines_c['Double_3days'] = pd.DataFrame(Double_3days)\n",
    "Lines_c['Double_4days'] = pd.DataFrame(Double_4days)\n",
    "Lines_c['Double_week'] = pd.DataFrame(Double_week)"
   ]
  },
  {
   "cell_type": "code",
   "execution_count": null,
   "metadata": {
    "scrolled": false
   },
   "outputs": [],
   "source": [
    "fig, ax = plt.subplots(figsize=(30,10))\n",
    "df_norm_100case.plot(ax=ax,legend=False)\n",
    "Lines_c.plot(ax = ax,color='k')\n",
    "plt.yscale('log')\n",
    "plt.ylim(1,600000)\n",
    "plt.xlim(1,80)\n",
    "plt.title('Comulative number of confirmed cases, by number of days since 100th case', fontsize=30)\n",
    "plt.xlabel('Number of days since 100th case', fontsize=20)\n",
    "plt.ylabel('Comulative number of cases', fontsize=20)"
   ]
  },
  {
   "cell_type": "markdown",
   "metadata": {},
   "source": [
    "#### Deaths"
   ]
  },
  {
   "cell_type": "code",
   "execution_count": null,
   "metadata": {},
   "outputs": [],
   "source": [
    "df_pivot_d = df.pivot(index='dateRep', columns='countriesAndTerritories', values='deaths')\n",
    "df_pivot_d_cumsum = df_pivot_d.cumsum()"
   ]
  },
  {
   "cell_type": "code",
   "execution_count": null,
   "metadata": {},
   "outputs": [],
   "source": [
    "df_norm_10death = []\n",
    "for column in df_pivot_d_cumsum.columns:\n",
    "    df_norm_10death.append(df_pivot_d_cumsum[column][df_pivot_d_cumsum[column] >= 10].values)\n",
    "\n",
    "df_norm_10death = pd.DataFrame(df_norm_10death).T\n",
    "\n",
    "df_norm_10death.columns = df_pivot_d_cumsum.columns\n",
    "\n",
    "df_norm_10death = df_norm_10death.dropna(how='all',axis = 1)\n"
   ]
  },
  {
   "cell_type": "code",
   "execution_count": null,
   "metadata": {},
   "outputs": [],
   "source": [
    "y_cutoff = 21000\n",
    "x_start = 10\n",
    "Double_1day = [x_start]\n",
    "Double_2days = [x_start]\n",
    "Double_3days = [x_start]\n",
    "Double_week = [x_start]\n",
    "for i in range(1,77):\n",
    "    x = x_start * (2 ** i)\n",
    "    if x > y_cutoff:\n",
    "        x = y_cutoff\n",
    "        Double_1day.append(x)\n",
    "    else: Double_1day.append(x)\n",
    "    y = x_start * ((2 ** (1/2)) ** i)\n",
    "    if y > y_cutoff:\n",
    "        y = y_cutoff\n",
    "        Double_2days.append(y)\n",
    "    else: Double_2days.append(y)\n",
    "    z = x_start * ((2**(1/3)) ** i)\n",
    "    if z > y_cutoff:\n",
    "        z = y_cutoff\n",
    "        Double_3days.append(z)\n",
    "    else: Double_3days.append(z)\n",
    "    w = x_start * ((2**(1/7)) ** i)\n",
    "    if w > y_cutoff:\n",
    "        w = y_cutoff\n",
    "        Double_week.append(w)\n",
    "    else: Double_week.append(w)\n",
    "\n",
    "Lines_d = pd.DataFrame(Double_1day,columns=['Double_1day'],dtype=np.float64)\n",
    "Lines_d['Double_2days'] = pd.DataFrame(Double_2days)\n",
    "Lines_d['Double_3days'] = pd.DataFrame(Double_3days)\n",
    "Lines_d['Double_week'] = pd.DataFrame(Double_week)"
   ]
  },
  {
   "cell_type": "code",
   "execution_count": null,
   "metadata": {},
   "outputs": [],
   "source": [
    "fig, ax = plt.subplots(figsize=(30,10))\n",
    "df_norm_10death.plot(ax=ax,legend=False)\n",
    "Lines_d.plot(ax = ax,color='k')\n",
    "plt.yscale('log')\n",
    "plt.ylim(1,15000)\n",
    "plt.xlim(1,40)\n",
    "plt.title('Comulative number of deaths, by number of days since 10th death', fontsize=30)\n",
    "plt.xlabel('Number of days since 10th death', fontsize=20)\n",
    "plt.ylabel('Comulative number of deaths', fontsize=20)"
   ]
  },
  {
   "cell_type": "code",
   "execution_count": null,
   "metadata": {},
   "outputs": [],
   "source": [
    "df_pivot_weekly = df_pivot_d.groupby(df_pivot_d.reset_index(drop=True).index // 7).sum()\n",
    "df_pivot_weekly = df_pivot_weekly.loc[:, (df_pivot_weekly != 0).any(axis=0)]\n",
    "\n",
    "countries = df_pivot_weekly.agg(max) > 20\n",
    "countries = (countries[countries == True].index.values)\n",
    "df_pivot_weekly = df_pivot_weekly[countries]\n",
    "\n",
    "df_norm_20death = []\n",
    "for column in df_pivot_weekly.columns:\n",
    "    df_norm_20death.append(df_pivot_d[column].iloc[df_pivot_weekly[column]\\\n",
    "                                    [df_pivot_weekly[column] >= 20].index[0] * 7:].values)\n",
    "\n",
    "df_norm_20death = pd.DataFrame(df_norm_20death).T\n",
    "df_norm_20death.columns = df_pivot_weekly.columns\n",
    "df_norm_20death = df_norm_20death.dropna(how='all',axis = 1)\n",
    "df_norm_20death = df_norm_20death.rolling(7).mean().iloc[7:].reset_index(drop=True)"
   ]
  },
  {
   "cell_type": "code",
   "execution_count": null,
   "metadata": {
    "scrolled": false
   },
   "outputs": [],
   "source": [
    "fig, ax = plt.subplots(figsize=(30,10))\n",
    "df_norm_20death.plot(ax=ax,legend=False)\n",
    "plt.yscale('log')\n",
    "plt.ylim(1,10000)\n",
    "plt.xlim(1,75)\n",
    "plt.title('Daily number of deaths, by number of days since 20th death in one week', fontsize=30)\n",
    "plt.xlabel('Number of days since 20th death in one week', fontsize=20)\n",
    "plt.ylabel('Daily number of deaths', fontsize=20);"
   ]
  },
  {
   "cell_type": "code",
   "execution_count": null,
   "metadata": {},
   "outputs": [],
   "source": [
    "countries = df_pivot_d.agg(max) > 3\n",
    "countries = (countries[countries == True].index.values)\n",
    "df_pivot_3death = df_pivot_d[countries]"
   ]
  },
  {
   "cell_type": "code",
   "execution_count": null,
   "metadata": {},
   "outputs": [],
   "source": [
    "df_norm_3death = []\n",
    "for column in df_pivot_3death.columns:\n",
    "    temp = df_pivot_3death[column].reset_index(drop=True)\n",
    "    df_norm_3death.append(df_pivot_3death[column].iloc[temp[temp > 3].index[0]:].values)\n",
    "\n",
    "df_norm_3death = pd.DataFrame(df_norm_3death).T\n",
    "df_norm_3death.columns = df_pivot_3death.columns\n",
    "df_norm_3death = df_norm_3death.rolling(7).mean().iloc[6:].reset_index(drop=True)\n",
    "df_norm_3death = df_norm_3death.dropna(how='all',axis = 1)\n",
    "df_norm_3death = df_norm_3death.drop(['Algeria','Iraq','Philippines','San_Marino','Slovenia'],axis=1)"
   ]
  },
  {
   "cell_type": "code",
   "execution_count": null,
   "metadata": {
    "scrolled": false
   },
   "outputs": [],
   "source": [
    "fig, ax = plt.subplots(figsize=(25,10))\n",
    "df_norm_3death.plot(ax=ax,legend=False)\n",
    "plt.yscale('log')\n",
    "plt.ylim(1,2000)\n",
    "plt.xlim(1,75)\n",
    "plt.title('Daily deaths', fontsize=30)\n",
    "plt.xlabel('Number of days since 3 daily deaths first recorded', fontsize=20)\n",
    "plt.ylabel('Number of daily deaths (7 day rolling average)', fontsize=20);"
   ]
  },
  {
   "cell_type": "code",
   "execution_count": null,
   "metadata": {},
   "outputs": [],
   "source": [
    "# Country Colors\n",
    "Country_Colors = pd.DataFrame(df_norm_100case.columns.values,columns=['Country']).reset_index()\n",
    "Country_Colors.columns = ['Color','Country']\n",
    "Country_Colors['Color'] = Country_Colors['Color'] + 1"
   ]
  },
  {
   "cell_type": "code",
   "execution_count": null,
   "metadata": {},
   "outputs": [],
   "source": [
    "column= 'China'\n",
    "Country_Colors[Country_Colors.Country == column].iloc[0,0]"
   ]
  },
  {
   "cell_type": "code",
   "execution_count": null,
   "metadata": {},
   "outputs": [],
   "source": []
  }
 ],
 "metadata": {
  "kernelspec": {
   "display_name": "Python 3",
   "language": "python",
   "name": "python3"
  },
  "language_info": {
   "codemirror_mode": {
    "name": "ipython",
    "version": 3
   },
   "file_extension": ".py",
   "mimetype": "text/x-python",
   "name": "python",
   "nbconvert_exporter": "python",
   "pygments_lexer": "ipython3",
   "version": "3.7.7"
  },
  "varInspector": {
   "cols": {
    "lenName": 16,
    "lenType": 16,
    "lenVar": 40
   },
   "kernels_config": {
    "python": {
     "delete_cmd_postfix": "",
     "delete_cmd_prefix": "del ",
     "library": "var_list.py",
     "varRefreshCmd": "print(var_dic_list())"
    },
    "r": {
     "delete_cmd_postfix": ") ",
     "delete_cmd_prefix": "rm(",
     "library": "var_list.r",
     "varRefreshCmd": "cat(var_dic_list()) "
    }
   },
   "position": {
    "height": "382px",
    "left": "1081px",
    "right": "20px",
    "top": "119px",
    "width": "336px"
   },
   "types_to_exclude": [
    "module",
    "function",
    "builtin_function_or_method",
    "instance",
    "_Feature"
   ],
   "window_display": false
  }
 },
 "nbformat": 4,
 "nbformat_minor": 4
}
