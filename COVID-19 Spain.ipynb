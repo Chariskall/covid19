{
 "cells": [
  {
   "cell_type": "markdown",
   "metadata": {},
   "source": [
    "# COVID-19 Dashboard"
   ]
  },
  {
   "cell_type": "markdown",
   "metadata": {},
   "source": [
    "## Load Libraries"
   ]
  },
  {
   "cell_type": "code",
   "execution_count": 1,
   "metadata": {},
   "outputs": [],
   "source": [
    "import pandas as pd\n",
    "import numpy as np\n",
    "import io\n",
    "import requests\n",
    "import plotly.graph_objects as go\n",
    "import plotly.express as px"
   ]
  },
  {
   "cell_type": "markdown",
   "metadata": {},
   "source": [
    "## Load Data"
   ]
  },
  {
   "cell_type": "code",
   "execution_count": 2,
   "metadata": {},
   "outputs": [],
   "source": [
    "urls = \"https://covid19.isciii.es/resources/serie_historica_acumulados.csv\"\n",
    "sp = requests.get(urls).content\n",
    "dfs = pd.read_csv(io.StringIO(sp.decode('latin1')))\n",
    "\n",
    "df_loc = pd.DataFrame([\n",
    "    ('AN','Andalusia',-4.5000000, 37.6000000),\n",
    "    ('AR','Aragon',-1.0000000, 41.0000000),\n",
    "    ('AS','Asturias', -6.0000000, 43.3333333),\n",
    "    ('IB','Balearic Islands', 2.4334717, 39.2226789),\n",
    "    ('PV','Basque Country', -2.7500000, 43.0000000),\n",
    "    ('CN','Canary Islands', -15.5000000, 28.0000000),\n",
    "    ('CB','Cantabria', -4.0000000, 43.3333333),\n",
    "    ('CL','Castille and Leon', -4.2500000, 41.6666667),\n",
    "    ('CM','Castille-La Mancha', -3.0000000, 39.5000000),\n",
    "    ('CT','Catalonia', 1.8676758, 41.8204551),\n",
    "    ('EX','Extremadura', -6.0000000, 39.0000000),\n",
    "    ('GA','Galicia', -7.8662109, 42.7550796),\n",
    "    ('RI','La Rioja', -2.5000000, 42.2500000),\n",
    "    ('MD','Madrid', -3.6906338, 40.4252581),\n",
    "    ('MC','Murcia', -1.5000000, 38.0000000),\n",
    "    ('NC','Navarre', -1.6666667, 42.7500000),\n",
    "    ('VC','Valencia', -0.7500000, 39.5000000)],\n",
    "   columns=['region','region_name','long','lat'])"
   ]
  },
  {
   "cell_type": "code",
   "execution_count": 3,
   "metadata": {},
   "outputs": [],
   "source": [
    "dfs = dfs.iloc[:-2,:]\n",
    "dfs.columns = ['region','date','cases','hospitalised','ICU','deaths','recovered']\n",
    "dfs.date = pd.to_datetime(dfs.date, format='%d/%m/%Y')\n",
    "dfs = dfs.sort_values(['region','date'])"
   ]
  },
  {
   "cell_type": "code",
   "execution_count": 4,
   "metadata": {},
   "outputs": [
    {
     "data": {
      "text/html": [
       "<div>\n",
       "<style scoped>\n",
       "    .dataframe tbody tr th:only-of-type {\n",
       "        vertical-align: middle;\n",
       "    }\n",
       "\n",
       "    .dataframe tbody tr th {\n",
       "        vertical-align: top;\n",
       "    }\n",
       "\n",
       "    .dataframe thead th {\n",
       "        text-align: right;\n",
       "    }\n",
       "</style>\n",
       "<table border=\"1\" class=\"dataframe\">\n",
       "  <thead>\n",
       "    <tr style=\"text-align: right;\">\n",
       "      <th></th>\n",
       "      <th>region</th>\n",
       "      <th>date</th>\n",
       "      <th>cases</th>\n",
       "      <th>hospitalised</th>\n",
       "      <th>ICU</th>\n",
       "      <th>deaths</th>\n",
       "      <th>recovered</th>\n",
       "      <th>region_name</th>\n",
       "    </tr>\n",
       "  </thead>\n",
       "  <tbody>\n",
       "    <tr>\n",
       "      <th>0</th>\n",
       "      <td>AN</td>\n",
       "      <td>2020-02-20</td>\n",
       "      <td>NaN</td>\n",
       "      <td>NaN</td>\n",
       "      <td>NaN</td>\n",
       "      <td>NaN</td>\n",
       "      <td>NaN</td>\n",
       "      <td>Andalusia</td>\n",
       "    </tr>\n",
       "    <tr>\n",
       "      <th>1</th>\n",
       "      <td>AN</td>\n",
       "      <td>2020-02-21</td>\n",
       "      <td>NaN</td>\n",
       "      <td>NaN</td>\n",
       "      <td>NaN</td>\n",
       "      <td>NaN</td>\n",
       "      <td>NaN</td>\n",
       "      <td>Andalusia</td>\n",
       "    </tr>\n",
       "    <tr>\n",
       "      <th>2</th>\n",
       "      <td>AN</td>\n",
       "      <td>2020-02-22</td>\n",
       "      <td>NaN</td>\n",
       "      <td>NaN</td>\n",
       "      <td>NaN</td>\n",
       "      <td>NaN</td>\n",
       "      <td>NaN</td>\n",
       "      <td>Andalusia</td>\n",
       "    </tr>\n",
       "    <tr>\n",
       "      <th>3</th>\n",
       "      <td>AN</td>\n",
       "      <td>2020-02-23</td>\n",
       "      <td>NaN</td>\n",
       "      <td>NaN</td>\n",
       "      <td>NaN</td>\n",
       "      <td>NaN</td>\n",
       "      <td>NaN</td>\n",
       "      <td>Andalusia</td>\n",
       "    </tr>\n",
       "    <tr>\n",
       "      <th>4</th>\n",
       "      <td>AN</td>\n",
       "      <td>2020-02-24</td>\n",
       "      <td>NaN</td>\n",
       "      <td>NaN</td>\n",
       "      <td>NaN</td>\n",
       "      <td>NaN</td>\n",
       "      <td>NaN</td>\n",
       "      <td>Andalusia</td>\n",
       "    </tr>\n",
       "  </tbody>\n",
       "</table>\n",
       "</div>"
      ],
      "text/plain": [
       "  region       date  cases  hospitalised  ICU  deaths  recovered region_name\n",
       "0     AN 2020-02-20    NaN           NaN  NaN     NaN        NaN   Andalusia\n",
       "1     AN 2020-02-21    NaN           NaN  NaN     NaN        NaN   Andalusia\n",
       "2     AN 2020-02-22    NaN           NaN  NaN     NaN        NaN   Andalusia\n",
       "3     AN 2020-02-23    NaN           NaN  NaN     NaN        NaN   Andalusia\n",
       "4     AN 2020-02-24    NaN           NaN  NaN     NaN        NaN   Andalusia"
      ]
     },
     "execution_count": 4,
     "metadata": {},
     "output_type": "execute_result"
    }
   ],
   "source": [
    "dfs = pd.merge(dfs, df_loc[['region','region_name']], how='inner', on='region')\n",
    "dfs.head()"
   ]
  },
  {
   "cell_type": "code",
   "execution_count": 5,
   "metadata": {},
   "outputs": [],
   "source": [
    "###############################################################################\n",
    "#### Line Graph\n",
    "\n",
    "coloursp = ['#636EFA', '#EF553B', '#00CC96', '#AB63FA', '#FFA15A', '#19D3F3',\n",
    "'#FF6692', '#B6E880', '#FF97FF', '#FECB52', '#636EFA', '#EF553B', '#00CC96',\n",
    "'#AB63FA', '#FFA15A', '#19D3F3', '#FF6692', '#B6E880', '#FF97FF']\n",
    "\n",
    "color_balck = 'rgb(67,67,67)'\n"
   ]
  },
  {
   "cell_type": "code",
   "execution_count": 6,
   "metadata": {},
   "outputs": [],
   "source": [
    "###############################################################################\n",
    "### Confirmed\n",
    "\n",
    "dfs_pivot_c= dfs.pivot(index='date', columns='region_name',values='cases')\n",
    "\n",
    "dfs_norm_10case = []\n",
    "for column in dfs_pivot_c.columns:\n",
    "    dfs_norm_10case.append(dfs_pivot_c[column][dfs_pivot_c[column] >= 10].values)\n",
    "\n",
    "dfs_norm_10case = pd.DataFrame(dfs_norm_10case).T\n",
    "\n",
    "dfs_norm_10case.columns = dfs_pivot_c.columns\n",
    "\n",
    "dfs_norm_10case = dfs_norm_10case.dropna(how='all',axis = 1)\n",
    "\n",
    "y_cutoff = dfs_norm_10case.max().max() + dfs_norm_10case.max().max() * 0.2\n",
    "x_start = 10\n",
    "every_1day = [x_start]\n",
    "every_2days = [x_start]\n",
    "every_3days = [x_start]\n",
    "every_4days = [x_start]\n",
    "every_week = [x_start]\n",
    "for i in range(1,dfs_norm_10case.shape[0] + 10):\n",
    "    x = x_start * (2 ** i)\n",
    "    if x > y_cutoff:\n",
    "        x = None\n",
    "        every_1day.append(x)\n",
    "    else: every_1day.append(x)\n",
    "    y = x_start * ((2 ** (1/2)) ** i)\n",
    "    if y > y_cutoff:\n",
    "        y = None\n",
    "        every_2days.append(y)\n",
    "    else: every_2days.append(y)\n",
    "    z = x_start * ((2**(1/3)) ** i)\n",
    "    if z > y_cutoff:\n",
    "        z = None\n",
    "        every_3days.append(z)\n",
    "    else: every_3days.append(z)\n",
    "    v = x_start * ((2**(1/4)) ** i)\n",
    "    if v > y_cutoff:\n",
    "        v = None\n",
    "        every_4days.append(v)\n",
    "    else: every_4days.append(v)\n",
    "    w = x_start * ((2**(1/7)) ** i)\n",
    "    if w > y_cutoff:\n",
    "        w = None\n",
    "        every_week.append(w)\n",
    "    else: every_week.append(w)\n",
    "\n",
    "Lines_cs = pd.DataFrame(every_1day,columns=['every 1 day'],dtype=np.float64)\n",
    "Lines_cs['every 2 days'] = pd.DataFrame(every_2days)\n",
    "Lines_cs['every 3 days'] = pd.DataFrame(every_3days)\n",
    "Lines_cs['every 4 days'] = pd.DataFrame(every_4days)\n",
    "Lines_cs['every week'] = pd.DataFrame(every_week)"
   ]
  },
  {
   "cell_type": "code",
   "execution_count": 146,
   "metadata": {},
   "outputs": [
    {
     "data": {
      "application/vnd.plotly.v1+json": {
       "config": {
        "plotlyServerURL": "https://plot.ly"
       },
       "data": [
        {
         "hovertemplate": "%{y:.0f}",
         "line": {
          "color": "#636EFA"
         },
         "mode": "lines",
         "name": "Andalusia",
         "opacity": 0.6,
         "type": "scatter",
         "x": [
          0,
          1,
          2,
          3,
          4,
          5,
          6,
          7,
          8,
          9,
          10,
          11,
          12,
          13,
          14,
          15,
          16,
          17,
          18,
          19,
          20,
          21,
          22,
          23,
          24,
          25,
          26,
          27,
          28,
          29,
          30,
          31,
          32,
          33,
          34,
          35,
          36,
          37,
          38,
          39
         ],
         "y": [
          12,
          12,
          12,
          12,
          12,
          21,
          27,
          34,
          54,
          71,
          90,
          115,
          219,
          269,
          437,
          554,
          683,
          859,
          1008,
          1287,
          1515,
          1725,
          1961,
          2471,
          3010,
          3406,
          3793,
          4277,
          4682,
          5405,
          5818,
          6392,
          6972,
          7374,
          7869,
          8301,
          8581,
          8767,
          8997,
          null
         ]
        },
        {
         "hoverinfo": "skip",
         "marker": {
          "color": "#636EFA",
          "size": 5
         },
         "mode": "markers",
         "opacity": 0.6,
         "showlegend": false,
         "type": "scatter",
         "x": [
          38
         ],
         "y": [
          8997
         ]
        },
        {
         "hovertemplate": "%{y:.0f}",
         "line": {
          "color": "#EF553B"
         },
         "mode": "lines",
         "name": "Aragon",
         "opacity": 0.6,
         "type": "scatter",
         "x": [
          0,
          1,
          2,
          3,
          4,
          5,
          6,
          7,
          8,
          9,
          10,
          11,
          12,
          13,
          14,
          15,
          16,
          17,
          18,
          19,
          20,
          21,
          22,
          23,
          24,
          25,
          26,
          27,
          28,
          29,
          30,
          31,
          32,
          33,
          34,
          35,
          36,
          37,
          38,
          39
         ],
         "y": [
          11,
          11,
          13,
          38,
          45,
          64,
          80,
          121,
          147,
          174,
          207,
          226,
          281,
          360,
          424,
          532,
          638,
          758,
          907,
          1116,
          1338,
          1592,
          1858,
          2078,
          2272,
          2491,
          2700,
          2889,
          3078,
          3232,
          3347,
          3449,
          3549,
          null,
          null,
          null,
          null,
          null,
          null,
          null
         ]
        },
        {
         "hoverinfo": "skip",
         "marker": {
          "color": "#EF553B",
          "size": 5
         },
         "mode": "markers",
         "opacity": 0.6,
         "showlegend": false,
         "type": "scatter",
         "x": [
          32
         ],
         "y": [
          3549
         ]
        },
        {
         "hovertemplate": "%{y:.0f}",
         "line": {
          "color": "#00CC96"
         },
         "mode": "lines",
         "name": "Asturias",
         "opacity": 0.6,
         "type": "scatter",
         "x": [
          0,
          1,
          2,
          3,
          4,
          5,
          6,
          7,
          8,
          9,
          10,
          11,
          12,
          13,
          14,
          15,
          16,
          17,
          18,
          19,
          20,
          21,
          22,
          23,
          24,
          25,
          26,
          27,
          28,
          29,
          30,
          31,
          32,
          33,
          34,
          35,
          36,
          37,
          38,
          39
         ],
         "y": [
          22,
          32,
          47,
          67,
          92,
          137,
          177,
          193,
          242,
          292,
          344,
          486,
          545,
          594,
          662,
          779,
          841,
          900,
          1004,
          1088,
          1158,
          1236,
          1322,
          1384,
          1433,
          1522,
          1605,
          1646,
          1679,
          1705,
          null,
          null,
          null,
          null,
          null,
          null,
          null,
          null,
          null,
          null
         ]
        },
        {
         "hoverinfo": "skip",
         "marker": {
          "color": "#00CC96",
          "size": 5
         },
         "mode": "markers",
         "opacity": 0.6,
         "showlegend": false,
         "type": "scatter",
         "x": [
          29
         ],
         "y": [
          1705
         ]
        },
        {
         "hovertemplate": "%{y:.0f}",
         "line": {
          "color": "#AB63FA"
         },
         "mode": "lines",
         "name": "Balearic Islands",
         "opacity": 0.6,
         "type": "scatter",
         "x": [
          0,
          1,
          2,
          3,
          4,
          5,
          6,
          7,
          8,
          9,
          10,
          11,
          12,
          13,
          14,
          15,
          16,
          17,
          18,
          19,
          20,
          21,
          22,
          23,
          24,
          25,
          26,
          27,
          28,
          29,
          30,
          31,
          32,
          33,
          34,
          35,
          36,
          37,
          38,
          39
         ],
         "y": [
          11,
          13,
          16,
          22,
          28,
          28,
          42,
          73,
          92,
          112,
          169,
          203,
          246,
          331,
          400,
          478,
          562,
          660,
          755,
          862,
          958,
          1000,
          1069,
          1131,
          1204,
          1257,
          1271,
          1293,
          1320,
          1369,
          1412,
          null,
          null,
          null,
          null,
          null,
          null,
          null,
          null,
          null
         ]
        },
        {
         "hoverinfo": "skip",
         "marker": {
          "color": "#AB63FA",
          "size": 5
         },
         "mode": "markers",
         "opacity": 0.6,
         "showlegend": false,
         "type": "scatter",
         "x": [
          30
         ],
         "y": [
          1412
         ]
        },
        {
         "hovertemplate": "%{y:.0f}",
         "line": {
          "color": "#FFA15A"
         },
         "mode": "lines",
         "name": "Basque Country",
         "opacity": 0.6,
         "type": "scatter",
         "x": [
          0,
          1,
          2,
          3,
          4,
          5,
          6,
          7,
          8,
          9,
          10,
          11,
          12,
          13,
          14,
          15,
          16,
          17,
          18,
          19,
          20,
          21,
          22,
          23,
          24,
          25,
          26,
          27,
          28,
          29,
          30,
          31,
          32,
          33,
          34,
          35,
          36,
          37,
          38,
          39
         ],
         "y": [
          13,
          17,
          17,
          45,
          45,
          70,
          149,
          195,
          225,
          346,
          417,
          521,
          630,
          630,
          765,
          973,
          1190,
          1465,
          1725,
          2097,
          2421,
          2728,
          3271,
          3946,
          4601,
          5136,
          5740,
          6057,
          6320,
          6838,
          7317,
          7827,
          8187,
          8628,
          8810,
          9021,
          9452,
          null,
          null,
          null
         ]
        },
        {
         "hoverinfo": "skip",
         "marker": {
          "color": "#FFA15A",
          "size": 5
         },
         "mode": "markers",
         "opacity": 0.6,
         "showlegend": false,
         "type": "scatter",
         "x": [
          36
         ],
         "y": [
          9452
         ]
        },
        {
         "hovertemplate": "%{y:.0f}",
         "line": {
          "color": "#19D3F3"
         },
         "mode": "lines",
         "name": "Canary Islands",
         "opacity": 0.6,
         "type": "scatter",
         "x": [
          0,
          1,
          2,
          3,
          4,
          5,
          6,
          7,
          8,
          9,
          10,
          11,
          12,
          13,
          14,
          15,
          16,
          17,
          18,
          19,
          20,
          21,
          22,
          23,
          24,
          25,
          26,
          27,
          28,
          29,
          30,
          31,
          32,
          33,
          34,
          35,
          36,
          37,
          38,
          39
         ],
         "y": [
          11,
          11,
          17,
          22,
          25,
          37,
          51,
          70,
          90,
          109,
          119,
          148,
          181,
          220,
          287,
          348,
          414,
          481,
          557,
          657,
          784,
          878,
          1025,
          1125,
          1204,
          1262,
          1380,
          1444,
          1490,
          1564,
          1622,
          1649,
          1725,
          1762,
          null,
          null,
          null,
          null,
          null,
          null
         ]
        },
        {
         "hoverinfo": "skip",
         "marker": {
          "color": "#19D3F3",
          "size": 5
         },
         "mode": "markers",
         "opacity": 0.6,
         "showlegend": false,
         "type": "scatter",
         "x": [
          33
         ],
         "y": [
          1762
         ]
        },
        {
         "hovertemplate": "%{y:.0f}",
         "line": {
          "color": "#FF6692"
         },
         "mode": "lines",
         "name": "Cantabria",
         "opacity": 0.6,
         "type": "scatter",
         "x": [
          0,
          1,
          2,
          3,
          4,
          5,
          6,
          7,
          8,
          9,
          10,
          11,
          12,
          13,
          14,
          15,
          16,
          17,
          18,
          19,
          20,
          21,
          22,
          23,
          24,
          25,
          26,
          27,
          28,
          29,
          30,
          31,
          32,
          33,
          34,
          35,
          36,
          37,
          38,
          39
         ],
         "y": [
          10,
          10,
          10,
          10,
          10,
          10,
          12,
          12,
          12,
          12,
          16,
          29,
          31,
          51,
          58,
          58,
          68,
          83,
          144,
          215,
          282,
          347,
          425,
          510,
          671,
          810,
          937,
          1023,
          1100,
          1171,
          1213,
          1268,
          1321,
          1384,
          1441,
          1483,
          1501,
          1572,
          null,
          null
         ]
        },
        {
         "hoverinfo": "skip",
         "marker": {
          "color": "#FF6692",
          "size": 5
         },
         "mode": "markers",
         "opacity": 0.6,
         "showlegend": false,
         "type": "scatter",
         "x": [
          37
         ],
         "y": [
          1572
         ]
        },
        {
         "hovertemplate": "%{y:.0f}",
         "line": {
          "color": "#B6E880"
         },
         "mode": "lines",
         "name": "Castille and Leon",
         "opacity": 0.6,
         "type": "scatter",
         "x": [
          0,
          1,
          2,
          3,
          4,
          5,
          6,
          7,
          8,
          9,
          10,
          11,
          12,
          13,
          14,
          15,
          16,
          17,
          18,
          19,
          20,
          21,
          22,
          23,
          24,
          25,
          26,
          27,
          28,
          29,
          30,
          31,
          32,
          33,
          34,
          35,
          36,
          37,
          38,
          39
         ],
         "y": [
          12,
          13,
          14,
          21,
          30,
          40,
          64,
          71,
          92,
          169,
          223,
          292,
          431,
          668,
          868,
          1147,
          1466,
          1744,
          2055,
          2460,
          2940,
          3488,
          4132,
          4791,
          5414,
          5801,
          6211,
          6847,
          7355,
          7875,
          8332,
          8749,
          9116,
          9581,
          10058,
          null,
          null,
          null,
          null,
          null
         ]
        },
        {
         "hoverinfo": "skip",
         "marker": {
          "color": "#B6E880",
          "size": 5
         },
         "mode": "markers",
         "opacity": 0.6,
         "showlegend": false,
         "type": "scatter",
         "x": [
          34
         ],
         "y": [
          10058
         ]
        },
        {
         "hovertemplate": "%{y:.0f}",
         "line": {
          "color": "#FF97FF"
         },
         "mode": "lines",
         "name": "Castille-La Mancha",
         "opacity": 0.6,
         "type": "scatter",
         "x": [
          0,
          1,
          2,
          3,
          4,
          5,
          6,
          7,
          8,
          9,
          10,
          11,
          12,
          13,
          14,
          15,
          16,
          17,
          18,
          19,
          20,
          21,
          22,
          23,
          24,
          25,
          26,
          27,
          28,
          29,
          30,
          31,
          32,
          33,
          34,
          35,
          36,
          37,
          38,
          39
         ],
         "y": [
          12,
          13,
          15,
          15,
          15,
          26,
          39,
          71,
          115,
          194,
          289,
          401,
          567,
          567,
          675,
          801,
          1044,
          1423,
          1819,
          2078,
          2465,
          2780,
          3383,
          3934,
          4512,
          5246,
          5858,
          6424,
          7047,
          7682,
          8523,
          9324,
          10031,
          10602,
          11077,
          11788,
          null,
          null,
          null,
          null
         ]
        },
        {
         "hoverinfo": "skip",
         "marker": {
          "color": "#FF97FF",
          "size": 5
         },
         "mode": "markers",
         "opacity": 0.6,
         "showlegend": false,
         "type": "scatter",
         "x": [
          35
         ],
         "y": [
          11788
         ]
        },
        {
         "hovertemplate": "%{y:.0f}",
         "line": {
          "color": "#FECB52"
         },
         "mode": "lines",
         "name": "Catalonia",
         "opacity": 0.6,
         "type": "scatter",
         "x": [
          0,
          1,
          2,
          3,
          4,
          5,
          6,
          7,
          8,
          9,
          10,
          11,
          12,
          13,
          14,
          15,
          16,
          17,
          18,
          19,
          20,
          21,
          22,
          23,
          24,
          25,
          26,
          27,
          28,
          29,
          30,
          31,
          32,
          33,
          34,
          35,
          36,
          37,
          38,
          39
         ],
         "y": [
          15,
          15,
          15,
          24,
          24,
          24,
          49,
          75,
          124,
          156,
          260,
          316,
          509,
          715,
          903,
          1394,
          1866,
          2702,
          3270,
          4203,
          4704,
          5925,
          7864,
          9937,
          11592,
          12940,
          14263,
          15026,
          16157,
          18773,
          19991,
          21804,
          23460,
          24734,
          26032,
          26824,
          28323,
          29647,
          null,
          null
         ]
        },
        {
         "hoverinfo": "skip",
         "marker": {
          "color": "#FECB52",
          "size": 5
         },
         "mode": "markers",
         "opacity": 0.6,
         "showlegend": false,
         "type": "scatter",
         "x": [
          37
         ],
         "y": [
          29647
         ]
        },
        {
         "hovertemplate": "%{y:.0f}",
         "line": {
          "color": "#636EFA"
         },
         "mode": "lines",
         "name": "Extremadura",
         "opacity": 0.6,
         "type": "scatter",
         "x": [
          0,
          1,
          2,
          3,
          4,
          5,
          6,
          7,
          8,
          9,
          10,
          11,
          12,
          13,
          14,
          15,
          16,
          17,
          18,
          19,
          20,
          21,
          22,
          23,
          24,
          25,
          26,
          27,
          28,
          29,
          30,
          31,
          32,
          33,
          34,
          35,
          36,
          37,
          38,
          39
         ],
         "y": [
          19,
          39,
          66,
          95,
          111,
          153,
          194,
          241,
          297,
          354,
          384,
          493,
          636,
          742,
          969,
          1231,
          1394,
          1456,
          1560,
          1628,
          1679,
          1837,
          1893,
          1979,
          2047,
          2068,
          2116,
          2184,
          null,
          null,
          null,
          null,
          null,
          null,
          null,
          null,
          null,
          null,
          null,
          null
         ]
        },
        {
         "hoverinfo": "skip",
         "marker": {
          "color": "#636EFA",
          "size": 5
         },
         "mode": "markers",
         "opacity": 0.6,
         "showlegend": false,
         "type": "scatter",
         "x": [
          27
         ],
         "y": [
          2184
         ]
        },
        {
         "hovertemplate": "%{y:.0f}",
         "line": {
          "color": "#EF553B"
         },
         "mode": "lines",
         "name": "Galicia",
         "opacity": 0.6,
         "type": "scatter",
         "x": [
          0,
          1,
          2,
          3,
          4,
          5,
          6,
          7,
          8,
          9,
          10,
          11,
          12,
          13,
          14,
          15,
          16,
          17,
          18,
          19,
          20,
          21,
          22,
          23,
          24,
          25,
          26,
          27,
          28,
          29,
          30,
          31,
          32,
          33,
          34,
          35,
          36,
          37,
          38,
          39
         ],
         "y": [
          22,
          35,
          35,
          85,
          115,
          195,
          245,
          292,
          341,
          453,
          578,
          739,
          915,
          1208,
          1415,
          1653,
          1915,
          2322,
          2772,
          3139,
          3723,
          4039,
          4432,
          4842,
          5219,
          5625,
          5944,
          6151,
          6331,
          6538,
          null,
          null,
          null,
          null,
          null,
          null,
          null,
          null,
          null,
          null
         ]
        },
        {
         "hoverinfo": "skip",
         "marker": {
          "color": "#EF553B",
          "size": 5
         },
         "mode": "markers",
         "opacity": 0.6,
         "showlegend": false,
         "type": "scatter",
         "x": [
          29
         ],
         "y": [
          6538
         ]
        },
        {
         "hovertemplate": "%{y:.0f}",
         "line": {
          "color": "#00CC96"
         },
         "mode": "lines",
         "name": "La Rioja",
         "opacity": 0.6,
         "type": "scatter",
         "x": [
          0,
          1,
          2,
          3,
          4,
          5,
          6,
          7,
          8,
          9,
          10,
          11,
          12,
          13,
          14,
          15,
          16,
          17,
          18,
          19,
          20,
          21,
          22,
          23,
          24,
          25,
          26,
          27,
          28,
          29,
          30,
          31,
          32,
          33,
          34,
          35,
          36,
          37,
          38,
          39
         ],
         "y": [
          11,
          29,
          39,
          55,
          81,
          144,
          179,
          205,
          243,
          278,
          300,
          312,
          355,
          419,
          468,
          497,
          564,
          654,
          747,
          802,
          928,
          995,
          1236,
          1436,
          1629,
          1733,
          1810,
          1960,
          2083,
          2224,
          2405,
          2592,
          2719,
          2846,
          2951,
          null,
          null,
          null,
          null,
          null
         ]
        },
        {
         "hoverinfo": "skip",
         "marker": {
          "color": "#00CC96",
          "size": 5
         },
         "mode": "markers",
         "opacity": 0.6,
         "showlegend": false,
         "type": "scatter",
         "x": [
          34
         ],
         "y": [
          2951
         ]
        },
        {
         "hovertemplate": "%{y:.0f}",
         "line": {
          "color": "#AB63FA"
         },
         "mode": "lines",
         "name": "Madrid",
         "opacity": 0.6,
         "type": "scatter",
         "x": [
          0,
          1,
          2,
          3,
          4,
          5,
          6,
          7,
          8,
          9,
          10,
          11,
          12,
          13,
          14,
          15,
          16,
          17,
          18,
          19,
          20,
          21,
          22,
          23,
          24,
          25,
          26,
          27,
          28,
          29,
          30,
          31,
          32,
          33,
          34,
          35,
          36,
          37,
          38,
          39
         ],
         "y": [
          10,
          29,
          49,
          70,
          90,
          137,
          137,
          175,
          469,
          782,
          1024,
          1388,
          1990,
          2940,
          3544,
          4165,
          4871,
          5637,
          6777,
          7165,
          8921,
          9702,
          10575,
          12352,
          14597,
          17166,
          19243,
          21520,
          22677,
          24090,
          27509,
          29840,
          32155,
          34188,
          36249,
          37584,
          38723,
          40469,
          42450,
          null
         ]
        },
        {
         "hoverinfo": "skip",
         "marker": {
          "color": "#AB63FA",
          "size": 5
         },
         "mode": "markers",
         "opacity": 0.6,
         "showlegend": false,
         "type": "scatter",
         "x": [
          38
         ],
         "y": [
          42450
         ]
        },
        {
         "hovertemplate": "%{y:.0f}",
         "line": {
          "color": "#FFA15A"
         },
         "mode": "lines",
         "name": "Murcia",
         "opacity": 0.6,
         "type": "scatter",
         "x": [
          0,
          1,
          2,
          3,
          4,
          5,
          6,
          7,
          8,
          9,
          10,
          11,
          12,
          13,
          14,
          15,
          16,
          17,
          18,
          19,
          20,
          21,
          22,
          23,
          24,
          25,
          26,
          27,
          28,
          29,
          30,
          31,
          32,
          33,
          34,
          35,
          36,
          37,
          38,
          39
         ],
         "y": [
          11,
          26,
          35,
          47,
          71,
          77,
          97,
          122,
          167,
          204,
          240,
          296,
          345,
          385,
          477,
          596,
          714,
          802,
          872,
          939,
          974,
          1041,
          1084,
          1145,
          1188,
          1235,
          1259,
          1283,
          1326,
          null,
          null,
          null,
          null,
          null,
          null,
          null,
          null,
          null,
          null,
          null
         ]
        },
        {
         "hoverinfo": "skip",
         "marker": {
          "color": "#FFA15A",
          "size": 5
         },
         "mode": "markers",
         "opacity": 0.6,
         "showlegend": false,
         "type": "scatter",
         "x": [
          28
         ],
         "y": [
          1326
         ]
        },
        {
         "hovertemplate": "%{y:.0f}",
         "line": {
          "color": "#19D3F3"
         },
         "mode": "lines",
         "name": "Navarre",
         "opacity": 0.6,
         "type": "scatter",
         "x": [
          0,
          1,
          2,
          3,
          4,
          5,
          6,
          7,
          8,
          9,
          10,
          11,
          12,
          13,
          14,
          15,
          16,
          17,
          18,
          19,
          20,
          21,
          22,
          23,
          24,
          25,
          26,
          27,
          28,
          29,
          30,
          31,
          32,
          33,
          34,
          35,
          36,
          37,
          38,
          39
         ],
         "y": [
          12,
          46,
          73,
          130,
          146,
          183,
          274,
          313,
          386,
          482,
          554,
          664,
          794,
          886,
          1014,
          1197,
          1411,
          1641,
          1829,
          2011,
          2146,
          2305,
          2497,
          2682,
          2836,
          2972,
          3073,
          3231,
          3355,
          3467,
          null,
          null,
          null,
          null,
          null,
          null,
          null,
          null,
          null,
          null
         ]
        },
        {
         "hoverinfo": "skip",
         "marker": {
          "color": "#19D3F3",
          "size": 5
         },
         "mode": "markers",
         "opacity": 0.6,
         "showlegend": false,
         "type": "scatter",
         "x": [
          29
         ],
         "y": [
          3467
         ]
        },
        {
         "hovertemplate": "%{y:.0f}",
         "line": {
          "color": "#FF6692"
         },
         "mode": "lines",
         "name": "Valencia",
         "opacity": 0.6,
         "type": "scatter",
         "x": [
          0,
          1,
          2,
          3,
          4,
          5,
          6,
          7,
          8,
          9,
          10,
          11,
          12,
          13,
          14,
          15,
          16,
          17,
          18,
          19,
          20,
          21,
          22,
          23,
          24,
          25,
          26,
          27,
          28,
          29,
          30,
          31,
          32,
          33,
          34,
          35,
          36,
          37,
          38,
          39
         ],
         "y": [
          10,
          15,
          15,
          15,
          19,
          19,
          30,
          30,
          37,
          37,
          50,
          65,
          76,
          94,
          130,
          409,
          409,
          541,
          726,
          921,
          1105,
          1363,
          1604,
          1901,
          2167,
          2616,
          3200,
          3532,
          4034,
          4784,
          5110,
          5508,
          5922,
          6308,
          6624,
          6901,
          7184,
          7334,
          7443,
          7655
         ]
        },
        {
         "hoverinfo": "skip",
         "marker": {
          "color": "#FF6692",
          "size": 5
         },
         "mode": "markers",
         "opacity": 0.6,
         "showlegend": false,
         "type": "scatter",
         "x": [
          39
         ],
         "y": [
          7655
         ]
        },
        {
         "hovertemplate": "Doubles",
         "line": {
          "color": "rgb(67,67,67)",
          "dash": "dash"
         },
         "mode": "lines",
         "name": "every 1 day",
         "opacity": 0.5,
         "type": "scatter",
         "x": [
          0,
          1,
          2,
          3,
          4,
          5,
          6,
          7,
          8,
          9,
          10,
          11,
          12,
          13,
          14,
          15,
          16,
          17,
          18,
          19,
          20,
          21,
          22,
          23,
          24,
          25,
          26,
          27,
          28,
          29,
          30,
          31,
          32,
          33,
          34,
          35,
          36,
          37,
          38,
          39,
          40,
          41,
          42,
          43,
          44,
          45,
          46,
          47,
          48,
          49
         ],
         "y": [
          10,
          20,
          40,
          80,
          160,
          320,
          640,
          1280,
          2560,
          5120,
          10240,
          20480,
          40960,
          null,
          null,
          null,
          null,
          null,
          null,
          null,
          null,
          null,
          null,
          null,
          null,
          null,
          null,
          null,
          null,
          null,
          null,
          null,
          null,
          null,
          null,
          null,
          null,
          null,
          null,
          null,
          null,
          null,
          null,
          null,
          null,
          null,
          null,
          null,
          null,
          null
         ]
        },
        {
         "hovertemplate": "Doubles",
         "line": {
          "color": "rgb(67,67,67)",
          "dash": "dash"
         },
         "mode": "lines",
         "name": "every 2 days",
         "opacity": 0.5,
         "type": "scatter",
         "x": [
          0,
          1,
          2,
          3,
          4,
          5,
          6,
          7,
          8,
          9,
          10,
          11,
          12,
          13,
          14,
          15,
          16,
          17,
          18,
          19,
          20,
          21,
          22,
          23,
          24,
          25,
          26,
          27,
          28,
          29,
          30,
          31,
          32,
          33,
          34,
          35,
          36,
          37,
          38,
          39,
          40,
          41,
          42,
          43,
          44,
          45,
          46,
          47,
          48,
          49
         ],
         "y": [
          10,
          14.142135623730951,
          20.000000000000004,
          28.28427124746191,
          40.00000000000001,
          56.568542494923825,
          80.00000000000003,
          113.13708498984766,
          160.00000000000006,
          226.27416997969533,
          320.0000000000002,
          452.5483399593907,
          640.0000000000006,
          905.0966799187815,
          1280.0000000000011,
          1810.1933598375635,
          2560.0000000000027,
          3620.3867196751276,
          5120.000000000007,
          7240.773439350256,
          10240.000000000015,
          14481.546878700516,
          20480.000000000033,
          28963.093757401035,
          40960.000000000065,
          null,
          null,
          null,
          null,
          null,
          null,
          null,
          null,
          null,
          null,
          null,
          null,
          null,
          null,
          null,
          null,
          null,
          null,
          null,
          null,
          null,
          null,
          null,
          null,
          null
         ]
        },
        {
         "hovertemplate": "Doubles",
         "line": {
          "color": "rgb(67,67,67)",
          "dash": "dash"
         },
         "mode": "lines",
         "name": "every 3 days",
         "opacity": 0.5,
         "type": "scatter",
         "x": [
          0,
          1,
          2,
          3,
          4,
          5,
          6,
          7,
          8,
          9,
          10,
          11,
          12,
          13,
          14,
          15,
          16,
          17,
          18,
          19,
          20,
          21,
          22,
          23,
          24,
          25,
          26,
          27,
          28,
          29,
          30,
          31,
          32,
          33,
          34,
          35,
          36,
          37,
          38,
          39,
          40,
          41,
          42,
          43,
          44,
          45,
          46,
          47,
          48,
          49
         ],
         "y": [
          10,
          12.599210498948732,
          15.874010519681995,
          20,
          25.198420997897465,
          31.74802103936399,
          40.00000000000001,
          50.39684199579494,
          63.496042078727996,
          80.00000000000001,
          100.79368399158987,
          126.99208415745599,
          160.00000000000003,
          201.58736798317975,
          253.984168314912,
          320.00000000000006,
          403.17473596635955,
          507.968336629824,
          640.0000000000002,
          806.3494719327191,
          1015.936673259648,
          1280.0000000000005,
          1612.6989438654382,
          2031.8733465192963,
          2560.000000000001,
          3225.3978877308773,
          4063.7466930385926,
          5120.000000000002,
          6450.795775461755,
          8127.493386077186,
          10240.000000000007,
          12901.59155092351,
          16254.986772154372,
          20480.000000000015,
          25803.183101847022,
          32509.97354430875,
          40960.00000000003,
          null,
          null,
          null,
          null,
          null,
          null,
          null,
          null,
          null,
          null,
          null,
          null,
          null
         ]
        },
        {
         "hovertemplate": "Doubles",
         "line": {
          "color": "rgb(67,67,67)",
          "dash": "dash"
         },
         "mode": "lines",
         "name": "every 4 days",
         "opacity": 0.5,
         "type": "scatter",
         "x": [
          0,
          1,
          2,
          3,
          4,
          5,
          6,
          7,
          8,
          9,
          10,
          11,
          12,
          13,
          14,
          15,
          16,
          17,
          18,
          19,
          20,
          21,
          22,
          23,
          24,
          25,
          26,
          27,
          28,
          29,
          30,
          31,
          32,
          33,
          34,
          35,
          36,
          37,
          38,
          39,
          40,
          41,
          42,
          43,
          44,
          45,
          46,
          47,
          48,
          49
         ],
         "y": [
          10,
          11.89207115002721,
          14.14213562373095,
          16.81792830507429,
          19.999999999999996,
          23.784142300054416,
          28.284271247461895,
          33.63585661014858,
          39.99999999999999,
          47.56828460010883,
          56.568542494923776,
          67.27171322029714,
          79.99999999999997,
          95.13656920021765,
          113.13708498984755,
          134.54342644059426,
          159.99999999999991,
          190.27313840043524,
          226.27416997969507,
          269.0868528811885,
          319.9999999999998,
          380.54627680087043,
          452.5483399593901,
          538.1737057623769,
          639.9999999999995,
          761.0925536017409,
          905.0966799187801,
          1076.3474115247536,
          1279.9999999999989,
          1522.1851072034815,
          1810.19335983756,
          2152.6948230495072,
          2559.9999999999973,
          3044.3702144069625,
          3620.386719675119,
          4305.389646099013,
          5119.999999999994,
          6088.740428813925,
          7240.773439350237,
          8610.779292198025,
          10239.999999999985,
          12177.480857627848,
          14481.546878700474,
          17221.558584396047,
          20479.99999999997,
          24354.96171525569,
          28963.093757400944,
          34443.117168792094,
          40959.999999999935,
          48709.92343051137
         ]
        },
        {
         "hovertemplate": "Doubles",
         "line": {
          "color": "rgb(67,67,67)",
          "dash": "dash"
         },
         "mode": "lines",
         "name": "every week",
         "opacity": 0.5,
         "type": "scatter",
         "x": [
          0,
          1,
          2,
          3,
          4,
          5,
          6,
          7,
          8,
          9,
          10,
          11,
          12,
          13,
          14,
          15,
          16,
          17,
          18,
          19,
          20,
          21,
          22,
          23,
          24,
          25,
          26,
          27,
          28,
          29,
          30,
          31,
          32,
          33,
          34,
          35,
          36,
          37,
          38,
          39,
          40,
          41,
          42,
          43,
          44,
          45,
          46,
          47,
          48,
          49
         ],
         "y": [
          10,
          11.040895136738122,
          12.190136542044751,
          13.459001926323557,
          14.85994289136948,
          16.406707120152753,
          18.114473285278127,
          19.99999999999999,
          22.08179027347623,
          24.380273084089488,
          26.9180038526471,
          29.71988578273894,
          32.81341424030549,
          36.22894657055623,
          39.99999999999996,
          44.163580546952446,
          48.760546168178955,
          53.83600770529418,
          59.439771565477855,
          65.62682848061094,
          72.45789314111242,
          79.99999999999987,
          88.32716109390483,
          97.52109233635785,
          107.67201541058827,
          118.87954313095564,
          131.2536569612218,
          144.91578628222476,
          159.99999999999966,
          176.65432218780956,
          195.0421846727156,
          215.34403082117646,
          237.75908626191114,
          262.5073139224435,
          289.83157256444935,
          319.9999999999991,
          353.30864437561894,
          390.084369345431,
          430.6880616423527,
          475.518172523822,
          525.0146278448866,
          579.6631451288983,
          639.9999999999978,
          706.6172887512375,
          780.1687386908616,
          861.3761232847048,
          951.0363450476436,
          1050.0292556897725,
          1159.3262902577962,
          1279.999999999995
         ]
        }
       ],
       "layout": {
        "annotations": [
         {
          "font": {
           "family": "Arial",
           "size": 12
          },
          "showarrow": false,
          "text": "AN",
          "x": 38,
          "xanchor": "left",
          "xref": "x",
          "y": 3.9540977204791896,
          "yanchor": "middle",
          "yref": "y"
         },
         {
          "font": {
           "family": "Arial",
           "size": 12
          },
          "showarrow": false,
          "text": "AR",
          "x": 32,
          "xanchor": "left",
          "xref": "x",
          "y": 3.550105999347593,
          "yanchor": "middle",
          "yref": "y"
         },
         {
          "font": {
           "family": "Arial",
           "size": 12
          },
          "showarrow": false,
          "text": "AS",
          "x": 29,
          "xanchor": "left",
          "xref": "x",
          "y": 3.2317243833285163,
          "yanchor": "middle",
          "yref": "y"
         },
         {
          "font": {
           "family": "Arial",
           "size": 12
          },
          "showarrow": false,
          "text": "IB",
          "x": 30,
          "xanchor": "left",
          "xref": "x",
          "y": 3.149834696715785,
          "yanchor": "middle",
          "yref": "y"
         },
         {
          "font": {
           "family": "Arial",
           "size": 12
          },
          "showarrow": false,
          "text": "PV",
          "x": 36,
          "xanchor": "left",
          "xref": "x",
          "y": 3.9755237129603316,
          "yanchor": "middle",
          "yref": "y"
         },
         {
          "font": {
           "family": "Arial",
           "size": 12
          },
          "showarrow": false,
          "text": "CN",
          "x": 33,
          "xanchor": "left",
          "xref": "x",
          "y": 3.246005904076029,
          "yanchor": "middle",
          "yref": "y"
         },
         {
          "font": {
           "family": "Arial",
           "size": 12
          },
          "showarrow": false,
          "text": "CB",
          "x": 37,
          "xanchor": "left",
          "xref": "x",
          "y": 3.196452541703389,
          "yanchor": "middle",
          "yref": "y"
         },
         {
          "font": {
           "family": "Arial",
           "size": 12
          },
          "showarrow": false,
          "text": "CL",
          "x": 34,
          "xanchor": "left",
          "xref": "x",
          "y": 4.002511631284908,
          "yanchor": "middle",
          "yref": "y"
         },
         {
          "font": {
           "family": "Arial",
           "size": 12
          },
          "showarrow": false,
          "text": "CM",
          "x": 35,
          "xanchor": "left",
          "xref": "x",
          "y": 4.071440127177888,
          "yanchor": "middle",
          "yref": "y"
         },
         {
          "font": {
           "family": "Arial",
           "size": 12
          },
          "showarrow": false,
          "text": "CT",
          "x": 37,
          "xanchor": "left",
          "xref": "x",
          "y": 4.471980753370996,
          "yanchor": "middle",
          "yref": "y"
         },
         {
          "font": {
           "family": "Arial",
           "size": 12
          },
          "showarrow": false,
          "text": "EX",
          "x": 27,
          "xanchor": "left",
          "xref": "x",
          "y": 3.3392526340327,
          "yanchor": "middle",
          "yref": "y"
         },
         {
          "font": {
           "family": "Arial",
           "size": 12
          },
          "showarrow": false,
          "text": "GA",
          "x": 29,
          "xanchor": "left",
          "xref": "x",
          "y": 3.81544491624435,
          "yanchor": "middle",
          "yref": "y"
         },
         {
          "font": {
           "family": "Arial",
           "size": 12
          },
          "showarrow": false,
          "text": "RI",
          "x": 34,
          "xanchor": "left",
          "xref": "x",
          "y": 3.4699692094999595,
          "yanchor": "middle",
          "yref": "y"
         },
         {
          "font": {
           "family": "Arial",
           "size": 12
          },
          "showarrow": false,
          "text": "MD",
          "x": 38,
          "xanchor": "left",
          "xref": "x",
          "y": 4.627877694579971,
          "yanchor": "middle",
          "yref": "y"
         },
         {
          "font": {
           "family": "Arial",
           "size": 12
          },
          "showarrow": false,
          "text": "MC",
          "x": 28,
          "xanchor": "left",
          "xref": "x",
          "y": 3.1225435240687545,
          "yanchor": "middle",
          "yref": "y"
         },
         {
          "font": {
           "family": "Arial",
           "size": 12
          },
          "showarrow": false,
          "text": "NC",
          "x": 29,
          "xanchor": "left",
          "xref": "x",
          "y": 3.5399538416563967,
          "yanchor": "middle",
          "yref": "y"
         },
         {
          "font": {
           "family": "Arial",
           "size": 12
          },
          "showarrow": false,
          "text": "VC",
          "x": 39,
          "xanchor": "left",
          "xref": "x",
          "y": 3.88394519503428,
          "yanchor": "middle",
          "yref": "y"
         }
        ],
        "height": 500,
        "hovermode": "x",
        "template": {
         "data": {
          "bar": [
           {
            "error_x": {
             "color": "#2a3f5f"
            },
            "error_y": {
             "color": "#2a3f5f"
            },
            "marker": {
             "line": {
              "color": "white",
              "width": 0.5
             }
            },
            "type": "bar"
           }
          ],
          "barpolar": [
           {
            "marker": {
             "line": {
              "color": "white",
              "width": 0.5
             }
            },
            "type": "barpolar"
           }
          ],
          "carpet": [
           {
            "aaxis": {
             "endlinecolor": "#2a3f5f",
             "gridcolor": "#C8D4E3",
             "linecolor": "#C8D4E3",
             "minorgridcolor": "#C8D4E3",
             "startlinecolor": "#2a3f5f"
            },
            "baxis": {
             "endlinecolor": "#2a3f5f",
             "gridcolor": "#C8D4E3",
             "linecolor": "#C8D4E3",
             "minorgridcolor": "#C8D4E3",
             "startlinecolor": "#2a3f5f"
            },
            "type": "carpet"
           }
          ],
          "choropleth": [
           {
            "colorbar": {
             "outlinewidth": 0,
             "ticks": ""
            },
            "type": "choropleth"
           }
          ],
          "contour": [
           {
            "colorbar": {
             "outlinewidth": 0,
             "ticks": ""
            },
            "colorscale": [
             [
              0,
              "#0d0887"
             ],
             [
              0.1111111111111111,
              "#46039f"
             ],
             [
              0.2222222222222222,
              "#7201a8"
             ],
             [
              0.3333333333333333,
              "#9c179e"
             ],
             [
              0.4444444444444444,
              "#bd3786"
             ],
             [
              0.5555555555555556,
              "#d8576b"
             ],
             [
              0.6666666666666666,
              "#ed7953"
             ],
             [
              0.7777777777777778,
              "#fb9f3a"
             ],
             [
              0.8888888888888888,
              "#fdca26"
             ],
             [
              1,
              "#f0f921"
             ]
            ],
            "type": "contour"
           }
          ],
          "contourcarpet": [
           {
            "colorbar": {
             "outlinewidth": 0,
             "ticks": ""
            },
            "type": "contourcarpet"
           }
          ],
          "heatmap": [
           {
            "colorbar": {
             "outlinewidth": 0,
             "ticks": ""
            },
            "colorscale": [
             [
              0,
              "#0d0887"
             ],
             [
              0.1111111111111111,
              "#46039f"
             ],
             [
              0.2222222222222222,
              "#7201a8"
             ],
             [
              0.3333333333333333,
              "#9c179e"
             ],
             [
              0.4444444444444444,
              "#bd3786"
             ],
             [
              0.5555555555555556,
              "#d8576b"
             ],
             [
              0.6666666666666666,
              "#ed7953"
             ],
             [
              0.7777777777777778,
              "#fb9f3a"
             ],
             [
              0.8888888888888888,
              "#fdca26"
             ],
             [
              1,
              "#f0f921"
             ]
            ],
            "type": "heatmap"
           }
          ],
          "heatmapgl": [
           {
            "colorbar": {
             "outlinewidth": 0,
             "ticks": ""
            },
            "colorscale": [
             [
              0,
              "#0d0887"
             ],
             [
              0.1111111111111111,
              "#46039f"
             ],
             [
              0.2222222222222222,
              "#7201a8"
             ],
             [
              0.3333333333333333,
              "#9c179e"
             ],
             [
              0.4444444444444444,
              "#bd3786"
             ],
             [
              0.5555555555555556,
              "#d8576b"
             ],
             [
              0.6666666666666666,
              "#ed7953"
             ],
             [
              0.7777777777777778,
              "#fb9f3a"
             ],
             [
              0.8888888888888888,
              "#fdca26"
             ],
             [
              1,
              "#f0f921"
             ]
            ],
            "type": "heatmapgl"
           }
          ],
          "histogram": [
           {
            "marker": {
             "colorbar": {
              "outlinewidth": 0,
              "ticks": ""
             }
            },
            "type": "histogram"
           }
          ],
          "histogram2d": [
           {
            "colorbar": {
             "outlinewidth": 0,
             "ticks": ""
            },
            "colorscale": [
             [
              0,
              "#0d0887"
             ],
             [
              0.1111111111111111,
              "#46039f"
             ],
             [
              0.2222222222222222,
              "#7201a8"
             ],
             [
              0.3333333333333333,
              "#9c179e"
             ],
             [
              0.4444444444444444,
              "#bd3786"
             ],
             [
              0.5555555555555556,
              "#d8576b"
             ],
             [
              0.6666666666666666,
              "#ed7953"
             ],
             [
              0.7777777777777778,
              "#fb9f3a"
             ],
             [
              0.8888888888888888,
              "#fdca26"
             ],
             [
              1,
              "#f0f921"
             ]
            ],
            "type": "histogram2d"
           }
          ],
          "histogram2dcontour": [
           {
            "colorbar": {
             "outlinewidth": 0,
             "ticks": ""
            },
            "colorscale": [
             [
              0,
              "#0d0887"
             ],
             [
              0.1111111111111111,
              "#46039f"
             ],
             [
              0.2222222222222222,
              "#7201a8"
             ],
             [
              0.3333333333333333,
              "#9c179e"
             ],
             [
              0.4444444444444444,
              "#bd3786"
             ],
             [
              0.5555555555555556,
              "#d8576b"
             ],
             [
              0.6666666666666666,
              "#ed7953"
             ],
             [
              0.7777777777777778,
              "#fb9f3a"
             ],
             [
              0.8888888888888888,
              "#fdca26"
             ],
             [
              1,
              "#f0f921"
             ]
            ],
            "type": "histogram2dcontour"
           }
          ],
          "mesh3d": [
           {
            "colorbar": {
             "outlinewidth": 0,
             "ticks": ""
            },
            "type": "mesh3d"
           }
          ],
          "parcoords": [
           {
            "line": {
             "colorbar": {
              "outlinewidth": 0,
              "ticks": ""
             }
            },
            "type": "parcoords"
           }
          ],
          "pie": [
           {
            "automargin": true,
            "type": "pie"
           }
          ],
          "scatter": [
           {
            "marker": {
             "colorbar": {
              "outlinewidth": 0,
              "ticks": ""
             }
            },
            "type": "scatter"
           }
          ],
          "scatter3d": [
           {
            "line": {
             "colorbar": {
              "outlinewidth": 0,
              "ticks": ""
             }
            },
            "marker": {
             "colorbar": {
              "outlinewidth": 0,
              "ticks": ""
             }
            },
            "type": "scatter3d"
           }
          ],
          "scattercarpet": [
           {
            "marker": {
             "colorbar": {
              "outlinewidth": 0,
              "ticks": ""
             }
            },
            "type": "scattercarpet"
           }
          ],
          "scattergeo": [
           {
            "marker": {
             "colorbar": {
              "outlinewidth": 0,
              "ticks": ""
             }
            },
            "type": "scattergeo"
           }
          ],
          "scattergl": [
           {
            "marker": {
             "colorbar": {
              "outlinewidth": 0,
              "ticks": ""
             }
            },
            "type": "scattergl"
           }
          ],
          "scattermapbox": [
           {
            "marker": {
             "colorbar": {
              "outlinewidth": 0,
              "ticks": ""
             }
            },
            "type": "scattermapbox"
           }
          ],
          "scatterpolar": [
           {
            "marker": {
             "colorbar": {
              "outlinewidth": 0,
              "ticks": ""
             }
            },
            "type": "scatterpolar"
           }
          ],
          "scatterpolargl": [
           {
            "marker": {
             "colorbar": {
              "outlinewidth": 0,
              "ticks": ""
             }
            },
            "type": "scatterpolargl"
           }
          ],
          "scatterternary": [
           {
            "marker": {
             "colorbar": {
              "outlinewidth": 0,
              "ticks": ""
             }
            },
            "type": "scatterternary"
           }
          ],
          "surface": [
           {
            "colorbar": {
             "outlinewidth": 0,
             "ticks": ""
            },
            "colorscale": [
             [
              0,
              "#0d0887"
             ],
             [
              0.1111111111111111,
              "#46039f"
             ],
             [
              0.2222222222222222,
              "#7201a8"
             ],
             [
              0.3333333333333333,
              "#9c179e"
             ],
             [
              0.4444444444444444,
              "#bd3786"
             ],
             [
              0.5555555555555556,
              "#d8576b"
             ],
             [
              0.6666666666666666,
              "#ed7953"
             ],
             [
              0.7777777777777778,
              "#fb9f3a"
             ],
             [
              0.8888888888888888,
              "#fdca26"
             ],
             [
              1,
              "#f0f921"
             ]
            ],
            "type": "surface"
           }
          ],
          "table": [
           {
            "cells": {
             "fill": {
              "color": "#EBF0F8"
             },
             "line": {
              "color": "white"
             }
            },
            "header": {
             "fill": {
              "color": "#C8D4E3"
             },
             "line": {
              "color": "white"
             }
            },
            "type": "table"
           }
          ]
         },
         "layout": {
          "annotationdefaults": {
           "arrowcolor": "#2a3f5f",
           "arrowhead": 0,
           "arrowwidth": 1
          },
          "coloraxis": {
           "colorbar": {
            "outlinewidth": 0,
            "ticks": ""
           }
          },
          "colorscale": {
           "diverging": [
            [
             0,
             "#8e0152"
            ],
            [
             0.1,
             "#c51b7d"
            ],
            [
             0.2,
             "#de77ae"
            ],
            [
             0.3,
             "#f1b6da"
            ],
            [
             0.4,
             "#fde0ef"
            ],
            [
             0.5,
             "#f7f7f7"
            ],
            [
             0.6,
             "#e6f5d0"
            ],
            [
             0.7,
             "#b8e186"
            ],
            [
             0.8,
             "#7fbc41"
            ],
            [
             0.9,
             "#4d9221"
            ],
            [
             1,
             "#276419"
            ]
           ],
           "sequential": [
            [
             0,
             "#0d0887"
            ],
            [
             0.1111111111111111,
             "#46039f"
            ],
            [
             0.2222222222222222,
             "#7201a8"
            ],
            [
             0.3333333333333333,
             "#9c179e"
            ],
            [
             0.4444444444444444,
             "#bd3786"
            ],
            [
             0.5555555555555556,
             "#d8576b"
            ],
            [
             0.6666666666666666,
             "#ed7953"
            ],
            [
             0.7777777777777778,
             "#fb9f3a"
            ],
            [
             0.8888888888888888,
             "#fdca26"
            ],
            [
             1,
             "#f0f921"
            ]
           ],
           "sequentialminus": [
            [
             0,
             "#0d0887"
            ],
            [
             0.1111111111111111,
             "#46039f"
            ],
            [
             0.2222222222222222,
             "#7201a8"
            ],
            [
             0.3333333333333333,
             "#9c179e"
            ],
            [
             0.4444444444444444,
             "#bd3786"
            ],
            [
             0.5555555555555556,
             "#d8576b"
            ],
            [
             0.6666666666666666,
             "#ed7953"
            ],
            [
             0.7777777777777778,
             "#fb9f3a"
            ],
            [
             0.8888888888888888,
             "#fdca26"
            ],
            [
             1,
             "#f0f921"
            ]
           ]
          },
          "colorway": [
           "#636efa",
           "#EF553B",
           "#00cc96",
           "#ab63fa",
           "#FFA15A",
           "#19d3f3",
           "#FF6692",
           "#B6E880",
           "#FF97FF",
           "#FECB52"
          ],
          "font": {
           "color": "#2a3f5f"
          },
          "geo": {
           "bgcolor": "white",
           "lakecolor": "white",
           "landcolor": "white",
           "showlakes": true,
           "showland": true,
           "subunitcolor": "#C8D4E3"
          },
          "hoverlabel": {
           "align": "left"
          },
          "hovermode": "closest",
          "mapbox": {
           "style": "light"
          },
          "paper_bgcolor": "white",
          "plot_bgcolor": "white",
          "polar": {
           "angularaxis": {
            "gridcolor": "#EBF0F8",
            "linecolor": "#EBF0F8",
            "ticks": ""
           },
           "bgcolor": "white",
           "radialaxis": {
            "gridcolor": "#EBF0F8",
            "linecolor": "#EBF0F8",
            "ticks": ""
           }
          },
          "scene": {
           "xaxis": {
            "backgroundcolor": "white",
            "gridcolor": "#DFE8F3",
            "gridwidth": 2,
            "linecolor": "#EBF0F8",
            "showbackground": true,
            "ticks": "",
            "zerolinecolor": "#EBF0F8"
           },
           "yaxis": {
            "backgroundcolor": "white",
            "gridcolor": "#DFE8F3",
            "gridwidth": 2,
            "linecolor": "#EBF0F8",
            "showbackground": true,
            "ticks": "",
            "zerolinecolor": "#EBF0F8"
           },
           "zaxis": {
            "backgroundcolor": "white",
            "gridcolor": "#DFE8F3",
            "gridwidth": 2,
            "linecolor": "#EBF0F8",
            "showbackground": true,
            "ticks": "",
            "zerolinecolor": "#EBF0F8"
           }
          },
          "shapedefaults": {
           "line": {
            "color": "#2a3f5f"
           }
          },
          "ternary": {
           "aaxis": {
            "gridcolor": "#DFE8F3",
            "linecolor": "#A2B1C6",
            "ticks": ""
           },
           "baxis": {
            "gridcolor": "#DFE8F3",
            "linecolor": "#A2B1C6",
            "ticks": ""
           },
           "bgcolor": "white",
           "caxis": {
            "gridcolor": "#DFE8F3",
            "linecolor": "#A2B1C6",
            "ticks": ""
           }
          },
          "title": {
           "x": 0.05
          },
          "xaxis": {
           "automargin": true,
           "gridcolor": "#EBF0F8",
           "linecolor": "#EBF0F8",
           "ticks": "",
           "title": {
            "standoff": 15
           },
           "zerolinecolor": "#EBF0F8",
           "zerolinewidth": 2
          },
          "yaxis": {
           "automargin": true,
           "gridcolor": "#EBF0F8",
           "linecolor": "#EBF0F8",
           "ticks": "",
           "title": {
            "standoff": 15
           },
           "zerolinecolor": "#EBF0F8",
           "zerolinewidth": 2
          }
         }
        },
        "title": {
         "text": "Comulative number of confirmed cases, by number of days since 10th case"
        },
        "width": 900,
        "xaxis": {
         "title": {
          "text": "Number of days since 10th case"
         }
        },
        "yaxis": {
         "title": {
          "text": "Comulative number of cases"
         },
         "type": "log"
        }
       }
      },
      "text/html": [
       "<div>\n",
       "        \n",
       "        \n",
       "            <div id=\"de554bbf-582d-43e7-8d95-981dd1eabfbe\" class=\"plotly-graph-div\" style=\"height:500px; width:900px;\"></div>\n",
       "            <script type=\"text/javascript\">\n",
       "                require([\"plotly\"], function(Plotly) {\n",
       "                    window.PLOTLYENV=window.PLOTLYENV || {};\n",
       "                    \n",
       "                if (document.getElementById(\"de554bbf-582d-43e7-8d95-981dd1eabfbe\")) {\n",
       "                    Plotly.newPlot(\n",
       "                        'de554bbf-582d-43e7-8d95-981dd1eabfbe',\n",
       "                        [{\"hovertemplate\": \"%{y:.0f}\", \"line\": {\"color\": \"#636EFA\"}, \"mode\": \"lines\", \"name\": \"Andalusia\", \"opacity\": 0.6, \"type\": \"scatter\", \"x\": [0, 1, 2, 3, 4, 5, 6, 7, 8, 9, 10, 11, 12, 13, 14, 15, 16, 17, 18, 19, 20, 21, 22, 23, 24, 25, 26, 27, 28, 29, 30, 31, 32, 33, 34, 35, 36, 37, 38, 39], \"y\": [12.0, 12.0, 12.0, 12.0, 12.0, 21.0, 27.0, 34.0, 54.0, 71.0, 90.0, 115.0, 219.0, 269.0, 437.0, 554.0, 683.0, 859.0, 1008.0, 1287.0, 1515.0, 1725.0, 1961.0, 2471.0, 3010.0, 3406.0, 3793.0, 4277.0, 4682.0, 5405.0, 5818.0, 6392.0, 6972.0, 7374.0, 7869.0, 8301.0, 8581.0, 8767.0, 8997.0, null]}, {\"hoverinfo\": \"skip\", \"marker\": {\"color\": \"#636EFA\", \"size\": 5}, \"mode\": \"markers\", \"opacity\": 0.6, \"showlegend\": false, \"type\": \"scatter\", \"x\": [38], \"y\": [8997.0]}, {\"hovertemplate\": \"%{y:.0f}\", \"line\": {\"color\": \"#EF553B\"}, \"mode\": \"lines\", \"name\": \"Aragon\", \"opacity\": 0.6, \"type\": \"scatter\", \"x\": [0, 1, 2, 3, 4, 5, 6, 7, 8, 9, 10, 11, 12, 13, 14, 15, 16, 17, 18, 19, 20, 21, 22, 23, 24, 25, 26, 27, 28, 29, 30, 31, 32, 33, 34, 35, 36, 37, 38, 39], \"y\": [11.0, 11.0, 13.0, 38.0, 45.0, 64.0, 80.0, 121.0, 147.0, 174.0, 207.0, 226.0, 281.0, 360.0, 424.0, 532.0, 638.0, 758.0, 907.0, 1116.0, 1338.0, 1592.0, 1858.0, 2078.0, 2272.0, 2491.0, 2700.0, 2889.0, 3078.0, 3232.0, 3347.0, 3449.0, 3549.0, null, null, null, null, null, null, null]}, {\"hoverinfo\": \"skip\", \"marker\": {\"color\": \"#EF553B\", \"size\": 5}, \"mode\": \"markers\", \"opacity\": 0.6, \"showlegend\": false, \"type\": \"scatter\", \"x\": [32], \"y\": [3549.0]}, {\"hovertemplate\": \"%{y:.0f}\", \"line\": {\"color\": \"#00CC96\"}, \"mode\": \"lines\", \"name\": \"Asturias\", \"opacity\": 0.6, \"type\": \"scatter\", \"x\": [0, 1, 2, 3, 4, 5, 6, 7, 8, 9, 10, 11, 12, 13, 14, 15, 16, 17, 18, 19, 20, 21, 22, 23, 24, 25, 26, 27, 28, 29, 30, 31, 32, 33, 34, 35, 36, 37, 38, 39], \"y\": [22.0, 32.0, 47.0, 67.0, 92.0, 137.0, 177.0, 193.0, 242.0, 292.0, 344.0, 486.0, 545.0, 594.0, 662.0, 779.0, 841.0, 900.0, 1004.0, 1088.0, 1158.0, 1236.0, 1322.0, 1384.0, 1433.0, 1522.0, 1605.0, 1646.0, 1679.0, 1705.0, null, null, null, null, null, null, null, null, null, null]}, {\"hoverinfo\": \"skip\", \"marker\": {\"color\": \"#00CC96\", \"size\": 5}, \"mode\": \"markers\", \"opacity\": 0.6, \"showlegend\": false, \"type\": \"scatter\", \"x\": [29], \"y\": [1705.0]}, {\"hovertemplate\": \"%{y:.0f}\", \"line\": {\"color\": \"#AB63FA\"}, \"mode\": \"lines\", \"name\": \"Balearic Islands\", \"opacity\": 0.6, \"type\": \"scatter\", \"x\": [0, 1, 2, 3, 4, 5, 6, 7, 8, 9, 10, 11, 12, 13, 14, 15, 16, 17, 18, 19, 20, 21, 22, 23, 24, 25, 26, 27, 28, 29, 30, 31, 32, 33, 34, 35, 36, 37, 38, 39], \"y\": [11.0, 13.0, 16.0, 22.0, 28.0, 28.0, 42.0, 73.0, 92.0, 112.0, 169.0, 203.0, 246.0, 331.0, 400.0, 478.0, 562.0, 660.0, 755.0, 862.0, 958.0, 1000.0, 1069.0, 1131.0, 1204.0, 1257.0, 1271.0, 1293.0, 1320.0, 1369.0, 1412.0, null, null, null, null, null, null, null, null, null]}, {\"hoverinfo\": \"skip\", \"marker\": {\"color\": \"#AB63FA\", \"size\": 5}, \"mode\": \"markers\", \"opacity\": 0.6, \"showlegend\": false, \"type\": \"scatter\", \"x\": [30], \"y\": [1412.0]}, {\"hovertemplate\": \"%{y:.0f}\", \"line\": {\"color\": \"#FFA15A\"}, \"mode\": \"lines\", \"name\": \"Basque Country\", \"opacity\": 0.6, \"type\": \"scatter\", \"x\": [0, 1, 2, 3, 4, 5, 6, 7, 8, 9, 10, 11, 12, 13, 14, 15, 16, 17, 18, 19, 20, 21, 22, 23, 24, 25, 26, 27, 28, 29, 30, 31, 32, 33, 34, 35, 36, 37, 38, 39], \"y\": [13.0, 17.0, 17.0, 45.0, 45.0, 70.0, 149.0, 195.0, 225.0, 346.0, 417.0, 521.0, 630.0, 630.0, 765.0, 973.0, 1190.0, 1465.0, 1725.0, 2097.0, 2421.0, 2728.0, 3271.0, 3946.0, 4601.0, 5136.0, 5740.0, 6057.0, 6320.0, 6838.0, 7317.0, 7827.0, 8187.0, 8628.0, 8810.0, 9021.0, 9452.0, null, null, null]}, {\"hoverinfo\": \"skip\", \"marker\": {\"color\": \"#FFA15A\", \"size\": 5}, \"mode\": \"markers\", \"opacity\": 0.6, \"showlegend\": false, \"type\": \"scatter\", \"x\": [36], \"y\": [9452.0]}, {\"hovertemplate\": \"%{y:.0f}\", \"line\": {\"color\": \"#19D3F3\"}, \"mode\": \"lines\", \"name\": \"Canary Islands\", \"opacity\": 0.6, \"type\": \"scatter\", \"x\": [0, 1, 2, 3, 4, 5, 6, 7, 8, 9, 10, 11, 12, 13, 14, 15, 16, 17, 18, 19, 20, 21, 22, 23, 24, 25, 26, 27, 28, 29, 30, 31, 32, 33, 34, 35, 36, 37, 38, 39], \"y\": [11.0, 11.0, 17.0, 22.0, 25.0, 37.0, 51.0, 70.0, 90.0, 109.0, 119.0, 148.0, 181.0, 220.0, 287.0, 348.0, 414.0, 481.0, 557.0, 657.0, 784.0, 878.0, 1025.0, 1125.0, 1204.0, 1262.0, 1380.0, 1444.0, 1490.0, 1564.0, 1622.0, 1649.0, 1725.0, 1762.0, null, null, null, null, null, null]}, {\"hoverinfo\": \"skip\", \"marker\": {\"color\": \"#19D3F3\", \"size\": 5}, \"mode\": \"markers\", \"opacity\": 0.6, \"showlegend\": false, \"type\": \"scatter\", \"x\": [33], \"y\": [1762.0]}, {\"hovertemplate\": \"%{y:.0f}\", \"line\": {\"color\": \"#FF6692\"}, \"mode\": \"lines\", \"name\": \"Cantabria\", \"opacity\": 0.6, \"type\": \"scatter\", \"x\": [0, 1, 2, 3, 4, 5, 6, 7, 8, 9, 10, 11, 12, 13, 14, 15, 16, 17, 18, 19, 20, 21, 22, 23, 24, 25, 26, 27, 28, 29, 30, 31, 32, 33, 34, 35, 36, 37, 38, 39], \"y\": [10.0, 10.0, 10.0, 10.0, 10.0, 10.0, 12.0, 12.0, 12.0, 12.0, 16.0, 29.0, 31.0, 51.0, 58.0, 58.0, 68.0, 83.0, 144.0, 215.0, 282.0, 347.0, 425.0, 510.0, 671.0, 810.0, 937.0, 1023.0, 1100.0, 1171.0, 1213.0, 1268.0, 1321.0, 1384.0, 1441.0, 1483.0, 1501.0, 1572.0, null, null]}, {\"hoverinfo\": \"skip\", \"marker\": {\"color\": \"#FF6692\", \"size\": 5}, \"mode\": \"markers\", \"opacity\": 0.6, \"showlegend\": false, \"type\": \"scatter\", \"x\": [37], \"y\": [1572.0]}, {\"hovertemplate\": \"%{y:.0f}\", \"line\": {\"color\": \"#B6E880\"}, \"mode\": \"lines\", \"name\": \"Castille and Leon\", \"opacity\": 0.6, \"type\": \"scatter\", \"x\": [0, 1, 2, 3, 4, 5, 6, 7, 8, 9, 10, 11, 12, 13, 14, 15, 16, 17, 18, 19, 20, 21, 22, 23, 24, 25, 26, 27, 28, 29, 30, 31, 32, 33, 34, 35, 36, 37, 38, 39], \"y\": [12.0, 13.0, 14.0, 21.0, 30.0, 40.0, 64.0, 71.0, 92.0, 169.0, 223.0, 292.0, 431.0, 668.0, 868.0, 1147.0, 1466.0, 1744.0, 2055.0, 2460.0, 2940.0, 3488.0, 4132.0, 4791.0, 5414.0, 5801.0, 6211.0, 6847.0, 7355.0, 7875.0, 8332.0, 8749.0, 9116.0, 9581.0, 10058.0, null, null, null, null, null]}, {\"hoverinfo\": \"skip\", \"marker\": {\"color\": \"#B6E880\", \"size\": 5}, \"mode\": \"markers\", \"opacity\": 0.6, \"showlegend\": false, \"type\": \"scatter\", \"x\": [34], \"y\": [10058.0]}, {\"hovertemplate\": \"%{y:.0f}\", \"line\": {\"color\": \"#FF97FF\"}, \"mode\": \"lines\", \"name\": \"Castille-La Mancha\", \"opacity\": 0.6, \"type\": \"scatter\", \"x\": [0, 1, 2, 3, 4, 5, 6, 7, 8, 9, 10, 11, 12, 13, 14, 15, 16, 17, 18, 19, 20, 21, 22, 23, 24, 25, 26, 27, 28, 29, 30, 31, 32, 33, 34, 35, 36, 37, 38, 39], \"y\": [12.0, 13.0, 15.0, 15.0, 15.0, 26.0, 39.0, 71.0, 115.0, 194.0, 289.0, 401.0, 567.0, 567.0, 675.0, 801.0, 1044.0, 1423.0, 1819.0, 2078.0, 2465.0, 2780.0, 3383.0, 3934.0, 4512.0, 5246.0, 5858.0, 6424.0, 7047.0, 7682.0, 8523.0, 9324.0, 10031.0, 10602.0, 11077.0, 11788.0, null, null, null, null]}, {\"hoverinfo\": \"skip\", \"marker\": {\"color\": \"#FF97FF\", \"size\": 5}, \"mode\": \"markers\", \"opacity\": 0.6, \"showlegend\": false, \"type\": \"scatter\", \"x\": [35], \"y\": [11788.0]}, {\"hovertemplate\": \"%{y:.0f}\", \"line\": {\"color\": \"#FECB52\"}, \"mode\": \"lines\", \"name\": \"Catalonia\", \"opacity\": 0.6, \"type\": \"scatter\", \"x\": [0, 1, 2, 3, 4, 5, 6, 7, 8, 9, 10, 11, 12, 13, 14, 15, 16, 17, 18, 19, 20, 21, 22, 23, 24, 25, 26, 27, 28, 29, 30, 31, 32, 33, 34, 35, 36, 37, 38, 39], \"y\": [15.0, 15.0, 15.0, 24.0, 24.0, 24.0, 49.0, 75.0, 124.0, 156.0, 260.0, 316.0, 509.0, 715.0, 903.0, 1394.0, 1866.0, 2702.0, 3270.0, 4203.0, 4704.0, 5925.0, 7864.0, 9937.0, 11592.0, 12940.0, 14263.0, 15026.0, 16157.0, 18773.0, 19991.0, 21804.0, 23460.0, 24734.0, 26032.0, 26824.0, 28323.0, 29647.0, null, null]}, {\"hoverinfo\": \"skip\", \"marker\": {\"color\": \"#FECB52\", \"size\": 5}, \"mode\": \"markers\", \"opacity\": 0.6, \"showlegend\": false, \"type\": \"scatter\", \"x\": [37], \"y\": [29647.0]}, {\"hovertemplate\": \"%{y:.0f}\", \"line\": {\"color\": \"#636EFA\"}, \"mode\": \"lines\", \"name\": \"Extremadura\", \"opacity\": 0.6, \"type\": \"scatter\", \"x\": [0, 1, 2, 3, 4, 5, 6, 7, 8, 9, 10, 11, 12, 13, 14, 15, 16, 17, 18, 19, 20, 21, 22, 23, 24, 25, 26, 27, 28, 29, 30, 31, 32, 33, 34, 35, 36, 37, 38, 39], \"y\": [19.0, 39.0, 66.0, 95.0, 111.0, 153.0, 194.0, 241.0, 297.0, 354.0, 384.0, 493.0, 636.0, 742.0, 969.0, 1231.0, 1394.0, 1456.0, 1560.0, 1628.0, 1679.0, 1837.0, 1893.0, 1979.0, 2047.0, 2068.0, 2116.0, 2184.0, null, null, null, null, null, null, null, null, null, null, null, null]}, {\"hoverinfo\": \"skip\", \"marker\": {\"color\": \"#636EFA\", \"size\": 5}, \"mode\": \"markers\", \"opacity\": 0.6, \"showlegend\": false, \"type\": \"scatter\", \"x\": [27], \"y\": [2184.0]}, {\"hovertemplate\": \"%{y:.0f}\", \"line\": {\"color\": \"#EF553B\"}, \"mode\": \"lines\", \"name\": \"Galicia\", \"opacity\": 0.6, \"type\": \"scatter\", \"x\": [0, 1, 2, 3, 4, 5, 6, 7, 8, 9, 10, 11, 12, 13, 14, 15, 16, 17, 18, 19, 20, 21, 22, 23, 24, 25, 26, 27, 28, 29, 30, 31, 32, 33, 34, 35, 36, 37, 38, 39], \"y\": [22.0, 35.0, 35.0, 85.0, 115.0, 195.0, 245.0, 292.0, 341.0, 453.0, 578.0, 739.0, 915.0, 1208.0, 1415.0, 1653.0, 1915.0, 2322.0, 2772.0, 3139.0, 3723.0, 4039.0, 4432.0, 4842.0, 5219.0, 5625.0, 5944.0, 6151.0, 6331.0, 6538.0, null, null, null, null, null, null, null, null, null, null]}, {\"hoverinfo\": \"skip\", \"marker\": {\"color\": \"#EF553B\", \"size\": 5}, \"mode\": \"markers\", \"opacity\": 0.6, \"showlegend\": false, \"type\": \"scatter\", \"x\": [29], \"y\": [6538.0]}, {\"hovertemplate\": \"%{y:.0f}\", \"line\": {\"color\": \"#00CC96\"}, \"mode\": \"lines\", \"name\": \"La Rioja\", \"opacity\": 0.6, \"type\": \"scatter\", \"x\": [0, 1, 2, 3, 4, 5, 6, 7, 8, 9, 10, 11, 12, 13, 14, 15, 16, 17, 18, 19, 20, 21, 22, 23, 24, 25, 26, 27, 28, 29, 30, 31, 32, 33, 34, 35, 36, 37, 38, 39], \"y\": [11.0, 29.0, 39.0, 55.0, 81.0, 144.0, 179.0, 205.0, 243.0, 278.0, 300.0, 312.0, 355.0, 419.0, 468.0, 497.0, 564.0, 654.0, 747.0, 802.0, 928.0, 995.0, 1236.0, 1436.0, 1629.0, 1733.0, 1810.0, 1960.0, 2083.0, 2224.0, 2405.0, 2592.0, 2719.0, 2846.0, 2951.0, null, null, null, null, null]}, {\"hoverinfo\": \"skip\", \"marker\": {\"color\": \"#00CC96\", \"size\": 5}, \"mode\": \"markers\", \"opacity\": 0.6, \"showlegend\": false, \"type\": \"scatter\", \"x\": [34], \"y\": [2951.0]}, {\"hovertemplate\": \"%{y:.0f}\", \"line\": {\"color\": \"#AB63FA\"}, \"mode\": \"lines\", \"name\": \"Madrid\", \"opacity\": 0.6, \"type\": \"scatter\", \"x\": [0, 1, 2, 3, 4, 5, 6, 7, 8, 9, 10, 11, 12, 13, 14, 15, 16, 17, 18, 19, 20, 21, 22, 23, 24, 25, 26, 27, 28, 29, 30, 31, 32, 33, 34, 35, 36, 37, 38, 39], \"y\": [10.0, 29.0, 49.0, 70.0, 90.0, 137.0, 137.0, 175.0, 469.0, 782.0, 1024.0, 1388.0, 1990.0, 2940.0, 3544.0, 4165.0, 4871.0, 5637.0, 6777.0, 7165.0, 8921.0, 9702.0, 10575.0, 12352.0, 14597.0, 17166.0, 19243.0, 21520.0, 22677.0, 24090.0, 27509.0, 29840.0, 32155.0, 34188.0, 36249.0, 37584.0, 38723.0, 40469.0, 42450.0, null]}, {\"hoverinfo\": \"skip\", \"marker\": {\"color\": \"#AB63FA\", \"size\": 5}, \"mode\": \"markers\", \"opacity\": 0.6, \"showlegend\": false, \"type\": \"scatter\", \"x\": [38], \"y\": [42450.0]}, {\"hovertemplate\": \"%{y:.0f}\", \"line\": {\"color\": \"#FFA15A\"}, \"mode\": \"lines\", \"name\": \"Murcia\", \"opacity\": 0.6, \"type\": \"scatter\", \"x\": [0, 1, 2, 3, 4, 5, 6, 7, 8, 9, 10, 11, 12, 13, 14, 15, 16, 17, 18, 19, 20, 21, 22, 23, 24, 25, 26, 27, 28, 29, 30, 31, 32, 33, 34, 35, 36, 37, 38, 39], \"y\": [11.0, 26.0, 35.0, 47.0, 71.0, 77.0, 97.0, 122.0, 167.0, 204.0, 240.0, 296.0, 345.0, 385.0, 477.0, 596.0, 714.0, 802.0, 872.0, 939.0, 974.0, 1041.0, 1084.0, 1145.0, 1188.0, 1235.0, 1259.0, 1283.0, 1326.0, null, null, null, null, null, null, null, null, null, null, null]}, {\"hoverinfo\": \"skip\", \"marker\": {\"color\": \"#FFA15A\", \"size\": 5}, \"mode\": \"markers\", \"opacity\": 0.6, \"showlegend\": false, \"type\": \"scatter\", \"x\": [28], \"y\": [1326.0]}, {\"hovertemplate\": \"%{y:.0f}\", \"line\": {\"color\": \"#19D3F3\"}, \"mode\": \"lines\", \"name\": \"Navarre\", \"opacity\": 0.6, \"type\": \"scatter\", \"x\": [0, 1, 2, 3, 4, 5, 6, 7, 8, 9, 10, 11, 12, 13, 14, 15, 16, 17, 18, 19, 20, 21, 22, 23, 24, 25, 26, 27, 28, 29, 30, 31, 32, 33, 34, 35, 36, 37, 38, 39], \"y\": [12.0, 46.0, 73.0, 130.0, 146.0, 183.0, 274.0, 313.0, 386.0, 482.0, 554.0, 664.0, 794.0, 886.0, 1014.0, 1197.0, 1411.0, 1641.0, 1829.0, 2011.0, 2146.0, 2305.0, 2497.0, 2682.0, 2836.0, 2972.0, 3073.0, 3231.0, 3355.0, 3467.0, null, null, null, null, null, null, null, null, null, null]}, {\"hoverinfo\": \"skip\", \"marker\": {\"color\": \"#19D3F3\", \"size\": 5}, \"mode\": \"markers\", \"opacity\": 0.6, \"showlegend\": false, \"type\": \"scatter\", \"x\": [29], \"y\": [3467.0]}, {\"hovertemplate\": \"%{y:.0f}\", \"line\": {\"color\": \"#FF6692\"}, \"mode\": \"lines\", \"name\": \"Valencia\", \"opacity\": 0.6, \"type\": \"scatter\", \"x\": [0, 1, 2, 3, 4, 5, 6, 7, 8, 9, 10, 11, 12, 13, 14, 15, 16, 17, 18, 19, 20, 21, 22, 23, 24, 25, 26, 27, 28, 29, 30, 31, 32, 33, 34, 35, 36, 37, 38, 39], \"y\": [10.0, 15.0, 15.0, 15.0, 19.0, 19.0, 30.0, 30.0, 37.0, 37.0, 50.0, 65.0, 76.0, 94.0, 130.0, 409.0, 409.0, 541.0, 726.0, 921.0, 1105.0, 1363.0, 1604.0, 1901.0, 2167.0, 2616.0, 3200.0, 3532.0, 4034.0, 4784.0, 5110.0, 5508.0, 5922.0, 6308.0, 6624.0, 6901.0, 7184.0, 7334.0, 7443.0, 7655.0]}, {\"hoverinfo\": \"skip\", \"marker\": {\"color\": \"#FF6692\", \"size\": 5}, \"mode\": \"markers\", \"opacity\": 0.6, \"showlegend\": false, \"type\": \"scatter\", \"x\": [39], \"y\": [7655.0]}, {\"hovertemplate\": \"Doubles\", \"line\": {\"color\": \"rgb(67,67,67)\", \"dash\": \"dash\"}, \"mode\": \"lines\", \"name\": \"every 1 day\", \"opacity\": 0.5, \"type\": \"scatter\", \"x\": [0, 1, 2, 3, 4, 5, 6, 7, 8, 9, 10, 11, 12, 13, 14, 15, 16, 17, 18, 19, 20, 21, 22, 23, 24, 25, 26, 27, 28, 29, 30, 31, 32, 33, 34, 35, 36, 37, 38, 39, 40, 41, 42, 43, 44, 45, 46, 47, 48, 49], \"y\": [10.0, 20.0, 40.0, 80.0, 160.0, 320.0, 640.0, 1280.0, 2560.0, 5120.0, 10240.0, 20480.0, 40960.0, null, null, null, null, null, null, null, null, null, null, null, null, null, null, null, null, null, null, null, null, null, null, null, null, null, null, null, null, null, null, null, null, null, null, null, null, null]}, {\"hovertemplate\": \"Doubles\", \"line\": {\"color\": \"rgb(67,67,67)\", \"dash\": \"dash\"}, \"mode\": \"lines\", \"name\": \"every 2 days\", \"opacity\": 0.5, \"type\": \"scatter\", \"x\": [0, 1, 2, 3, 4, 5, 6, 7, 8, 9, 10, 11, 12, 13, 14, 15, 16, 17, 18, 19, 20, 21, 22, 23, 24, 25, 26, 27, 28, 29, 30, 31, 32, 33, 34, 35, 36, 37, 38, 39, 40, 41, 42, 43, 44, 45, 46, 47, 48, 49], \"y\": [10.0, 14.142135623730951, 20.000000000000004, 28.28427124746191, 40.00000000000001, 56.568542494923825, 80.00000000000003, 113.13708498984766, 160.00000000000006, 226.27416997969533, 320.0000000000002, 452.5483399593907, 640.0000000000006, 905.0966799187815, 1280.0000000000011, 1810.1933598375635, 2560.0000000000027, 3620.3867196751276, 5120.000000000007, 7240.773439350256, 10240.000000000015, 14481.546878700516, 20480.000000000033, 28963.093757401035, 40960.000000000065, null, null, null, null, null, null, null, null, null, null, null, null, null, null, null, null, null, null, null, null, null, null, null, null, null]}, {\"hovertemplate\": \"Doubles\", \"line\": {\"color\": \"rgb(67,67,67)\", \"dash\": \"dash\"}, \"mode\": \"lines\", \"name\": \"every 3 days\", \"opacity\": 0.5, \"type\": \"scatter\", \"x\": [0, 1, 2, 3, 4, 5, 6, 7, 8, 9, 10, 11, 12, 13, 14, 15, 16, 17, 18, 19, 20, 21, 22, 23, 24, 25, 26, 27, 28, 29, 30, 31, 32, 33, 34, 35, 36, 37, 38, 39, 40, 41, 42, 43, 44, 45, 46, 47, 48, 49], \"y\": [10.0, 12.599210498948732, 15.874010519681995, 20.0, 25.198420997897465, 31.74802103936399, 40.00000000000001, 50.39684199579494, 63.496042078727996, 80.00000000000001, 100.79368399158987, 126.99208415745599, 160.00000000000003, 201.58736798317975, 253.984168314912, 320.00000000000006, 403.17473596635955, 507.968336629824, 640.0000000000002, 806.3494719327191, 1015.936673259648, 1280.0000000000005, 1612.6989438654382, 2031.8733465192963, 2560.000000000001, 3225.3978877308773, 4063.7466930385926, 5120.000000000002, 6450.795775461755, 8127.493386077186, 10240.000000000007, 12901.59155092351, 16254.986772154372, 20480.000000000015, 25803.183101847022, 32509.97354430875, 40960.00000000003, null, null, null, null, null, null, null, null, null, null, null, null, null]}, {\"hovertemplate\": \"Doubles\", \"line\": {\"color\": \"rgb(67,67,67)\", \"dash\": \"dash\"}, \"mode\": \"lines\", \"name\": \"every 4 days\", \"opacity\": 0.5, \"type\": \"scatter\", \"x\": [0, 1, 2, 3, 4, 5, 6, 7, 8, 9, 10, 11, 12, 13, 14, 15, 16, 17, 18, 19, 20, 21, 22, 23, 24, 25, 26, 27, 28, 29, 30, 31, 32, 33, 34, 35, 36, 37, 38, 39, 40, 41, 42, 43, 44, 45, 46, 47, 48, 49], \"y\": [10.0, 11.89207115002721, 14.14213562373095, 16.81792830507429, 19.999999999999996, 23.784142300054416, 28.284271247461895, 33.63585661014858, 39.99999999999999, 47.56828460010883, 56.568542494923776, 67.27171322029714, 79.99999999999997, 95.13656920021765, 113.13708498984755, 134.54342644059426, 159.99999999999991, 190.27313840043524, 226.27416997969507, 269.0868528811885, 319.9999999999998, 380.54627680087043, 452.5483399593901, 538.1737057623769, 639.9999999999995, 761.0925536017409, 905.0966799187801, 1076.3474115247536, 1279.9999999999989, 1522.1851072034815, 1810.19335983756, 2152.6948230495072, 2559.9999999999973, 3044.3702144069625, 3620.386719675119, 4305.389646099013, 5119.999999999994, 6088.740428813925, 7240.773439350237, 8610.779292198025, 10239.999999999985, 12177.480857627848, 14481.546878700474, 17221.558584396047, 20479.99999999997, 24354.96171525569, 28963.093757400944, 34443.117168792094, 40959.999999999935, 48709.92343051137]}, {\"hovertemplate\": \"Doubles\", \"line\": {\"color\": \"rgb(67,67,67)\", \"dash\": \"dash\"}, \"mode\": \"lines\", \"name\": \"every week\", \"opacity\": 0.5, \"type\": \"scatter\", \"x\": [0, 1, 2, 3, 4, 5, 6, 7, 8, 9, 10, 11, 12, 13, 14, 15, 16, 17, 18, 19, 20, 21, 22, 23, 24, 25, 26, 27, 28, 29, 30, 31, 32, 33, 34, 35, 36, 37, 38, 39, 40, 41, 42, 43, 44, 45, 46, 47, 48, 49], \"y\": [10.0, 11.040895136738122, 12.190136542044751, 13.459001926323557, 14.85994289136948, 16.406707120152753, 18.114473285278127, 19.99999999999999, 22.08179027347623, 24.380273084089488, 26.9180038526471, 29.71988578273894, 32.81341424030549, 36.22894657055623, 39.99999999999996, 44.163580546952446, 48.760546168178955, 53.83600770529418, 59.439771565477855, 65.62682848061094, 72.45789314111242, 79.99999999999987, 88.32716109390483, 97.52109233635785, 107.67201541058827, 118.87954313095564, 131.2536569612218, 144.91578628222476, 159.99999999999966, 176.65432218780956, 195.0421846727156, 215.34403082117646, 237.75908626191114, 262.5073139224435, 289.83157256444935, 319.9999999999991, 353.30864437561894, 390.084369345431, 430.6880616423527, 475.518172523822, 525.0146278448866, 579.6631451288983, 639.9999999999978, 706.6172887512375, 780.1687386908616, 861.3761232847048, 951.0363450476436, 1050.0292556897725, 1159.3262902577962, 1279.999999999995]}],\n",
       "                        {\"annotations\": [{\"font\": {\"family\": \"Arial\", \"size\": 12}, \"showarrow\": false, \"text\": \"AN\", \"x\": 38, \"xanchor\": \"left\", \"xref\": \"x\", \"y\": 3.9540977204791896, \"yanchor\": \"middle\", \"yref\": \"y\"}, {\"font\": {\"family\": \"Arial\", \"size\": 12}, \"showarrow\": false, \"text\": \"AR\", \"x\": 32, \"xanchor\": \"left\", \"xref\": \"x\", \"y\": 3.550105999347593, \"yanchor\": \"middle\", \"yref\": \"y\"}, {\"font\": {\"family\": \"Arial\", \"size\": 12}, \"showarrow\": false, \"text\": \"AS\", \"x\": 29, \"xanchor\": \"left\", \"xref\": \"x\", \"y\": 3.2317243833285163, \"yanchor\": \"middle\", \"yref\": \"y\"}, {\"font\": {\"family\": \"Arial\", \"size\": 12}, \"showarrow\": false, \"text\": \"IB\", \"x\": 30, \"xanchor\": \"left\", \"xref\": \"x\", \"y\": 3.149834696715785, \"yanchor\": \"middle\", \"yref\": \"y\"}, {\"font\": {\"family\": \"Arial\", \"size\": 12}, \"showarrow\": false, \"text\": \"PV\", \"x\": 36, \"xanchor\": \"left\", \"xref\": \"x\", \"y\": 3.9755237129603316, \"yanchor\": \"middle\", \"yref\": \"y\"}, {\"font\": {\"family\": \"Arial\", \"size\": 12}, \"showarrow\": false, \"text\": \"CN\", \"x\": 33, \"xanchor\": \"left\", \"xref\": \"x\", \"y\": 3.246005904076029, \"yanchor\": \"middle\", \"yref\": \"y\"}, {\"font\": {\"family\": \"Arial\", \"size\": 12}, \"showarrow\": false, \"text\": \"CB\", \"x\": 37, \"xanchor\": \"left\", \"xref\": \"x\", \"y\": 3.196452541703389, \"yanchor\": \"middle\", \"yref\": \"y\"}, {\"font\": {\"family\": \"Arial\", \"size\": 12}, \"showarrow\": false, \"text\": \"CL\", \"x\": 34, \"xanchor\": \"left\", \"xref\": \"x\", \"y\": 4.002511631284908, \"yanchor\": \"middle\", \"yref\": \"y\"}, {\"font\": {\"family\": \"Arial\", \"size\": 12}, \"showarrow\": false, \"text\": \"CM\", \"x\": 35, \"xanchor\": \"left\", \"xref\": \"x\", \"y\": 4.071440127177888, \"yanchor\": \"middle\", \"yref\": \"y\"}, {\"font\": {\"family\": \"Arial\", \"size\": 12}, \"showarrow\": false, \"text\": \"CT\", \"x\": 37, \"xanchor\": \"left\", \"xref\": \"x\", \"y\": 4.471980753370996, \"yanchor\": \"middle\", \"yref\": \"y\"}, {\"font\": {\"family\": \"Arial\", \"size\": 12}, \"showarrow\": false, \"text\": \"EX\", \"x\": 27, \"xanchor\": \"left\", \"xref\": \"x\", \"y\": 3.3392526340327, \"yanchor\": \"middle\", \"yref\": \"y\"}, {\"font\": {\"family\": \"Arial\", \"size\": 12}, \"showarrow\": false, \"text\": \"GA\", \"x\": 29, \"xanchor\": \"left\", \"xref\": \"x\", \"y\": 3.81544491624435, \"yanchor\": \"middle\", \"yref\": \"y\"}, {\"font\": {\"family\": \"Arial\", \"size\": 12}, \"showarrow\": false, \"text\": \"RI\", \"x\": 34, \"xanchor\": \"left\", \"xref\": \"x\", \"y\": 3.4699692094999595, \"yanchor\": \"middle\", \"yref\": \"y\"}, {\"font\": {\"family\": \"Arial\", \"size\": 12}, \"showarrow\": false, \"text\": \"MD\", \"x\": 38, \"xanchor\": \"left\", \"xref\": \"x\", \"y\": 4.627877694579971, \"yanchor\": \"middle\", \"yref\": \"y\"}, {\"font\": {\"family\": \"Arial\", \"size\": 12}, \"showarrow\": false, \"text\": \"MC\", \"x\": 28, \"xanchor\": \"left\", \"xref\": \"x\", \"y\": 3.1225435240687545, \"yanchor\": \"middle\", \"yref\": \"y\"}, {\"font\": {\"family\": \"Arial\", \"size\": 12}, \"showarrow\": false, \"text\": \"NC\", \"x\": 29, \"xanchor\": \"left\", \"xref\": \"x\", \"y\": 3.5399538416563967, \"yanchor\": \"middle\", \"yref\": \"y\"}, {\"font\": {\"family\": \"Arial\", \"size\": 12}, \"showarrow\": false, \"text\": \"VC\", \"x\": 39, \"xanchor\": \"left\", \"xref\": \"x\", \"y\": 3.88394519503428, \"yanchor\": \"middle\", \"yref\": \"y\"}], \"height\": 500, \"hovermode\": \"x\", \"template\": {\"data\": {\"bar\": [{\"error_x\": {\"color\": \"#2a3f5f\"}, \"error_y\": {\"color\": \"#2a3f5f\"}, \"marker\": {\"line\": {\"color\": \"white\", \"width\": 0.5}}, \"type\": \"bar\"}], \"barpolar\": [{\"marker\": {\"line\": {\"color\": \"white\", \"width\": 0.5}}, \"type\": \"barpolar\"}], \"carpet\": [{\"aaxis\": {\"endlinecolor\": \"#2a3f5f\", \"gridcolor\": \"#C8D4E3\", \"linecolor\": \"#C8D4E3\", \"minorgridcolor\": \"#C8D4E3\", \"startlinecolor\": \"#2a3f5f\"}, \"baxis\": {\"endlinecolor\": \"#2a3f5f\", \"gridcolor\": \"#C8D4E3\", \"linecolor\": \"#C8D4E3\", \"minorgridcolor\": \"#C8D4E3\", \"startlinecolor\": \"#2a3f5f\"}, \"type\": \"carpet\"}], \"choropleth\": [{\"colorbar\": {\"outlinewidth\": 0, \"ticks\": \"\"}, \"type\": \"choropleth\"}], \"contour\": [{\"colorbar\": {\"outlinewidth\": 0, \"ticks\": \"\"}, \"colorscale\": [[0.0, \"#0d0887\"], [0.1111111111111111, \"#46039f\"], [0.2222222222222222, \"#7201a8\"], [0.3333333333333333, \"#9c179e\"], [0.4444444444444444, \"#bd3786\"], [0.5555555555555556, \"#d8576b\"], [0.6666666666666666, \"#ed7953\"], [0.7777777777777778, \"#fb9f3a\"], [0.8888888888888888, \"#fdca26\"], [1.0, \"#f0f921\"]], \"type\": \"contour\"}], \"contourcarpet\": [{\"colorbar\": {\"outlinewidth\": 0, \"ticks\": \"\"}, \"type\": \"contourcarpet\"}], \"heatmap\": [{\"colorbar\": {\"outlinewidth\": 0, \"ticks\": \"\"}, \"colorscale\": [[0.0, \"#0d0887\"], [0.1111111111111111, \"#46039f\"], [0.2222222222222222, \"#7201a8\"], [0.3333333333333333, \"#9c179e\"], [0.4444444444444444, \"#bd3786\"], [0.5555555555555556, \"#d8576b\"], [0.6666666666666666, \"#ed7953\"], [0.7777777777777778, \"#fb9f3a\"], [0.8888888888888888, \"#fdca26\"], [1.0, \"#f0f921\"]], \"type\": \"heatmap\"}], \"heatmapgl\": [{\"colorbar\": {\"outlinewidth\": 0, \"ticks\": \"\"}, \"colorscale\": [[0.0, \"#0d0887\"], [0.1111111111111111, \"#46039f\"], [0.2222222222222222, \"#7201a8\"], [0.3333333333333333, \"#9c179e\"], [0.4444444444444444, \"#bd3786\"], [0.5555555555555556, \"#d8576b\"], [0.6666666666666666, \"#ed7953\"], [0.7777777777777778, \"#fb9f3a\"], [0.8888888888888888, \"#fdca26\"], [1.0, \"#f0f921\"]], \"type\": \"heatmapgl\"}], \"histogram\": [{\"marker\": {\"colorbar\": {\"outlinewidth\": 0, \"ticks\": \"\"}}, \"type\": \"histogram\"}], \"histogram2d\": [{\"colorbar\": {\"outlinewidth\": 0, \"ticks\": \"\"}, \"colorscale\": [[0.0, \"#0d0887\"], [0.1111111111111111, \"#46039f\"], [0.2222222222222222, \"#7201a8\"], [0.3333333333333333, \"#9c179e\"], [0.4444444444444444, \"#bd3786\"], [0.5555555555555556, \"#d8576b\"], [0.6666666666666666, \"#ed7953\"], [0.7777777777777778, \"#fb9f3a\"], [0.8888888888888888, \"#fdca26\"], [1.0, \"#f0f921\"]], \"type\": \"histogram2d\"}], \"histogram2dcontour\": [{\"colorbar\": {\"outlinewidth\": 0, \"ticks\": \"\"}, \"colorscale\": [[0.0, \"#0d0887\"], [0.1111111111111111, \"#46039f\"], [0.2222222222222222, \"#7201a8\"], [0.3333333333333333, \"#9c179e\"], [0.4444444444444444, \"#bd3786\"], [0.5555555555555556, \"#d8576b\"], [0.6666666666666666, \"#ed7953\"], [0.7777777777777778, \"#fb9f3a\"], [0.8888888888888888, \"#fdca26\"], [1.0, \"#f0f921\"]], \"type\": \"histogram2dcontour\"}], \"mesh3d\": [{\"colorbar\": {\"outlinewidth\": 0, \"ticks\": \"\"}, \"type\": \"mesh3d\"}], \"parcoords\": [{\"line\": {\"colorbar\": {\"outlinewidth\": 0, \"ticks\": \"\"}}, \"type\": \"parcoords\"}], \"pie\": [{\"automargin\": true, \"type\": \"pie\"}], \"scatter\": [{\"marker\": {\"colorbar\": {\"outlinewidth\": 0, \"ticks\": \"\"}}, \"type\": \"scatter\"}], \"scatter3d\": [{\"line\": {\"colorbar\": {\"outlinewidth\": 0, \"ticks\": \"\"}}, \"marker\": {\"colorbar\": {\"outlinewidth\": 0, \"ticks\": \"\"}}, \"type\": \"scatter3d\"}], \"scattercarpet\": [{\"marker\": {\"colorbar\": {\"outlinewidth\": 0, \"ticks\": \"\"}}, \"type\": \"scattercarpet\"}], \"scattergeo\": [{\"marker\": {\"colorbar\": {\"outlinewidth\": 0, \"ticks\": \"\"}}, \"type\": \"scattergeo\"}], \"scattergl\": [{\"marker\": {\"colorbar\": {\"outlinewidth\": 0, \"ticks\": \"\"}}, \"type\": \"scattergl\"}], \"scattermapbox\": [{\"marker\": {\"colorbar\": {\"outlinewidth\": 0, \"ticks\": \"\"}}, \"type\": \"scattermapbox\"}], \"scatterpolar\": [{\"marker\": {\"colorbar\": {\"outlinewidth\": 0, \"ticks\": \"\"}}, \"type\": \"scatterpolar\"}], \"scatterpolargl\": [{\"marker\": {\"colorbar\": {\"outlinewidth\": 0, \"ticks\": \"\"}}, \"type\": \"scatterpolargl\"}], \"scatterternary\": [{\"marker\": {\"colorbar\": {\"outlinewidth\": 0, \"ticks\": \"\"}}, \"type\": \"scatterternary\"}], \"surface\": [{\"colorbar\": {\"outlinewidth\": 0, \"ticks\": \"\"}, \"colorscale\": [[0.0, \"#0d0887\"], [0.1111111111111111, \"#46039f\"], [0.2222222222222222, \"#7201a8\"], [0.3333333333333333, \"#9c179e\"], [0.4444444444444444, \"#bd3786\"], [0.5555555555555556, \"#d8576b\"], [0.6666666666666666, \"#ed7953\"], [0.7777777777777778, \"#fb9f3a\"], [0.8888888888888888, \"#fdca26\"], [1.0, \"#f0f921\"]], \"type\": \"surface\"}], \"table\": [{\"cells\": {\"fill\": {\"color\": \"#EBF0F8\"}, \"line\": {\"color\": \"white\"}}, \"header\": {\"fill\": {\"color\": \"#C8D4E3\"}, \"line\": {\"color\": \"white\"}}, \"type\": \"table\"}]}, \"layout\": {\"annotationdefaults\": {\"arrowcolor\": \"#2a3f5f\", \"arrowhead\": 0, \"arrowwidth\": 1}, \"coloraxis\": {\"colorbar\": {\"outlinewidth\": 0, \"ticks\": \"\"}}, \"colorscale\": {\"diverging\": [[0, \"#8e0152\"], [0.1, \"#c51b7d\"], [0.2, \"#de77ae\"], [0.3, \"#f1b6da\"], [0.4, \"#fde0ef\"], [0.5, \"#f7f7f7\"], [0.6, \"#e6f5d0\"], [0.7, \"#b8e186\"], [0.8, \"#7fbc41\"], [0.9, \"#4d9221\"], [1, \"#276419\"]], \"sequential\": [[0.0, \"#0d0887\"], [0.1111111111111111, \"#46039f\"], [0.2222222222222222, \"#7201a8\"], [0.3333333333333333, \"#9c179e\"], [0.4444444444444444, \"#bd3786\"], [0.5555555555555556, \"#d8576b\"], [0.6666666666666666, \"#ed7953\"], [0.7777777777777778, \"#fb9f3a\"], [0.8888888888888888, \"#fdca26\"], [1.0, \"#f0f921\"]], \"sequentialminus\": [[0.0, \"#0d0887\"], [0.1111111111111111, \"#46039f\"], [0.2222222222222222, \"#7201a8\"], [0.3333333333333333, \"#9c179e\"], [0.4444444444444444, \"#bd3786\"], [0.5555555555555556, \"#d8576b\"], [0.6666666666666666, \"#ed7953\"], [0.7777777777777778, \"#fb9f3a\"], [0.8888888888888888, \"#fdca26\"], [1.0, \"#f0f921\"]]}, \"colorway\": [\"#636efa\", \"#EF553B\", \"#00cc96\", \"#ab63fa\", \"#FFA15A\", \"#19d3f3\", \"#FF6692\", \"#B6E880\", \"#FF97FF\", \"#FECB52\"], \"font\": {\"color\": \"#2a3f5f\"}, \"geo\": {\"bgcolor\": \"white\", \"lakecolor\": \"white\", \"landcolor\": \"white\", \"showlakes\": true, \"showland\": true, \"subunitcolor\": \"#C8D4E3\"}, \"hoverlabel\": {\"align\": \"left\"}, \"hovermode\": \"closest\", \"mapbox\": {\"style\": \"light\"}, \"paper_bgcolor\": \"white\", \"plot_bgcolor\": \"white\", \"polar\": {\"angularaxis\": {\"gridcolor\": \"#EBF0F8\", \"linecolor\": \"#EBF0F8\", \"ticks\": \"\"}, \"bgcolor\": \"white\", \"radialaxis\": {\"gridcolor\": \"#EBF0F8\", \"linecolor\": \"#EBF0F8\", \"ticks\": \"\"}}, \"scene\": {\"xaxis\": {\"backgroundcolor\": \"white\", \"gridcolor\": \"#DFE8F3\", \"gridwidth\": 2, \"linecolor\": \"#EBF0F8\", \"showbackground\": true, \"ticks\": \"\", \"zerolinecolor\": \"#EBF0F8\"}, \"yaxis\": {\"backgroundcolor\": \"white\", \"gridcolor\": \"#DFE8F3\", \"gridwidth\": 2, \"linecolor\": \"#EBF0F8\", \"showbackground\": true, \"ticks\": \"\", \"zerolinecolor\": \"#EBF0F8\"}, \"zaxis\": {\"backgroundcolor\": \"white\", \"gridcolor\": \"#DFE8F3\", \"gridwidth\": 2, \"linecolor\": \"#EBF0F8\", \"showbackground\": true, \"ticks\": \"\", \"zerolinecolor\": \"#EBF0F8\"}}, \"shapedefaults\": {\"line\": {\"color\": \"#2a3f5f\"}}, \"ternary\": {\"aaxis\": {\"gridcolor\": \"#DFE8F3\", \"linecolor\": \"#A2B1C6\", \"ticks\": \"\"}, \"baxis\": {\"gridcolor\": \"#DFE8F3\", \"linecolor\": \"#A2B1C6\", \"ticks\": \"\"}, \"bgcolor\": \"white\", \"caxis\": {\"gridcolor\": \"#DFE8F3\", \"linecolor\": \"#A2B1C6\", \"ticks\": \"\"}}, \"title\": {\"x\": 0.05}, \"xaxis\": {\"automargin\": true, \"gridcolor\": \"#EBF0F8\", \"linecolor\": \"#EBF0F8\", \"ticks\": \"\", \"title\": {\"standoff\": 15}, \"zerolinecolor\": \"#EBF0F8\", \"zerolinewidth\": 2}, \"yaxis\": {\"automargin\": true, \"gridcolor\": \"#EBF0F8\", \"linecolor\": \"#EBF0F8\", \"ticks\": \"\", \"title\": {\"standoff\": 15}, \"zerolinecolor\": \"#EBF0F8\", \"zerolinewidth\": 2}}}, \"title\": {\"text\": \"Comulative number of confirmed cases, by number of days since 10th case\"}, \"width\": 900, \"xaxis\": {\"title\": {\"text\": \"Number of days since 10th case\"}}, \"yaxis\": {\"title\": {\"text\": \"Comulative number of cases\"}, \"type\": \"log\"}},\n",
       "                        {\"responsive\": true}\n",
       "                    ).then(function(){\n",
       "                            \n",
       "var gd = document.getElementById('de554bbf-582d-43e7-8d95-981dd1eabfbe');\n",
       "var x = new MutationObserver(function (mutations, observer) {{\n",
       "        var display = window.getComputedStyle(gd).display;\n",
       "        if (!display || display === 'none') {{\n",
       "            console.log([gd, 'removed!']);\n",
       "            Plotly.purge(gd);\n",
       "            observer.disconnect();\n",
       "        }}\n",
       "}});\n",
       "\n",
       "// Listen for the removal of the full notebook cells\n",
       "var notebookContainer = gd.closest('#notebook-container');\n",
       "if (notebookContainer) {{\n",
       "    x.observe(notebookContainer, {childList: true});\n",
       "}}\n",
       "\n",
       "// Listen for the clearing of the current output cell\n",
       "var outputEl = gd.closest('.output');\n",
       "if (outputEl) {{\n",
       "    x.observe(outputEl, {childList: true});\n",
       "}}\n",
       "\n",
       "                        })\n",
       "                };\n",
       "                });\n",
       "            </script>\n",
       "        </div>"
      ]
     },
     "metadata": {},
     "output_type": "display_data"
    }
   ],
   "source": [
    "###########################################################################\n",
    "#### Confirmed\n",
    "\n",
    "data = dfs_norm_10case\n",
    "lines = Lines_cs\n",
    "title = 'Comulative number of confirmed cases, by number of days since 10th case'\n",
    "x_title = 'Number of days since 10th case'\n",
    "y_title = 'Comulative number of cases'\n",
    "yaxis_scale_value = 'log'\n",
    "\n",
    "fig = go.Figure()\n",
    "\n",
    "plot_data = []\n",
    "annotations = []\n",
    "for i, column in enumerate(data.columns):\n",
    "    plot_data.append(\n",
    "        go.Scatter(x=list(data.index.values),\n",
    "                   y=data[column],\n",
    "                   hovertemplate = '%{y:.0f}',\n",
    "                   mode='lines',\n",
    "                   line = {'color': coloursp[i]},\n",
    "                   opacity=0.6,\n",
    "                   name= column ))\n",
    "\n",
    "    plot_data.append(\n",
    "        go.Scatter(x = [data[column].dropna().index[-1]],\n",
    "                   y = [list(data[column].dropna())[-1]],\n",
    "                   mode='markers',\n",
    "                   marker = {'color': coloursp[i],\n",
    "                             'size' : 5},\n",
    "                   showlegend=False,\n",
    "                   opacity=0.6,\n",
    "                   hoverinfo='skip',) )\n",
    "\n",
    "    annotations.append(dict(xref='x',yref='y',\n",
    "                            x=data[column].dropna().index[-1],\n",
    "                            y=list(data[column].dropna())[-1],\n",
    "                            xanchor='left', yanchor='middle',\n",
    "                            text=df_loc.set_index('region_name').region.loc[column],\n",
    "                            font={'family':'Arial','size':12},\n",
    "                            showarrow=False))\n",
    "for column in lines.columns:\n",
    "    plot_data.append(\n",
    "        go.Scatter(x=list(lines.index.values),\n",
    "                   y=lines[column],\n",
    "                   hovertemplate = 'Doubles',\n",
    "                   mode='lines',\n",
    "                   opacity=0.5,\n",
    "                   line={'color': color_balck,\n",
    "                         'dash':'dash'},\n",
    "                   name=column) )\n",
    "    \n",
    "for i in range(0,plot_data.__len__()):\n",
    "    fig.add_trace(plot_data[i])\n",
    "    \n",
    "if yaxis_scale_value == 'log':\n",
    "    for i in annotations:\n",
    "        i['y'] = np.log10(i['y'])\n",
    "elif yaxis_scale_value == 'linear':\n",
    "    annotations = annotations\n",
    "\n",
    "fig.update_layout(  title = title,\n",
    "                    width = 900,\n",
    "                    height = 500,\n",
    "                    xaxis={'title': x_title,},\n",
    "                    yaxis={'title': y_title,\n",
    "                           'type': 'log' if yaxis_scale_value == 'log' else 'linear'},\n",
    "                    hovermode='x',\n",
    "                    annotations = annotations,\n",
    "                    template = 'plotly_white' \n",
    "                 )\n",
    "    \n",
    "fig.show()"
   ]
  },
  {
   "cell_type": "code",
   "execution_count": 8,
   "metadata": {},
   "outputs": [],
   "source": [
    "###############################################################################\n",
    "### Deaths\n",
    "\n",
    "dfs_pivot_d = dfs.pivot(index='date', columns='region_name',values='deaths')\n",
    "\n",
    "dfs_norm_3death = []\n",
    "for column in dfs_pivot_d.columns:\n",
    "    dfs_norm_3death.append(dfs_pivot_d[column][dfs_pivot_d[column] >= 3].values)\n",
    "\n",
    "dfs_norm_3death = pd.DataFrame(dfs_norm_3death).T\n",
    "\n",
    "dfs_norm_3death.columns = dfs_pivot_d.columns\n",
    "\n",
    "dfs_norm_3death = dfs_norm_3death.dropna(how='all',axis = 1)\n",
    "\n",
    "y_cutoff = 6000\n",
    "x_start = 3\n",
    "every_1day = [x_start]\n",
    "every_2days = [x_start]\n",
    "every_3days = [x_start]\n",
    "every_week = [x_start]\n",
    "for i in range(1,dfs_norm_3death.shape[0]+10):\n",
    "    x = x_start * (2 ** i)\n",
    "    if x > y_cutoff:\n",
    "        x = None\n",
    "        every_1day.append(x)\n",
    "    else: every_1day.append(x)\n",
    "    y = x_start * ((2 ** (1/2)) ** i)\n",
    "    if y > y_cutoff:\n",
    "        y = None\n",
    "        every_2days.append(y)\n",
    "    else: every_2days.append(y)\n",
    "    z = x_start * ((2**(1/3)) ** i)\n",
    "    if z > y_cutoff:\n",
    "        z = None\n",
    "        every_3days.append(z)\n",
    "    else: every_3days.append(z)\n",
    "    w = x_start * ((2**(1/7)) ** i)\n",
    "    if w > y_cutoff:\n",
    "        w = None\n",
    "        every_week.append(w)\n",
    "    else: every_week.append(w)\n",
    "\n",
    "Lines_ds = pd.DataFrame(every_1day,columns=['every 1 day'],dtype=np.float64)\n",
    "Lines_ds['every 2 days'] = pd.DataFrame(every_2days)\n",
    "Lines_ds['every 3 days'] = pd.DataFrame(every_3days)\n",
    "Lines_ds['every week'] = pd.DataFrame(every_week)"
   ]
  },
  {
   "cell_type": "code",
   "execution_count": 9,
   "metadata": {
    "scrolled": false
   },
   "outputs": [
    {
     "data": {
      "application/vnd.plotly.v1+json": {
       "config": {
        "plotlyServerURL": "https://plot.ly"
       },
       "data": [
        {
         "hovertemplate": "%{y:.0f}",
         "line": {
          "color": "#636EFA"
         },
         "mode": "lines",
         "name": "Andalusia",
         "opacity": 0.6,
         "type": "scatter",
         "x": [
          0,
          1,
          2,
          3,
          4,
          5,
          6,
          7,
          8,
          9,
          10,
          11,
          12,
          13,
          14,
          15,
          16,
          17,
          18,
          19,
          20,
          21,
          22,
          23,
          24,
          25,
          26,
          27,
          28,
          29,
          30
         ],
         "y": [
          6,
          7,
          11,
          19,
          23,
          30,
          40,
          47,
          58,
          87,
          113,
          134,
          144,
          175,
          207,
          236,
          248,
          308,
          343,
          376,
          426,
          470,
          491,
          528,
          605,
          null,
          null,
          null,
          null,
          null,
          null
         ]
        },
        {
         "hoverinfo": "skip",
         "marker": {
          "color": "#636EFA",
          "size": 5
         },
         "mode": "markers",
         "opacity": 0.6,
         "showlegend": false,
         "type": "scatter",
         "x": [
          24
         ],
         "y": [
          605
         ]
        },
        {
         "hovertemplate": "%{y:.0f}",
         "line": {
          "color": "#EF553B"
         },
         "mode": "lines",
         "name": "Aragon",
         "opacity": 0.6,
         "type": "scatter",
         "x": [
          0,
          1,
          2,
          3,
          4,
          5,
          6,
          7,
          8,
          9,
          10,
          11,
          12,
          13,
          14,
          15,
          16,
          17,
          18,
          19,
          20,
          21,
          22,
          23,
          24,
          25,
          26,
          27,
          28,
          29,
          30
         ],
         "y": [
          3,
          4,
          4,
          6,
          7,
          7,
          7,
          11,
          12,
          13,
          15,
          17,
          22,
          24,
          32,
          37,
          40,
          48,
          58,
          93,
          104,
          106,
          138,
          169,
          200,
          224,
          251,
          270,
          284,
          312,
          349
         ]
        },
        {
         "hoverinfo": "skip",
         "marker": {
          "color": "#EF553B",
          "size": 5
         },
         "mode": "markers",
         "opacity": 0.6,
         "showlegend": false,
         "type": "scatter",
         "x": [
          30
         ],
         "y": [
          349
         ]
        },
        {
         "hovertemplate": "%{y:.0f}",
         "line": {
          "color": "#00CC96"
         },
         "mode": "lines",
         "name": "Asturias",
         "opacity": 0.6,
         "type": "scatter",
         "x": [
          0,
          1,
          2,
          3,
          4,
          5,
          6,
          7,
          8,
          9,
          10,
          11,
          12,
          13,
          14,
          15,
          16,
          17,
          18,
          19,
          20,
          21,
          22,
          23,
          24,
          25,
          26,
          27,
          28,
          29,
          30
         ],
         "y": [
          5,
          8,
          12,
          22,
          25,
          27,
          29,
          33,
          41,
          49,
          55,
          63,
          69,
          70,
          76,
          80,
          86,
          96,
          102,
          null,
          null,
          null,
          null,
          null,
          null,
          null,
          null,
          null,
          null,
          null,
          null
         ]
        },
        {
         "hoverinfo": "skip",
         "marker": {
          "color": "#00CC96",
          "size": 5
         },
         "mode": "markers",
         "opacity": 0.6,
         "showlegend": false,
         "type": "scatter",
         "x": [
          18
         ],
         "y": [
          102
         ]
        },
        {
         "hovertemplate": "%{y:.0f}",
         "line": {
          "color": "#AB63FA"
         },
         "mode": "lines",
         "name": "Balearic Islands",
         "opacity": 0.6,
         "type": "scatter",
         "x": [
          0,
          1,
          2,
          3,
          4,
          5,
          6,
          7,
          8,
          9,
          10,
          11,
          12,
          13,
          14,
          15,
          16,
          17,
          18,
          19,
          20,
          21,
          22,
          23,
          24,
          25,
          26,
          27,
          28,
          29,
          30
         ],
         "y": [
          4,
          4,
          10,
          10,
          13,
          17,
          22,
          26,
          29,
          37,
          42,
          46,
          58,
          69,
          71,
          75,
          81,
          84,
          89,
          null,
          null,
          null,
          null,
          null,
          null,
          null,
          null,
          null,
          null,
          null,
          null
         ]
        },
        {
         "hoverinfo": "skip",
         "marker": {
          "color": "#AB63FA",
          "size": 5
         },
         "mode": "markers",
         "opacity": 0.6,
         "showlegend": false,
         "type": "scatter",
         "x": [
          18
         ],
         "y": [
          89
         ]
        },
        {
         "hovertemplate": "%{y:.0f}",
         "line": {
          "color": "#FFA15A"
         },
         "mode": "lines",
         "name": "Basque Country",
         "opacity": 0.6,
         "type": "scatter",
         "x": [
          0,
          1,
          2,
          3,
          4,
          5,
          6,
          7,
          8,
          9,
          10,
          11,
          12,
          13,
          14,
          15,
          16,
          17,
          18,
          19,
          20,
          21,
          22,
          23,
          24,
          25,
          26,
          27,
          28,
          29,
          30
         ],
         "y": [
          6,
          6,
          6,
          11,
          14,
          14,
          23,
          23,
          36,
          40,
          53,
          71,
          85,
          97,
          120,
          133,
          155,
          180,
          207,
          241,
          265,
          297,
          325,
          369,
          412,
          444,
          477,
          515,
          548,
          586,
          635
         ]
        },
        {
         "hoverinfo": "skip",
         "marker": {
          "color": "#FFA15A",
          "size": 5
         },
         "mode": "markers",
         "opacity": 0.6,
         "showlegend": false,
         "type": "scatter",
         "x": [
          30
         ],
         "y": [
          635
         ]
        },
        {
         "hovertemplate": "%{y:.0f}",
         "line": {
          "color": "#19D3F3"
         },
         "mode": "lines",
         "name": "Canary Islands",
         "opacity": 0.6,
         "type": "scatter",
         "x": [
          0,
          1,
          2,
          3,
          4,
          5,
          6,
          7,
          8,
          9,
          10,
          11,
          12,
          13,
          14,
          15,
          16,
          17,
          18,
          19,
          20,
          21,
          22,
          23,
          24,
          25,
          26,
          27,
          28,
          29,
          30
         ],
         "y": [
          3,
          3,
          4,
          7,
          9,
          11,
          16,
          21,
          24,
          27,
          36,
          39,
          40,
          55,
          62,
          68,
          73,
          78,
          80,
          85,
          89,
          91,
          null,
          null,
          null,
          null,
          null,
          null,
          null,
          null,
          null
         ]
        },
        {
         "hoverinfo": "skip",
         "marker": {
          "color": "#19D3F3",
          "size": 5
         },
         "mode": "markers",
         "opacity": 0.6,
         "showlegend": false,
         "type": "scatter",
         "x": [
          21
         ],
         "y": [
          91
         ]
        },
        {
         "hovertemplate": "%{y:.0f}",
         "line": {
          "color": "#FF6692"
         },
         "mode": "lines",
         "name": "Cantabria",
         "opacity": 0.6,
         "type": "scatter",
         "x": [
          0,
          1,
          2,
          3,
          4,
          5,
          6,
          7,
          8,
          9,
          10,
          11,
          12,
          13,
          14,
          15,
          16,
          17,
          18,
          19,
          20,
          21,
          22,
          23,
          24,
          25,
          26,
          27,
          28,
          29,
          30
         ],
         "y": [
          5,
          6,
          9,
          14,
          17,
          21,
          22,
          26,
          27,
          37,
          54,
          60,
          64,
          68,
          68,
          77,
          85,
          92,
          null,
          null,
          null,
          null,
          null,
          null,
          null,
          null,
          null,
          null,
          null,
          null,
          null
         ]
        },
        {
         "hoverinfo": "skip",
         "marker": {
          "color": "#FF6692",
          "size": 5
         },
         "mode": "markers",
         "opacity": 0.6,
         "showlegend": false,
         "type": "scatter",
         "x": [
          17
         ],
         "y": [
          92
         ]
        },
        {
         "hovertemplate": "%{y:.0f}",
         "line": {
          "color": "#B6E880"
         },
         "mode": "lines",
         "name": "Castille and Leon",
         "opacity": 0.6,
         "type": "scatter",
         "x": [
          0,
          1,
          2,
          3,
          4,
          5,
          6,
          7,
          8,
          9,
          10,
          11,
          12,
          13,
          14,
          15,
          16,
          17,
          18,
          19,
          20,
          21,
          22,
          23,
          24,
          25,
          26,
          27,
          28,
          29,
          30
         ],
         "y": [
          3,
          6,
          12,
          22,
          29,
          43,
          55,
          74,
          102,
          124,
          165,
          206,
          252,
          321,
          380,
          442,
          516,
          585,
          641,
          723,
          786,
          847,
          919,
          982,
          1028,
          null,
          null,
          null,
          null,
          null,
          null
         ]
        },
        {
         "hoverinfo": "skip",
         "marker": {
          "color": "#B6E880",
          "size": 5
         },
         "mode": "markers",
         "opacity": 0.6,
         "showlegend": false,
         "type": "scatter",
         "x": [
          24
         ],
         "y": [
          1028
         ]
        },
        {
         "hovertemplate": "%{y:.0f}",
         "line": {
          "color": "#FF97FF"
         },
         "mode": "lines",
         "name": "Castille-La Mancha",
         "opacity": 0.6,
         "type": "scatter",
         "x": [
          0,
          1,
          2,
          3,
          4,
          5,
          6,
          7,
          8,
          9,
          10,
          11,
          12,
          13,
          14,
          15,
          16,
          17,
          18,
          19,
          20,
          21,
          22,
          23,
          24,
          25,
          26,
          27,
          28,
          29,
          30
         ],
         "y": [
          5,
          6,
          10,
          17,
          17,
          28,
          42,
          42,
          84,
          112,
          145,
          216,
          263,
          316,
          367,
          448,
          539,
          622,
          708,
          774,
          854,
          916,
          989,
          1055,
          1132,
          1177,
          1255,
          null,
          null,
          null,
          null
         ]
        },
        {
         "hoverinfo": "skip",
         "marker": {
          "color": "#FF97FF",
          "size": 5
         },
         "mode": "markers",
         "opacity": 0.6,
         "showlegend": false,
         "type": "scatter",
         "x": [
          26
         ],
         "y": [
          1255
         ]
        },
        {
         "hovertemplate": "%{y:.0f}",
         "line": {
          "color": "#FECB52"
         },
         "mode": "lines",
         "name": "Catalonia",
         "opacity": 0.6,
         "type": "scatter",
         "x": [
          0,
          1,
          2,
          3,
          4,
          5,
          6,
          7,
          8,
          9,
          10,
          11,
          12,
          13,
          14,
          15,
          16,
          17,
          18,
          19,
          20,
          21,
          22,
          23,
          24,
          25,
          26,
          27,
          28,
          29,
          30
         ],
         "y": [
          3,
          3,
          4,
          6,
          6,
          8,
          12,
          18,
          41,
          55,
          82,
          122,
          191,
          245,
          282,
          516,
          672,
          880,
          1070,
          1226,
          1410,
          1672,
          1849,
          2093,
          2335,
          2508,
          2637,
          2760,
          2908,
          3041,
          null
         ]
        },
        {
         "hoverinfo": "skip",
         "marker": {
          "color": "#FECB52",
          "size": 5
         },
         "mode": "markers",
         "opacity": 0.6,
         "showlegend": false,
         "type": "scatter",
         "x": [
          29
         ],
         "y": [
          3041
         ]
        },
        {
         "hovertemplate": "%{y:.0f}",
         "line": {
          "color": "#636EFA"
         },
         "mode": "lines",
         "name": "Extremadura",
         "opacity": 0.6,
         "type": "scatter",
         "x": [
          0,
          1,
          2,
          3,
          4,
          5,
          6,
          7,
          8,
          9,
          10,
          11,
          12,
          13,
          14,
          15,
          16,
          17,
          18,
          19,
          20,
          21,
          22,
          23,
          24,
          25,
          26,
          27,
          28,
          29,
          30
         ],
         "y": [
          3,
          6,
          8,
          10,
          12,
          14,
          18,
          26,
          39,
          58,
          69,
          88,
          100,
          106,
          133,
          152,
          181,
          200,
          208,
          218,
          228,
          258,
          271,
          null,
          null,
          null,
          null,
          null,
          null,
          null,
          null
         ]
        },
        {
         "hoverinfo": "skip",
         "marker": {
          "color": "#636EFA",
          "size": 5
         },
         "mode": "markers",
         "opacity": 0.6,
         "showlegend": false,
         "type": "scatter",
         "x": [
          22
         ],
         "y": [
          271
         ]
        },
        {
         "hovertemplate": "%{y:.0f}",
         "line": {
          "color": "#EF553B"
         },
         "mode": "lines",
         "name": "Galicia",
         "opacity": 0.6,
         "type": "scatter",
         "x": [
          0,
          1,
          2,
          3,
          4,
          5,
          6,
          7,
          8,
          9,
          10,
          11,
          12,
          13,
          14,
          15,
          16,
          17,
          18,
          19,
          20,
          21,
          22,
          23,
          24,
          25,
          26,
          27,
          28,
          29,
          30
         ],
         "y": [
          3,
          3,
          4,
          5,
          9,
          12,
          18,
          20,
          27,
          32,
          43,
          47,
          60,
          66,
          84,
          103,
          120,
          138,
          159,
          174,
          190,
          204,
          213,
          null,
          null,
          null,
          null,
          null,
          null,
          null,
          null
         ]
        },
        {
         "hoverinfo": "skip",
         "marker": {
          "color": "#EF553B",
          "size": 5
         },
         "mode": "markers",
         "opacity": 0.6,
         "showlegend": false,
         "type": "scatter",
         "x": [
          22
         ],
         "y": [
          213
         ]
        },
        {
         "hovertemplate": "%{y:.0f}",
         "line": {
          "color": "#00CC96"
         },
         "mode": "lines",
         "name": "La Rioja",
         "opacity": 0.6,
         "type": "scatter",
         "x": [
          0,
          1,
          2,
          3,
          4,
          5,
          6,
          7,
          8,
          9,
          10,
          11,
          12,
          13,
          14,
          15,
          16,
          17,
          18,
          19,
          20,
          21,
          22,
          23,
          24,
          25,
          26,
          27,
          28,
          29,
          30
         ],
         "y": [
          3,
          3,
          3,
          4,
          5,
          5,
          5,
          7,
          15,
          18,
          22,
          30,
          37,
          43,
          55,
          65,
          68,
          71,
          85,
          90,
          101,
          109,
          128,
          134,
          141,
          160,
          177,
          null,
          null,
          null,
          null
         ]
        },
        {
         "hoverinfo": "skip",
         "marker": {
          "color": "#00CC96",
          "size": 5
         },
         "mode": "markers",
         "opacity": 0.6,
         "showlegend": false,
         "type": "scatter",
         "x": [
          26
         ],
         "y": [
          177
         ]
        },
        {
         "hovertemplate": "%{y:.0f}",
         "line": {
          "color": "#AB63FA"
         },
         "mode": "lines",
         "name": "Madrid",
         "opacity": 0.6,
         "type": "scatter",
         "x": [
          0,
          1,
          2,
          3,
          4,
          5,
          6,
          7,
          8,
          9,
          10,
          11,
          12,
          13,
          14,
          15,
          16,
          17,
          18,
          19,
          20,
          21,
          22,
          23,
          24,
          25,
          26,
          27,
          28,
          29,
          30
         ],
         "y": [
          16,
          21,
          31,
          56,
          81,
          86,
          213,
          213,
          355,
          390,
          498,
          628,
          804,
          1021,
          1263,
          1535,
          1825,
          2090,
          2412,
          2757,
          3082,
          3392,
          3603,
          3865,
          4175,
          4483,
          4723,
          4941,
          5136,
          5371,
          5586
         ]
        },
        {
         "hoverinfo": "skip",
         "marker": {
          "color": "#AB63FA",
          "size": 5
         },
         "mode": "markers",
         "opacity": 0.6,
         "showlegend": false,
         "type": "scatter",
         "x": [
          30
         ],
         "y": [
          5586
         ]
        },
        {
         "hovertemplate": "%{y:.0f}",
         "line": {
          "color": "#FFA15A"
         },
         "mode": "lines",
         "name": "Murcia",
         "opacity": 0.6,
         "type": "scatter",
         "x": [
          0,
          1,
          2,
          3,
          4,
          5,
          6,
          7,
          8,
          9,
          10,
          11,
          12,
          13,
          14,
          15,
          16,
          17,
          18,
          19,
          20,
          21,
          22,
          23,
          24,
          25,
          26,
          27,
          28,
          29,
          30
         ],
         "y": [
          3,
          5,
          8,
          15,
          17,
          20,
          25,
          34,
          37,
          42,
          46,
          51,
          59,
          68,
          78,
          85,
          null,
          null,
          null,
          null,
          null,
          null,
          null,
          null,
          null,
          null,
          null,
          null,
          null,
          null,
          null
         ]
        },
        {
         "hoverinfo": "skip",
         "marker": {
          "color": "#FFA15A",
          "size": 5
         },
         "mode": "markers",
         "opacity": 0.6,
         "showlegend": false,
         "type": "scatter",
         "x": [
          15
         ],
         "y": [
          85
         ]
        },
        {
         "hovertemplate": "%{y:.0f}",
         "line": {
          "color": "#19D3F3"
         },
         "mode": "lines",
         "name": "Navarre",
         "opacity": 0.6,
         "type": "scatter",
         "x": [
          0,
          1,
          2,
          3,
          4,
          5,
          6,
          7,
          8,
          9,
          10,
          11,
          12,
          13,
          14,
          15,
          16,
          17,
          18,
          19,
          20,
          21,
          22,
          23,
          24,
          25,
          26,
          27,
          28,
          29,
          30
         ],
         "y": [
          3,
          4,
          5,
          9,
          14,
          24,
          31,
          33,
          49,
          58,
          70,
          84,
          102,
          113,
          130,
          141,
          151,
          171,
          178,
          187,
          202,
          206,
          null,
          null,
          null,
          null,
          null,
          null,
          null,
          null,
          null
         ]
        },
        {
         "hoverinfo": "skip",
         "marker": {
          "color": "#19D3F3",
          "size": 5
         },
         "mode": "markers",
         "opacity": 0.6,
         "showlegend": false,
         "type": "scatter",
         "x": [
          21
         ],
         "y": [
          206
         ]
        },
        {
         "hovertemplate": "%{y:.0f}",
         "line": {
          "color": "#FF6692"
         },
         "mode": "lines",
         "name": "Valencia",
         "opacity": 0.6,
         "type": "scatter",
         "x": [
          0,
          1,
          2,
          3,
          4,
          5,
          6,
          7,
          8,
          9,
          10,
          11,
          12,
          13,
          14,
          15,
          16,
          17,
          18,
          19,
          20,
          21,
          22,
          23,
          24,
          25,
          26,
          27,
          28,
          29,
          30
         ],
         "y": [
          4,
          5,
          5,
          13,
          22,
          24,
          33,
          50,
          69,
          94,
          115,
          143,
          167,
          198,
          234,
          267,
          310,
          339,
          395,
          443,
          511,
          571,
          613,
          637,
          672,
          724,
          null,
          null,
          null,
          null,
          null
         ]
        },
        {
         "hoverinfo": "skip",
         "marker": {
          "color": "#FF6692",
          "size": 5
         },
         "mode": "markers",
         "opacity": 0.6,
         "showlegend": false,
         "type": "scatter",
         "x": [
          25
         ],
         "y": [
          724
         ]
        },
        {
         "hovertemplate": "Doubles",
         "line": {
          "color": "rgb(67,67,67)",
          "dash": "dash"
         },
         "mode": "lines",
         "name": "every 1 day",
         "opacity": 0.5,
         "type": "scatter",
         "x": [
          0,
          1,
          2,
          3,
          4,
          5,
          6,
          7,
          8,
          9,
          10,
          11,
          12,
          13,
          14,
          15,
          16,
          17,
          18,
          19,
          20,
          21,
          22,
          23,
          24,
          25,
          26,
          27,
          28,
          29,
          30,
          31,
          32,
          33,
          34,
          35,
          36,
          37,
          38,
          39,
          40
         ],
         "y": [
          3,
          6,
          12,
          24,
          48,
          96,
          192,
          384,
          768,
          1536,
          3072,
          null,
          null,
          null,
          null,
          null,
          null,
          null,
          null,
          null,
          null,
          null,
          null,
          null,
          null,
          null,
          null,
          null,
          null,
          null,
          null,
          null,
          null,
          null,
          null,
          null,
          null,
          null,
          null,
          null,
          null
         ]
        },
        {
         "hovertemplate": "Doubles",
         "line": {
          "color": "rgb(67,67,67)",
          "dash": "dash"
         },
         "mode": "lines",
         "name": "every 2 days",
         "opacity": 0.5,
         "type": "scatter",
         "x": [
          0,
          1,
          2,
          3,
          4,
          5,
          6,
          7,
          8,
          9,
          10,
          11,
          12,
          13,
          14,
          15,
          16,
          17,
          18,
          19,
          20,
          21,
          22,
          23,
          24,
          25,
          26,
          27,
          28,
          29,
          30,
          31,
          32,
          33,
          34,
          35,
          36,
          37,
          38,
          39,
          40
         ],
         "y": [
          3,
          4.242640687119286,
          6.000000000000002,
          8.485281374238571,
          12.000000000000004,
          16.970562748477146,
          24.00000000000001,
          33.9411254969543,
          48.00000000000002,
          67.8822509939086,
          96.00000000000006,
          135.76450198781723,
          192.00000000000017,
          271.5290039756345,
          384.00000000000034,
          543.058007951269,
          768.0000000000009,
          1086.1160159025383,
          1536.000000000002,
          2172.232031805077,
          3072.000000000004,
          4344.464063610154,
          null,
          null,
          null,
          null,
          null,
          null,
          null,
          null,
          null,
          null,
          null,
          null,
          null,
          null,
          null,
          null,
          null,
          null,
          null
         ]
        },
        {
         "hovertemplate": "Doubles",
         "line": {
          "color": "rgb(67,67,67)",
          "dash": "dash"
         },
         "mode": "lines",
         "name": "every 3 days",
         "opacity": 0.5,
         "type": "scatter",
         "x": [
          0,
          1,
          2,
          3,
          4,
          5,
          6,
          7,
          8,
          9,
          10,
          11,
          12,
          13,
          14,
          15,
          16,
          17,
          18,
          19,
          20,
          21,
          22,
          23,
          24,
          25,
          26,
          27,
          28,
          29,
          30,
          31,
          32,
          33,
          34,
          35,
          36,
          37,
          38,
          39,
          40
         ],
         "y": [
          3,
          3.7797631496846193,
          4.762203155904599,
          6,
          7.559526299369239,
          9.524406311809198,
          12.000000000000004,
          15.119052598738481,
          19.048812623618396,
          24.000000000000007,
          30.238105197476962,
          38.09762524723679,
          48.000000000000014,
          60.476210394953924,
          76.1952504944736,
          96.00000000000003,
          120.95242078990788,
          152.3905009889472,
          192.00000000000009,
          241.90484157981575,
          304.7810019778944,
          384.00000000000017,
          483.8096831596315,
          609.5620039557889,
          768.0000000000003,
          967.6193663192631,
          1219.1240079115778,
          1536.0000000000007,
          1935.2387326385262,
          2438.248015823156,
          3072.000000000002,
          3870.4774652770525,
          4876.496031646312,
          null,
          null,
          null,
          null,
          null,
          null,
          null,
          null
         ]
        },
        {
         "hovertemplate": "Doubles",
         "line": {
          "color": "rgb(67,67,67)",
          "dash": "dash"
         },
         "mode": "lines",
         "name": "every week",
         "opacity": 0.5,
         "type": "scatter",
         "x": [
          0,
          1,
          2,
          3,
          4,
          5,
          6,
          7,
          8,
          9,
          10,
          11,
          12,
          13,
          14,
          15,
          16,
          17,
          18,
          19,
          20,
          21,
          22,
          23,
          24,
          25,
          26,
          27,
          28,
          29,
          30,
          31,
          32,
          33,
          34,
          35,
          36,
          37,
          38,
          39,
          40
         ],
         "y": [
          3,
          3.312268541021437,
          3.6570409626134257,
          4.037700577897067,
          4.457982867410844,
          4.922012136045826,
          5.434341985583438,
          5.9999999999999964,
          6.6245370820428695,
          7.314081925226847,
          8.07540115579413,
          8.915965734821683,
          9.844024272091646,
          10.868683971166869,
          11.999999999999986,
          13.249074164085734,
          14.628163850453685,
          16.15080231158825,
          17.831931469643358,
          19.68804854418328,
          21.737367942333726,
          23.99999999999996,
          26.498148328171453,
          29.256327700907356,
          32.30160462317649,
          35.663862939286695,
          39.37609708836654,
          43.474735884667425,
          47.99999999999989,
          52.99629665634287,
          58.51265540181468,
          64.60320924635293,
          71.32772587857335,
          78.75219417673304,
          86.9494717693348,
          95.99999999999973,
          105.99259331268567,
          117.0253108036293,
          129.2064184927058,
          142.6554517571466,
          157.50438835346597
         ]
        }
       ],
       "layout": {
        "annotations": [
         {
          "font": {
           "family": "Arial",
           "size": 12
          },
          "showarrow": false,
          "text": "AN",
          "x": 24,
          "xanchor": "left",
          "xref": "x",
          "y": 2.781755374652469,
          "yanchor": "middle",
          "yref": "y"
         },
         {
          "font": {
           "family": "Arial",
           "size": 12
          },
          "showarrow": false,
          "text": "AR",
          "x": 30,
          "xanchor": "left",
          "xref": "x",
          "y": 2.5428254269591797,
          "yanchor": "middle",
          "yref": "y"
         },
         {
          "font": {
           "family": "Arial",
           "size": 12
          },
          "showarrow": false,
          "text": "AS",
          "x": 18,
          "xanchor": "left",
          "xref": "x",
          "y": 2.0086001717619175,
          "yanchor": "middle",
          "yref": "y"
         },
         {
          "font": {
           "family": "Arial",
           "size": 12
          },
          "showarrow": false,
          "text": "IB",
          "x": 18,
          "xanchor": "left",
          "xref": "x",
          "y": 1.9493900066449128,
          "yanchor": "middle",
          "yref": "y"
         },
         {
          "font": {
           "family": "Arial",
           "size": 12
          },
          "showarrow": false,
          "text": "PV",
          "x": 30,
          "xanchor": "left",
          "xref": "x",
          "y": 2.8027737252919755,
          "yanchor": "middle",
          "yref": "y"
         },
         {
          "font": {
           "family": "Arial",
           "size": 12
          },
          "showarrow": false,
          "text": "CN",
          "x": 21,
          "xanchor": "left",
          "xref": "x",
          "y": 1.9590413923210936,
          "yanchor": "middle",
          "yref": "y"
         },
         {
          "font": {
           "family": "Arial",
           "size": 12
          },
          "showarrow": false,
          "text": "CB",
          "x": 17,
          "xanchor": "left",
          "xref": "x",
          "y": 1.9637878273455553,
          "yanchor": "middle",
          "yref": "y"
         },
         {
          "font": {
           "family": "Arial",
           "size": 12
          },
          "showarrow": false,
          "text": "CL",
          "x": 24,
          "xanchor": "left",
          "xref": "x",
          "y": 3.011993114659257,
          "yanchor": "middle",
          "yref": "y"
         },
         {
          "font": {
           "family": "Arial",
           "size": 12
          },
          "showarrow": false,
          "text": "CM",
          "x": 26,
          "xanchor": "left",
          "xref": "x",
          "y": 3.098643725817057,
          "yanchor": "middle",
          "yref": "y"
         },
         {
          "font": {
           "family": "Arial",
           "size": 12
          },
          "showarrow": false,
          "text": "CT",
          "x": 29,
          "xanchor": "left",
          "xref": "x",
          "y": 3.483016420144132,
          "yanchor": "middle",
          "yref": "y"
         },
         {
          "font": {
           "family": "Arial",
           "size": 12
          },
          "showarrow": false,
          "text": "EX",
          "x": 22,
          "xanchor": "left",
          "xref": "x",
          "y": 2.432969290874406,
          "yanchor": "middle",
          "yref": "y"
         },
         {
          "font": {
           "family": "Arial",
           "size": 12
          },
          "showarrow": false,
          "text": "GA",
          "x": 22,
          "xanchor": "left",
          "xref": "x",
          "y": 2.3283796034387376,
          "yanchor": "middle",
          "yref": "y"
         },
         {
          "font": {
           "family": "Arial",
           "size": 12
          },
          "showarrow": false,
          "text": "RI",
          "x": 26,
          "xanchor": "left",
          "xref": "x",
          "y": 2.247973266361807,
          "yanchor": "middle",
          "yref": "y"
         },
         {
          "font": {
           "family": "Arial",
           "size": 12
          },
          "showarrow": false,
          "text": "MD",
          "x": 30,
          "xanchor": "left",
          "xref": "x",
          "y": 3.747100931364986,
          "yanchor": "middle",
          "yref": "y"
         },
         {
          "font": {
           "family": "Arial",
           "size": 12
          },
          "showarrow": false,
          "text": "MC",
          "x": 15,
          "xanchor": "left",
          "xref": "x",
          "y": 1.9294189257142926,
          "yanchor": "middle",
          "yref": "y"
         },
         {
          "font": {
           "family": "Arial",
           "size": 12
          },
          "showarrow": false,
          "text": "NC",
          "x": 21,
          "xanchor": "left",
          "xref": "x",
          "y": 2.3138672203691533,
          "yanchor": "middle",
          "yref": "y"
         },
         {
          "font": {
           "family": "Arial",
           "size": 12
          },
          "showarrow": false,
          "text": "VC",
          "x": 25,
          "xanchor": "left",
          "xref": "x",
          "y": 2.859738566197147,
          "yanchor": "middle",
          "yref": "y"
         }
        ],
        "height": 500,
        "hovermode": "x",
        "template": {
         "data": {
          "bar": [
           {
            "error_x": {
             "color": "#2a3f5f"
            },
            "error_y": {
             "color": "#2a3f5f"
            },
            "marker": {
             "line": {
              "color": "#E5ECF6",
              "width": 0.5
             }
            },
            "type": "bar"
           }
          ],
          "barpolar": [
           {
            "marker": {
             "line": {
              "color": "#E5ECF6",
              "width": 0.5
             }
            },
            "type": "barpolar"
           }
          ],
          "carpet": [
           {
            "aaxis": {
             "endlinecolor": "#2a3f5f",
             "gridcolor": "white",
             "linecolor": "white",
             "minorgridcolor": "white",
             "startlinecolor": "#2a3f5f"
            },
            "baxis": {
             "endlinecolor": "#2a3f5f",
             "gridcolor": "white",
             "linecolor": "white",
             "minorgridcolor": "white",
             "startlinecolor": "#2a3f5f"
            },
            "type": "carpet"
           }
          ],
          "choropleth": [
           {
            "colorbar": {
             "outlinewidth": 0,
             "ticks": ""
            },
            "type": "choropleth"
           }
          ],
          "contour": [
           {
            "colorbar": {
             "outlinewidth": 0,
             "ticks": ""
            },
            "colorscale": [
             [
              0,
              "#0d0887"
             ],
             [
              0.1111111111111111,
              "#46039f"
             ],
             [
              0.2222222222222222,
              "#7201a8"
             ],
             [
              0.3333333333333333,
              "#9c179e"
             ],
             [
              0.4444444444444444,
              "#bd3786"
             ],
             [
              0.5555555555555556,
              "#d8576b"
             ],
             [
              0.6666666666666666,
              "#ed7953"
             ],
             [
              0.7777777777777778,
              "#fb9f3a"
             ],
             [
              0.8888888888888888,
              "#fdca26"
             ],
             [
              1,
              "#f0f921"
             ]
            ],
            "type": "contour"
           }
          ],
          "contourcarpet": [
           {
            "colorbar": {
             "outlinewidth": 0,
             "ticks": ""
            },
            "type": "contourcarpet"
           }
          ],
          "heatmap": [
           {
            "colorbar": {
             "outlinewidth": 0,
             "ticks": ""
            },
            "colorscale": [
             [
              0,
              "#0d0887"
             ],
             [
              0.1111111111111111,
              "#46039f"
             ],
             [
              0.2222222222222222,
              "#7201a8"
             ],
             [
              0.3333333333333333,
              "#9c179e"
             ],
             [
              0.4444444444444444,
              "#bd3786"
             ],
             [
              0.5555555555555556,
              "#d8576b"
             ],
             [
              0.6666666666666666,
              "#ed7953"
             ],
             [
              0.7777777777777778,
              "#fb9f3a"
             ],
             [
              0.8888888888888888,
              "#fdca26"
             ],
             [
              1,
              "#f0f921"
             ]
            ],
            "type": "heatmap"
           }
          ],
          "heatmapgl": [
           {
            "colorbar": {
             "outlinewidth": 0,
             "ticks": ""
            },
            "colorscale": [
             [
              0,
              "#0d0887"
             ],
             [
              0.1111111111111111,
              "#46039f"
             ],
             [
              0.2222222222222222,
              "#7201a8"
             ],
             [
              0.3333333333333333,
              "#9c179e"
             ],
             [
              0.4444444444444444,
              "#bd3786"
             ],
             [
              0.5555555555555556,
              "#d8576b"
             ],
             [
              0.6666666666666666,
              "#ed7953"
             ],
             [
              0.7777777777777778,
              "#fb9f3a"
             ],
             [
              0.8888888888888888,
              "#fdca26"
             ],
             [
              1,
              "#f0f921"
             ]
            ],
            "type": "heatmapgl"
           }
          ],
          "histogram": [
           {
            "marker": {
             "colorbar": {
              "outlinewidth": 0,
              "ticks": ""
             }
            },
            "type": "histogram"
           }
          ],
          "histogram2d": [
           {
            "colorbar": {
             "outlinewidth": 0,
             "ticks": ""
            },
            "colorscale": [
             [
              0,
              "#0d0887"
             ],
             [
              0.1111111111111111,
              "#46039f"
             ],
             [
              0.2222222222222222,
              "#7201a8"
             ],
             [
              0.3333333333333333,
              "#9c179e"
             ],
             [
              0.4444444444444444,
              "#bd3786"
             ],
             [
              0.5555555555555556,
              "#d8576b"
             ],
             [
              0.6666666666666666,
              "#ed7953"
             ],
             [
              0.7777777777777778,
              "#fb9f3a"
             ],
             [
              0.8888888888888888,
              "#fdca26"
             ],
             [
              1,
              "#f0f921"
             ]
            ],
            "type": "histogram2d"
           }
          ],
          "histogram2dcontour": [
           {
            "colorbar": {
             "outlinewidth": 0,
             "ticks": ""
            },
            "colorscale": [
             [
              0,
              "#0d0887"
             ],
             [
              0.1111111111111111,
              "#46039f"
             ],
             [
              0.2222222222222222,
              "#7201a8"
             ],
             [
              0.3333333333333333,
              "#9c179e"
             ],
             [
              0.4444444444444444,
              "#bd3786"
             ],
             [
              0.5555555555555556,
              "#d8576b"
             ],
             [
              0.6666666666666666,
              "#ed7953"
             ],
             [
              0.7777777777777778,
              "#fb9f3a"
             ],
             [
              0.8888888888888888,
              "#fdca26"
             ],
             [
              1,
              "#f0f921"
             ]
            ],
            "type": "histogram2dcontour"
           }
          ],
          "mesh3d": [
           {
            "colorbar": {
             "outlinewidth": 0,
             "ticks": ""
            },
            "type": "mesh3d"
           }
          ],
          "parcoords": [
           {
            "line": {
             "colorbar": {
              "outlinewidth": 0,
              "ticks": ""
             }
            },
            "type": "parcoords"
           }
          ],
          "pie": [
           {
            "automargin": true,
            "type": "pie"
           }
          ],
          "scatter": [
           {
            "marker": {
             "colorbar": {
              "outlinewidth": 0,
              "ticks": ""
             }
            },
            "type": "scatter"
           }
          ],
          "scatter3d": [
           {
            "line": {
             "colorbar": {
              "outlinewidth": 0,
              "ticks": ""
             }
            },
            "marker": {
             "colorbar": {
              "outlinewidth": 0,
              "ticks": ""
             }
            },
            "type": "scatter3d"
           }
          ],
          "scattercarpet": [
           {
            "marker": {
             "colorbar": {
              "outlinewidth": 0,
              "ticks": ""
             }
            },
            "type": "scattercarpet"
           }
          ],
          "scattergeo": [
           {
            "marker": {
             "colorbar": {
              "outlinewidth": 0,
              "ticks": ""
             }
            },
            "type": "scattergeo"
           }
          ],
          "scattergl": [
           {
            "marker": {
             "colorbar": {
              "outlinewidth": 0,
              "ticks": ""
             }
            },
            "type": "scattergl"
           }
          ],
          "scattermapbox": [
           {
            "marker": {
             "colorbar": {
              "outlinewidth": 0,
              "ticks": ""
             }
            },
            "type": "scattermapbox"
           }
          ],
          "scatterpolar": [
           {
            "marker": {
             "colorbar": {
              "outlinewidth": 0,
              "ticks": ""
             }
            },
            "type": "scatterpolar"
           }
          ],
          "scatterpolargl": [
           {
            "marker": {
             "colorbar": {
              "outlinewidth": 0,
              "ticks": ""
             }
            },
            "type": "scatterpolargl"
           }
          ],
          "scatterternary": [
           {
            "marker": {
             "colorbar": {
              "outlinewidth": 0,
              "ticks": ""
             }
            },
            "type": "scatterternary"
           }
          ],
          "surface": [
           {
            "colorbar": {
             "outlinewidth": 0,
             "ticks": ""
            },
            "colorscale": [
             [
              0,
              "#0d0887"
             ],
             [
              0.1111111111111111,
              "#46039f"
             ],
             [
              0.2222222222222222,
              "#7201a8"
             ],
             [
              0.3333333333333333,
              "#9c179e"
             ],
             [
              0.4444444444444444,
              "#bd3786"
             ],
             [
              0.5555555555555556,
              "#d8576b"
             ],
             [
              0.6666666666666666,
              "#ed7953"
             ],
             [
              0.7777777777777778,
              "#fb9f3a"
             ],
             [
              0.8888888888888888,
              "#fdca26"
             ],
             [
              1,
              "#f0f921"
             ]
            ],
            "type": "surface"
           }
          ],
          "table": [
           {
            "cells": {
             "fill": {
              "color": "#EBF0F8"
             },
             "line": {
              "color": "white"
             }
            },
            "header": {
             "fill": {
              "color": "#C8D4E3"
             },
             "line": {
              "color": "white"
             }
            },
            "type": "table"
           }
          ]
         },
         "layout": {
          "annotationdefaults": {
           "arrowcolor": "#2a3f5f",
           "arrowhead": 0,
           "arrowwidth": 1
          },
          "coloraxis": {
           "colorbar": {
            "outlinewidth": 0,
            "ticks": ""
           }
          },
          "colorscale": {
           "diverging": [
            [
             0,
             "#8e0152"
            ],
            [
             0.1,
             "#c51b7d"
            ],
            [
             0.2,
             "#de77ae"
            ],
            [
             0.3,
             "#f1b6da"
            ],
            [
             0.4,
             "#fde0ef"
            ],
            [
             0.5,
             "#f7f7f7"
            ],
            [
             0.6,
             "#e6f5d0"
            ],
            [
             0.7,
             "#b8e186"
            ],
            [
             0.8,
             "#7fbc41"
            ],
            [
             0.9,
             "#4d9221"
            ],
            [
             1,
             "#276419"
            ]
           ],
           "sequential": [
            [
             0,
             "#0d0887"
            ],
            [
             0.1111111111111111,
             "#46039f"
            ],
            [
             0.2222222222222222,
             "#7201a8"
            ],
            [
             0.3333333333333333,
             "#9c179e"
            ],
            [
             0.4444444444444444,
             "#bd3786"
            ],
            [
             0.5555555555555556,
             "#d8576b"
            ],
            [
             0.6666666666666666,
             "#ed7953"
            ],
            [
             0.7777777777777778,
             "#fb9f3a"
            ],
            [
             0.8888888888888888,
             "#fdca26"
            ],
            [
             1,
             "#f0f921"
            ]
           ],
           "sequentialminus": [
            [
             0,
             "#0d0887"
            ],
            [
             0.1111111111111111,
             "#46039f"
            ],
            [
             0.2222222222222222,
             "#7201a8"
            ],
            [
             0.3333333333333333,
             "#9c179e"
            ],
            [
             0.4444444444444444,
             "#bd3786"
            ],
            [
             0.5555555555555556,
             "#d8576b"
            ],
            [
             0.6666666666666666,
             "#ed7953"
            ],
            [
             0.7777777777777778,
             "#fb9f3a"
            ],
            [
             0.8888888888888888,
             "#fdca26"
            ],
            [
             1,
             "#f0f921"
            ]
           ]
          },
          "colorway": [
           "#636efa",
           "#EF553B",
           "#00cc96",
           "#ab63fa",
           "#FFA15A",
           "#19d3f3",
           "#FF6692",
           "#B6E880",
           "#FF97FF",
           "#FECB52"
          ],
          "font": {
           "color": "#2a3f5f"
          },
          "geo": {
           "bgcolor": "white",
           "lakecolor": "white",
           "landcolor": "#E5ECF6",
           "showlakes": true,
           "showland": true,
           "subunitcolor": "white"
          },
          "hoverlabel": {
           "align": "left"
          },
          "hovermode": "closest",
          "mapbox": {
           "style": "light"
          },
          "paper_bgcolor": "white",
          "plot_bgcolor": "#E5ECF6",
          "polar": {
           "angularaxis": {
            "gridcolor": "white",
            "linecolor": "white",
            "ticks": ""
           },
           "bgcolor": "#E5ECF6",
           "radialaxis": {
            "gridcolor": "white",
            "linecolor": "white",
            "ticks": ""
           }
          },
          "scene": {
           "xaxis": {
            "backgroundcolor": "#E5ECF6",
            "gridcolor": "white",
            "gridwidth": 2,
            "linecolor": "white",
            "showbackground": true,
            "ticks": "",
            "zerolinecolor": "white"
           },
           "yaxis": {
            "backgroundcolor": "#E5ECF6",
            "gridcolor": "white",
            "gridwidth": 2,
            "linecolor": "white",
            "showbackground": true,
            "ticks": "",
            "zerolinecolor": "white"
           },
           "zaxis": {
            "backgroundcolor": "#E5ECF6",
            "gridcolor": "white",
            "gridwidth": 2,
            "linecolor": "white",
            "showbackground": true,
            "ticks": "",
            "zerolinecolor": "white"
           }
          },
          "shapedefaults": {
           "line": {
            "color": "#2a3f5f"
           }
          },
          "ternary": {
           "aaxis": {
            "gridcolor": "white",
            "linecolor": "white",
            "ticks": ""
           },
           "baxis": {
            "gridcolor": "white",
            "linecolor": "white",
            "ticks": ""
           },
           "bgcolor": "#E5ECF6",
           "caxis": {
            "gridcolor": "white",
            "linecolor": "white",
            "ticks": ""
           }
          },
          "title": {
           "x": 0.05
          },
          "xaxis": {
           "automargin": true,
           "gridcolor": "white",
           "linecolor": "white",
           "ticks": "",
           "title": {
            "standoff": 15
           },
           "zerolinecolor": "white",
           "zerolinewidth": 2
          },
          "yaxis": {
           "automargin": true,
           "gridcolor": "white",
           "linecolor": "white",
           "ticks": "",
           "title": {
            "standoff": 15
           },
           "zerolinecolor": "white",
           "zerolinewidth": 2
          }
         }
        },
        "title": {
         "text": "Comulative number of deaths, by number of days since 3rd death"
        },
        "width": 900,
        "xaxis": {
         "title": {
          "text": "Number of days since 3rd death"
         }
        },
        "yaxis": {
         "title": {
          "text": "Comulative number of deaths"
         },
         "type": "log"
        }
       }
      },
      "text/html": [
       "<div>\n",
       "        \n",
       "        \n",
       "            <div id=\"bb9f7445-f398-4db2-8f84-d8fb63209730\" class=\"plotly-graph-div\" style=\"height:500px; width:900px;\"></div>\n",
       "            <script type=\"text/javascript\">\n",
       "                require([\"plotly\"], function(Plotly) {\n",
       "                    window.PLOTLYENV=window.PLOTLYENV || {};\n",
       "                    \n",
       "                if (document.getElementById(\"bb9f7445-f398-4db2-8f84-d8fb63209730\")) {\n",
       "                    Plotly.newPlot(\n",
       "                        'bb9f7445-f398-4db2-8f84-d8fb63209730',\n",
       "                        [{\"hovertemplate\": \"%{y:.0f}\", \"line\": {\"color\": \"#636EFA\"}, \"mode\": \"lines\", \"name\": \"Andalusia\", \"opacity\": 0.6, \"type\": \"scatter\", \"x\": [0, 1, 2, 3, 4, 5, 6, 7, 8, 9, 10, 11, 12, 13, 14, 15, 16, 17, 18, 19, 20, 21, 22, 23, 24, 25, 26, 27, 28, 29, 30], \"y\": [6.0, 7.0, 11.0, 19.0, 23.0, 30.0, 40.0, 47.0, 58.0, 87.0, 113.0, 134.0, 144.0, 175.0, 207.0, 236.0, 248.0, 308.0, 343.0, 376.0, 426.0, 470.0, 491.0, 528.0, 605.0, null, null, null, null, null, null]}, {\"hoverinfo\": \"skip\", \"marker\": {\"color\": \"#636EFA\", \"size\": 5}, \"mode\": \"markers\", \"opacity\": 0.6, \"showlegend\": false, \"type\": \"scatter\", \"x\": [24], \"y\": [605.0]}, {\"hovertemplate\": \"%{y:.0f}\", \"line\": {\"color\": \"#EF553B\"}, \"mode\": \"lines\", \"name\": \"Aragon\", \"opacity\": 0.6, \"type\": \"scatter\", \"x\": [0, 1, 2, 3, 4, 5, 6, 7, 8, 9, 10, 11, 12, 13, 14, 15, 16, 17, 18, 19, 20, 21, 22, 23, 24, 25, 26, 27, 28, 29, 30], \"y\": [3.0, 4.0, 4.0, 6.0, 7.0, 7.0, 7.0, 11.0, 12.0, 13.0, 15.0, 17.0, 22.0, 24.0, 32.0, 37.0, 40.0, 48.0, 58.0, 93.0, 104.0, 106.0, 138.0, 169.0, 200.0, 224.0, 251.0, 270.0, 284.0, 312.0, 349.0]}, {\"hoverinfo\": \"skip\", \"marker\": {\"color\": \"#EF553B\", \"size\": 5}, \"mode\": \"markers\", \"opacity\": 0.6, \"showlegend\": false, \"type\": \"scatter\", \"x\": [30], \"y\": [349.0]}, {\"hovertemplate\": \"%{y:.0f}\", \"line\": {\"color\": \"#00CC96\"}, \"mode\": \"lines\", \"name\": \"Asturias\", \"opacity\": 0.6, \"type\": \"scatter\", \"x\": [0, 1, 2, 3, 4, 5, 6, 7, 8, 9, 10, 11, 12, 13, 14, 15, 16, 17, 18, 19, 20, 21, 22, 23, 24, 25, 26, 27, 28, 29, 30], \"y\": [5.0, 8.0, 12.0, 22.0, 25.0, 27.0, 29.0, 33.0, 41.0, 49.0, 55.0, 63.0, 69.0, 70.0, 76.0, 80.0, 86.0, 96.0, 102.0, null, null, null, null, null, null, null, null, null, null, null, null]}, {\"hoverinfo\": \"skip\", \"marker\": {\"color\": \"#00CC96\", \"size\": 5}, \"mode\": \"markers\", \"opacity\": 0.6, \"showlegend\": false, \"type\": \"scatter\", \"x\": [18], \"y\": [102.0]}, {\"hovertemplate\": \"%{y:.0f}\", \"line\": {\"color\": \"#AB63FA\"}, \"mode\": \"lines\", \"name\": \"Balearic Islands\", \"opacity\": 0.6, \"type\": \"scatter\", \"x\": [0, 1, 2, 3, 4, 5, 6, 7, 8, 9, 10, 11, 12, 13, 14, 15, 16, 17, 18, 19, 20, 21, 22, 23, 24, 25, 26, 27, 28, 29, 30], \"y\": [4.0, 4.0, 10.0, 10.0, 13.0, 17.0, 22.0, 26.0, 29.0, 37.0, 42.0, 46.0, 58.0, 69.0, 71.0, 75.0, 81.0, 84.0, 89.0, null, null, null, null, null, null, null, null, null, null, null, null]}, {\"hoverinfo\": \"skip\", \"marker\": {\"color\": \"#AB63FA\", \"size\": 5}, \"mode\": \"markers\", \"opacity\": 0.6, \"showlegend\": false, \"type\": \"scatter\", \"x\": [18], \"y\": [89.0]}, {\"hovertemplate\": \"%{y:.0f}\", \"line\": {\"color\": \"#FFA15A\"}, \"mode\": \"lines\", \"name\": \"Basque Country\", \"opacity\": 0.6, \"type\": \"scatter\", \"x\": [0, 1, 2, 3, 4, 5, 6, 7, 8, 9, 10, 11, 12, 13, 14, 15, 16, 17, 18, 19, 20, 21, 22, 23, 24, 25, 26, 27, 28, 29, 30], \"y\": [6.0, 6.0, 6.0, 11.0, 14.0, 14.0, 23.0, 23.0, 36.0, 40.0, 53.0, 71.0, 85.0, 97.0, 120.0, 133.0, 155.0, 180.0, 207.0, 241.0, 265.0, 297.0, 325.0, 369.0, 412.0, 444.0, 477.0, 515.0, 548.0, 586.0, 635.0]}, {\"hoverinfo\": \"skip\", \"marker\": {\"color\": \"#FFA15A\", \"size\": 5}, \"mode\": \"markers\", \"opacity\": 0.6, \"showlegend\": false, \"type\": \"scatter\", \"x\": [30], \"y\": [635.0]}, {\"hovertemplate\": \"%{y:.0f}\", \"line\": {\"color\": \"#19D3F3\"}, \"mode\": \"lines\", \"name\": \"Canary Islands\", \"opacity\": 0.6, \"type\": \"scatter\", \"x\": [0, 1, 2, 3, 4, 5, 6, 7, 8, 9, 10, 11, 12, 13, 14, 15, 16, 17, 18, 19, 20, 21, 22, 23, 24, 25, 26, 27, 28, 29, 30], \"y\": [3.0, 3.0, 4.0, 7.0, 9.0, 11.0, 16.0, 21.0, 24.0, 27.0, 36.0, 39.0, 40.0, 55.0, 62.0, 68.0, 73.0, 78.0, 80.0, 85.0, 89.0, 91.0, null, null, null, null, null, null, null, null, null]}, {\"hoverinfo\": \"skip\", \"marker\": {\"color\": \"#19D3F3\", \"size\": 5}, \"mode\": \"markers\", \"opacity\": 0.6, \"showlegend\": false, \"type\": \"scatter\", \"x\": [21], \"y\": [91.0]}, {\"hovertemplate\": \"%{y:.0f}\", \"line\": {\"color\": \"#FF6692\"}, \"mode\": \"lines\", \"name\": \"Cantabria\", \"opacity\": 0.6, \"type\": \"scatter\", \"x\": [0, 1, 2, 3, 4, 5, 6, 7, 8, 9, 10, 11, 12, 13, 14, 15, 16, 17, 18, 19, 20, 21, 22, 23, 24, 25, 26, 27, 28, 29, 30], \"y\": [5.0, 6.0, 9.0, 14.0, 17.0, 21.0, 22.0, 26.0, 27.0, 37.0, 54.0, 60.0, 64.0, 68.0, 68.0, 77.0, 85.0, 92.0, null, null, null, null, null, null, null, null, null, null, null, null, null]}, {\"hoverinfo\": \"skip\", \"marker\": {\"color\": \"#FF6692\", \"size\": 5}, \"mode\": \"markers\", \"opacity\": 0.6, \"showlegend\": false, \"type\": \"scatter\", \"x\": [17], \"y\": [92.0]}, {\"hovertemplate\": \"%{y:.0f}\", \"line\": {\"color\": \"#B6E880\"}, \"mode\": \"lines\", \"name\": \"Castille and Leon\", \"opacity\": 0.6, \"type\": \"scatter\", \"x\": [0, 1, 2, 3, 4, 5, 6, 7, 8, 9, 10, 11, 12, 13, 14, 15, 16, 17, 18, 19, 20, 21, 22, 23, 24, 25, 26, 27, 28, 29, 30], \"y\": [3.0, 6.0, 12.0, 22.0, 29.0, 43.0, 55.0, 74.0, 102.0, 124.0, 165.0, 206.0, 252.0, 321.0, 380.0, 442.0, 516.0, 585.0, 641.0, 723.0, 786.0, 847.0, 919.0, 982.0, 1028.0, null, null, null, null, null, null]}, {\"hoverinfo\": \"skip\", \"marker\": {\"color\": \"#B6E880\", \"size\": 5}, \"mode\": \"markers\", \"opacity\": 0.6, \"showlegend\": false, \"type\": \"scatter\", \"x\": [24], \"y\": [1028.0]}, {\"hovertemplate\": \"%{y:.0f}\", \"line\": {\"color\": \"#FF97FF\"}, \"mode\": \"lines\", \"name\": \"Castille-La Mancha\", \"opacity\": 0.6, \"type\": \"scatter\", \"x\": [0, 1, 2, 3, 4, 5, 6, 7, 8, 9, 10, 11, 12, 13, 14, 15, 16, 17, 18, 19, 20, 21, 22, 23, 24, 25, 26, 27, 28, 29, 30], \"y\": [5.0, 6.0, 10.0, 17.0, 17.0, 28.0, 42.0, 42.0, 84.0, 112.0, 145.0, 216.0, 263.0, 316.0, 367.0, 448.0, 539.0, 622.0, 708.0, 774.0, 854.0, 916.0, 989.0, 1055.0, 1132.0, 1177.0, 1255.0, null, null, null, null]}, {\"hoverinfo\": \"skip\", \"marker\": {\"color\": \"#FF97FF\", \"size\": 5}, \"mode\": \"markers\", \"opacity\": 0.6, \"showlegend\": false, \"type\": \"scatter\", \"x\": [26], \"y\": [1255.0]}, {\"hovertemplate\": \"%{y:.0f}\", \"line\": {\"color\": \"#FECB52\"}, \"mode\": \"lines\", \"name\": \"Catalonia\", \"opacity\": 0.6, \"type\": \"scatter\", \"x\": [0, 1, 2, 3, 4, 5, 6, 7, 8, 9, 10, 11, 12, 13, 14, 15, 16, 17, 18, 19, 20, 21, 22, 23, 24, 25, 26, 27, 28, 29, 30], \"y\": [3.0, 3.0, 4.0, 6.0, 6.0, 8.0, 12.0, 18.0, 41.0, 55.0, 82.0, 122.0, 191.0, 245.0, 282.0, 516.0, 672.0, 880.0, 1070.0, 1226.0, 1410.0, 1672.0, 1849.0, 2093.0, 2335.0, 2508.0, 2637.0, 2760.0, 2908.0, 3041.0, null]}, {\"hoverinfo\": \"skip\", \"marker\": {\"color\": \"#FECB52\", \"size\": 5}, \"mode\": \"markers\", \"opacity\": 0.6, \"showlegend\": false, \"type\": \"scatter\", \"x\": [29], \"y\": [3041.0]}, {\"hovertemplate\": \"%{y:.0f}\", \"line\": {\"color\": \"#636EFA\"}, \"mode\": \"lines\", \"name\": \"Extremadura\", \"opacity\": 0.6, \"type\": \"scatter\", \"x\": [0, 1, 2, 3, 4, 5, 6, 7, 8, 9, 10, 11, 12, 13, 14, 15, 16, 17, 18, 19, 20, 21, 22, 23, 24, 25, 26, 27, 28, 29, 30], \"y\": [3.0, 6.0, 8.0, 10.0, 12.0, 14.0, 18.0, 26.0, 39.0, 58.0, 69.0, 88.0, 100.0, 106.0, 133.0, 152.0, 181.0, 200.0, 208.0, 218.0, 228.0, 258.0, 271.0, null, null, null, null, null, null, null, null]}, {\"hoverinfo\": \"skip\", \"marker\": {\"color\": \"#636EFA\", \"size\": 5}, \"mode\": \"markers\", \"opacity\": 0.6, \"showlegend\": false, \"type\": \"scatter\", \"x\": [22], \"y\": [271.0]}, {\"hovertemplate\": \"%{y:.0f}\", \"line\": {\"color\": \"#EF553B\"}, \"mode\": \"lines\", \"name\": \"Galicia\", \"opacity\": 0.6, \"type\": \"scatter\", \"x\": [0, 1, 2, 3, 4, 5, 6, 7, 8, 9, 10, 11, 12, 13, 14, 15, 16, 17, 18, 19, 20, 21, 22, 23, 24, 25, 26, 27, 28, 29, 30], \"y\": [3.0, 3.0, 4.0, 5.0, 9.0, 12.0, 18.0, 20.0, 27.0, 32.0, 43.0, 47.0, 60.0, 66.0, 84.0, 103.0, 120.0, 138.0, 159.0, 174.0, 190.0, 204.0, 213.0, null, null, null, null, null, null, null, null]}, {\"hoverinfo\": \"skip\", \"marker\": {\"color\": \"#EF553B\", \"size\": 5}, \"mode\": \"markers\", \"opacity\": 0.6, \"showlegend\": false, \"type\": \"scatter\", \"x\": [22], \"y\": [213.0]}, {\"hovertemplate\": \"%{y:.0f}\", \"line\": {\"color\": \"#00CC96\"}, \"mode\": \"lines\", \"name\": \"La Rioja\", \"opacity\": 0.6, \"type\": \"scatter\", \"x\": [0, 1, 2, 3, 4, 5, 6, 7, 8, 9, 10, 11, 12, 13, 14, 15, 16, 17, 18, 19, 20, 21, 22, 23, 24, 25, 26, 27, 28, 29, 30], \"y\": [3.0, 3.0, 3.0, 4.0, 5.0, 5.0, 5.0, 7.0, 15.0, 18.0, 22.0, 30.0, 37.0, 43.0, 55.0, 65.0, 68.0, 71.0, 85.0, 90.0, 101.0, 109.0, 128.0, 134.0, 141.0, 160.0, 177.0, null, null, null, null]}, {\"hoverinfo\": \"skip\", \"marker\": {\"color\": \"#00CC96\", \"size\": 5}, \"mode\": \"markers\", \"opacity\": 0.6, \"showlegend\": false, \"type\": \"scatter\", \"x\": [26], \"y\": [177.0]}, {\"hovertemplate\": \"%{y:.0f}\", \"line\": {\"color\": \"#AB63FA\"}, \"mode\": \"lines\", \"name\": \"Madrid\", \"opacity\": 0.6, \"type\": \"scatter\", \"x\": [0, 1, 2, 3, 4, 5, 6, 7, 8, 9, 10, 11, 12, 13, 14, 15, 16, 17, 18, 19, 20, 21, 22, 23, 24, 25, 26, 27, 28, 29, 30], \"y\": [16.0, 21.0, 31.0, 56.0, 81.0, 86.0, 213.0, 213.0, 355.0, 390.0, 498.0, 628.0, 804.0, 1021.0, 1263.0, 1535.0, 1825.0, 2090.0, 2412.0, 2757.0, 3082.0, 3392.0, 3603.0, 3865.0, 4175.0, 4483.0, 4723.0, 4941.0, 5136.0, 5371.0, 5586.0]}, {\"hoverinfo\": \"skip\", \"marker\": {\"color\": \"#AB63FA\", \"size\": 5}, \"mode\": \"markers\", \"opacity\": 0.6, \"showlegend\": false, \"type\": \"scatter\", \"x\": [30], \"y\": [5586.0]}, {\"hovertemplate\": \"%{y:.0f}\", \"line\": {\"color\": \"#FFA15A\"}, \"mode\": \"lines\", \"name\": \"Murcia\", \"opacity\": 0.6, \"type\": \"scatter\", \"x\": [0, 1, 2, 3, 4, 5, 6, 7, 8, 9, 10, 11, 12, 13, 14, 15, 16, 17, 18, 19, 20, 21, 22, 23, 24, 25, 26, 27, 28, 29, 30], \"y\": [3.0, 5.0, 8.0, 15.0, 17.0, 20.0, 25.0, 34.0, 37.0, 42.0, 46.0, 51.0, 59.0, 68.0, 78.0, 85.0, null, null, null, null, null, null, null, null, null, null, null, null, null, null, null]}, {\"hoverinfo\": \"skip\", \"marker\": {\"color\": \"#FFA15A\", \"size\": 5}, \"mode\": \"markers\", \"opacity\": 0.6, \"showlegend\": false, \"type\": \"scatter\", \"x\": [15], \"y\": [85.0]}, {\"hovertemplate\": \"%{y:.0f}\", \"line\": {\"color\": \"#19D3F3\"}, \"mode\": \"lines\", \"name\": \"Navarre\", \"opacity\": 0.6, \"type\": \"scatter\", \"x\": [0, 1, 2, 3, 4, 5, 6, 7, 8, 9, 10, 11, 12, 13, 14, 15, 16, 17, 18, 19, 20, 21, 22, 23, 24, 25, 26, 27, 28, 29, 30], \"y\": [3.0, 4.0, 5.0, 9.0, 14.0, 24.0, 31.0, 33.0, 49.0, 58.0, 70.0, 84.0, 102.0, 113.0, 130.0, 141.0, 151.0, 171.0, 178.0, 187.0, 202.0, 206.0, null, null, null, null, null, null, null, null, null]}, {\"hoverinfo\": \"skip\", \"marker\": {\"color\": \"#19D3F3\", \"size\": 5}, \"mode\": \"markers\", \"opacity\": 0.6, \"showlegend\": false, \"type\": \"scatter\", \"x\": [21], \"y\": [206.0]}, {\"hovertemplate\": \"%{y:.0f}\", \"line\": {\"color\": \"#FF6692\"}, \"mode\": \"lines\", \"name\": \"Valencia\", \"opacity\": 0.6, \"type\": \"scatter\", \"x\": [0, 1, 2, 3, 4, 5, 6, 7, 8, 9, 10, 11, 12, 13, 14, 15, 16, 17, 18, 19, 20, 21, 22, 23, 24, 25, 26, 27, 28, 29, 30], \"y\": [4.0, 5.0, 5.0, 13.0, 22.0, 24.0, 33.0, 50.0, 69.0, 94.0, 115.0, 143.0, 167.0, 198.0, 234.0, 267.0, 310.0, 339.0, 395.0, 443.0, 511.0, 571.0, 613.0, 637.0, 672.0, 724.0, null, null, null, null, null]}, {\"hoverinfo\": \"skip\", \"marker\": {\"color\": \"#FF6692\", \"size\": 5}, \"mode\": \"markers\", \"opacity\": 0.6, \"showlegend\": false, \"type\": \"scatter\", \"x\": [25], \"y\": [724.0]}, {\"hovertemplate\": \"Doubles\", \"line\": {\"color\": \"rgb(67,67,67)\", \"dash\": \"dash\"}, \"mode\": \"lines\", \"name\": \"every 1 day\", \"opacity\": 0.5, \"type\": \"scatter\", \"x\": [0, 1, 2, 3, 4, 5, 6, 7, 8, 9, 10, 11, 12, 13, 14, 15, 16, 17, 18, 19, 20, 21, 22, 23, 24, 25, 26, 27, 28, 29, 30, 31, 32, 33, 34, 35, 36, 37, 38, 39, 40], \"y\": [3.0, 6.0, 12.0, 24.0, 48.0, 96.0, 192.0, 384.0, 768.0, 1536.0, 3072.0, null, null, null, null, null, null, null, null, null, null, null, null, null, null, null, null, null, null, null, null, null, null, null, null, null, null, null, null, null, null]}, {\"hovertemplate\": \"Doubles\", \"line\": {\"color\": \"rgb(67,67,67)\", \"dash\": \"dash\"}, \"mode\": \"lines\", \"name\": \"every 2 days\", \"opacity\": 0.5, \"type\": \"scatter\", \"x\": [0, 1, 2, 3, 4, 5, 6, 7, 8, 9, 10, 11, 12, 13, 14, 15, 16, 17, 18, 19, 20, 21, 22, 23, 24, 25, 26, 27, 28, 29, 30, 31, 32, 33, 34, 35, 36, 37, 38, 39, 40], \"y\": [3.0, 4.242640687119286, 6.000000000000002, 8.485281374238571, 12.000000000000004, 16.970562748477146, 24.00000000000001, 33.9411254969543, 48.00000000000002, 67.8822509939086, 96.00000000000006, 135.76450198781723, 192.00000000000017, 271.5290039756345, 384.00000000000034, 543.058007951269, 768.0000000000009, 1086.1160159025383, 1536.000000000002, 2172.232031805077, 3072.000000000004, 4344.464063610154, null, null, null, null, null, null, null, null, null, null, null, null, null, null, null, null, null, null, null]}, {\"hovertemplate\": \"Doubles\", \"line\": {\"color\": \"rgb(67,67,67)\", \"dash\": \"dash\"}, \"mode\": \"lines\", \"name\": \"every 3 days\", \"opacity\": 0.5, \"type\": \"scatter\", \"x\": [0, 1, 2, 3, 4, 5, 6, 7, 8, 9, 10, 11, 12, 13, 14, 15, 16, 17, 18, 19, 20, 21, 22, 23, 24, 25, 26, 27, 28, 29, 30, 31, 32, 33, 34, 35, 36, 37, 38, 39, 40], \"y\": [3.0, 3.7797631496846193, 4.762203155904599, 6.0, 7.559526299369239, 9.524406311809198, 12.000000000000004, 15.119052598738481, 19.048812623618396, 24.000000000000007, 30.238105197476962, 38.09762524723679, 48.000000000000014, 60.476210394953924, 76.1952504944736, 96.00000000000003, 120.95242078990788, 152.3905009889472, 192.00000000000009, 241.90484157981575, 304.7810019778944, 384.00000000000017, 483.8096831596315, 609.5620039557889, 768.0000000000003, 967.6193663192631, 1219.1240079115778, 1536.0000000000007, 1935.2387326385262, 2438.248015823156, 3072.000000000002, 3870.4774652770525, 4876.496031646312, null, null, null, null, null, null, null, null]}, {\"hovertemplate\": \"Doubles\", \"line\": {\"color\": \"rgb(67,67,67)\", \"dash\": \"dash\"}, \"mode\": \"lines\", \"name\": \"every week\", \"opacity\": 0.5, \"type\": \"scatter\", \"x\": [0, 1, 2, 3, 4, 5, 6, 7, 8, 9, 10, 11, 12, 13, 14, 15, 16, 17, 18, 19, 20, 21, 22, 23, 24, 25, 26, 27, 28, 29, 30, 31, 32, 33, 34, 35, 36, 37, 38, 39, 40], \"y\": [3.0, 3.312268541021437, 3.6570409626134257, 4.037700577897067, 4.457982867410844, 4.922012136045826, 5.434341985583438, 5.9999999999999964, 6.6245370820428695, 7.314081925226847, 8.07540115579413, 8.915965734821683, 9.844024272091646, 10.868683971166869, 11.999999999999986, 13.249074164085734, 14.628163850453685, 16.15080231158825, 17.831931469643358, 19.68804854418328, 21.737367942333726, 23.99999999999996, 26.498148328171453, 29.256327700907356, 32.30160462317649, 35.663862939286695, 39.37609708836654, 43.474735884667425, 47.99999999999989, 52.99629665634287, 58.51265540181468, 64.60320924635293, 71.32772587857335, 78.75219417673304, 86.9494717693348, 95.99999999999973, 105.99259331268567, 117.0253108036293, 129.2064184927058, 142.6554517571466, 157.50438835346597]}],\n",
       "                        {\"annotations\": [{\"font\": {\"family\": \"Arial\", \"size\": 12}, \"showarrow\": false, \"text\": \"AN\", \"x\": 24, \"xanchor\": \"left\", \"xref\": \"x\", \"y\": 2.781755374652469, \"yanchor\": \"middle\", \"yref\": \"y\"}, {\"font\": {\"family\": \"Arial\", \"size\": 12}, \"showarrow\": false, \"text\": \"AR\", \"x\": 30, \"xanchor\": \"left\", \"xref\": \"x\", \"y\": 2.5428254269591797, \"yanchor\": \"middle\", \"yref\": \"y\"}, {\"font\": {\"family\": \"Arial\", \"size\": 12}, \"showarrow\": false, \"text\": \"AS\", \"x\": 18, \"xanchor\": \"left\", \"xref\": \"x\", \"y\": 2.0086001717619175, \"yanchor\": \"middle\", \"yref\": \"y\"}, {\"font\": {\"family\": \"Arial\", \"size\": 12}, \"showarrow\": false, \"text\": \"IB\", \"x\": 18, \"xanchor\": \"left\", \"xref\": \"x\", \"y\": 1.9493900066449128, \"yanchor\": \"middle\", \"yref\": \"y\"}, {\"font\": {\"family\": \"Arial\", \"size\": 12}, \"showarrow\": false, \"text\": \"PV\", \"x\": 30, \"xanchor\": \"left\", \"xref\": \"x\", \"y\": 2.8027737252919755, \"yanchor\": \"middle\", \"yref\": \"y\"}, {\"font\": {\"family\": \"Arial\", \"size\": 12}, \"showarrow\": false, \"text\": \"CN\", \"x\": 21, \"xanchor\": \"left\", \"xref\": \"x\", \"y\": 1.9590413923210936, \"yanchor\": \"middle\", \"yref\": \"y\"}, {\"font\": {\"family\": \"Arial\", \"size\": 12}, \"showarrow\": false, \"text\": \"CB\", \"x\": 17, \"xanchor\": \"left\", \"xref\": \"x\", \"y\": 1.9637878273455553, \"yanchor\": \"middle\", \"yref\": \"y\"}, {\"font\": {\"family\": \"Arial\", \"size\": 12}, \"showarrow\": false, \"text\": \"CL\", \"x\": 24, \"xanchor\": \"left\", \"xref\": \"x\", \"y\": 3.011993114659257, \"yanchor\": \"middle\", \"yref\": \"y\"}, {\"font\": {\"family\": \"Arial\", \"size\": 12}, \"showarrow\": false, \"text\": \"CM\", \"x\": 26, \"xanchor\": \"left\", \"xref\": \"x\", \"y\": 3.098643725817057, \"yanchor\": \"middle\", \"yref\": \"y\"}, {\"font\": {\"family\": \"Arial\", \"size\": 12}, \"showarrow\": false, \"text\": \"CT\", \"x\": 29, \"xanchor\": \"left\", \"xref\": \"x\", \"y\": 3.483016420144132, \"yanchor\": \"middle\", \"yref\": \"y\"}, {\"font\": {\"family\": \"Arial\", \"size\": 12}, \"showarrow\": false, \"text\": \"EX\", \"x\": 22, \"xanchor\": \"left\", \"xref\": \"x\", \"y\": 2.432969290874406, \"yanchor\": \"middle\", \"yref\": \"y\"}, {\"font\": {\"family\": \"Arial\", \"size\": 12}, \"showarrow\": false, \"text\": \"GA\", \"x\": 22, \"xanchor\": \"left\", \"xref\": \"x\", \"y\": 2.3283796034387376, \"yanchor\": \"middle\", \"yref\": \"y\"}, {\"font\": {\"family\": \"Arial\", \"size\": 12}, \"showarrow\": false, \"text\": \"RI\", \"x\": 26, \"xanchor\": \"left\", \"xref\": \"x\", \"y\": 2.247973266361807, \"yanchor\": \"middle\", \"yref\": \"y\"}, {\"font\": {\"family\": \"Arial\", \"size\": 12}, \"showarrow\": false, \"text\": \"MD\", \"x\": 30, \"xanchor\": \"left\", \"xref\": \"x\", \"y\": 3.747100931364986, \"yanchor\": \"middle\", \"yref\": \"y\"}, {\"font\": {\"family\": \"Arial\", \"size\": 12}, \"showarrow\": false, \"text\": \"MC\", \"x\": 15, \"xanchor\": \"left\", \"xref\": \"x\", \"y\": 1.9294189257142926, \"yanchor\": \"middle\", \"yref\": \"y\"}, {\"font\": {\"family\": \"Arial\", \"size\": 12}, \"showarrow\": false, \"text\": \"NC\", \"x\": 21, \"xanchor\": \"left\", \"xref\": \"x\", \"y\": 2.3138672203691533, \"yanchor\": \"middle\", \"yref\": \"y\"}, {\"font\": {\"family\": \"Arial\", \"size\": 12}, \"showarrow\": false, \"text\": \"VC\", \"x\": 25, \"xanchor\": \"left\", \"xref\": \"x\", \"y\": 2.859738566197147, \"yanchor\": \"middle\", \"yref\": \"y\"}], \"height\": 500, \"hovermode\": \"x\", \"template\": {\"data\": {\"bar\": [{\"error_x\": {\"color\": \"#2a3f5f\"}, \"error_y\": {\"color\": \"#2a3f5f\"}, \"marker\": {\"line\": {\"color\": \"#E5ECF6\", \"width\": 0.5}}, \"type\": \"bar\"}], \"barpolar\": [{\"marker\": {\"line\": {\"color\": \"#E5ECF6\", \"width\": 0.5}}, \"type\": \"barpolar\"}], \"carpet\": [{\"aaxis\": {\"endlinecolor\": \"#2a3f5f\", \"gridcolor\": \"white\", \"linecolor\": \"white\", \"minorgridcolor\": \"white\", \"startlinecolor\": \"#2a3f5f\"}, \"baxis\": {\"endlinecolor\": \"#2a3f5f\", \"gridcolor\": \"white\", \"linecolor\": \"white\", \"minorgridcolor\": \"white\", \"startlinecolor\": \"#2a3f5f\"}, \"type\": \"carpet\"}], \"choropleth\": [{\"colorbar\": {\"outlinewidth\": 0, \"ticks\": \"\"}, \"type\": \"choropleth\"}], \"contour\": [{\"colorbar\": {\"outlinewidth\": 0, \"ticks\": \"\"}, \"colorscale\": [[0.0, \"#0d0887\"], [0.1111111111111111, \"#46039f\"], [0.2222222222222222, \"#7201a8\"], [0.3333333333333333, \"#9c179e\"], [0.4444444444444444, \"#bd3786\"], [0.5555555555555556, \"#d8576b\"], [0.6666666666666666, \"#ed7953\"], [0.7777777777777778, \"#fb9f3a\"], [0.8888888888888888, \"#fdca26\"], [1.0, \"#f0f921\"]], \"type\": \"contour\"}], \"contourcarpet\": [{\"colorbar\": {\"outlinewidth\": 0, \"ticks\": \"\"}, \"type\": \"contourcarpet\"}], \"heatmap\": [{\"colorbar\": {\"outlinewidth\": 0, \"ticks\": \"\"}, \"colorscale\": [[0.0, \"#0d0887\"], [0.1111111111111111, \"#46039f\"], [0.2222222222222222, \"#7201a8\"], [0.3333333333333333, \"#9c179e\"], [0.4444444444444444, \"#bd3786\"], [0.5555555555555556, \"#d8576b\"], [0.6666666666666666, \"#ed7953\"], [0.7777777777777778, \"#fb9f3a\"], [0.8888888888888888, \"#fdca26\"], [1.0, \"#f0f921\"]], \"type\": \"heatmap\"}], \"heatmapgl\": [{\"colorbar\": {\"outlinewidth\": 0, \"ticks\": \"\"}, \"colorscale\": [[0.0, \"#0d0887\"], [0.1111111111111111, \"#46039f\"], [0.2222222222222222, \"#7201a8\"], [0.3333333333333333, \"#9c179e\"], [0.4444444444444444, \"#bd3786\"], [0.5555555555555556, \"#d8576b\"], [0.6666666666666666, \"#ed7953\"], [0.7777777777777778, \"#fb9f3a\"], [0.8888888888888888, \"#fdca26\"], [1.0, \"#f0f921\"]], \"type\": \"heatmapgl\"}], \"histogram\": [{\"marker\": {\"colorbar\": {\"outlinewidth\": 0, \"ticks\": \"\"}}, \"type\": \"histogram\"}], \"histogram2d\": [{\"colorbar\": {\"outlinewidth\": 0, \"ticks\": \"\"}, \"colorscale\": [[0.0, \"#0d0887\"], [0.1111111111111111, \"#46039f\"], [0.2222222222222222, \"#7201a8\"], [0.3333333333333333, \"#9c179e\"], [0.4444444444444444, \"#bd3786\"], [0.5555555555555556, \"#d8576b\"], [0.6666666666666666, \"#ed7953\"], [0.7777777777777778, \"#fb9f3a\"], [0.8888888888888888, \"#fdca26\"], [1.0, \"#f0f921\"]], \"type\": \"histogram2d\"}], \"histogram2dcontour\": [{\"colorbar\": {\"outlinewidth\": 0, \"ticks\": \"\"}, \"colorscale\": [[0.0, \"#0d0887\"], [0.1111111111111111, \"#46039f\"], [0.2222222222222222, \"#7201a8\"], [0.3333333333333333, \"#9c179e\"], [0.4444444444444444, \"#bd3786\"], [0.5555555555555556, \"#d8576b\"], [0.6666666666666666, \"#ed7953\"], [0.7777777777777778, \"#fb9f3a\"], [0.8888888888888888, \"#fdca26\"], [1.0, \"#f0f921\"]], \"type\": \"histogram2dcontour\"}], \"mesh3d\": [{\"colorbar\": {\"outlinewidth\": 0, \"ticks\": \"\"}, \"type\": \"mesh3d\"}], \"parcoords\": [{\"line\": {\"colorbar\": {\"outlinewidth\": 0, \"ticks\": \"\"}}, \"type\": \"parcoords\"}], \"pie\": [{\"automargin\": true, \"type\": \"pie\"}], \"scatter\": [{\"marker\": {\"colorbar\": {\"outlinewidth\": 0, \"ticks\": \"\"}}, \"type\": \"scatter\"}], \"scatter3d\": [{\"line\": {\"colorbar\": {\"outlinewidth\": 0, \"ticks\": \"\"}}, \"marker\": {\"colorbar\": {\"outlinewidth\": 0, \"ticks\": \"\"}}, \"type\": \"scatter3d\"}], \"scattercarpet\": [{\"marker\": {\"colorbar\": {\"outlinewidth\": 0, \"ticks\": \"\"}}, \"type\": \"scattercarpet\"}], \"scattergeo\": [{\"marker\": {\"colorbar\": {\"outlinewidth\": 0, \"ticks\": \"\"}}, \"type\": \"scattergeo\"}], \"scattergl\": [{\"marker\": {\"colorbar\": {\"outlinewidth\": 0, \"ticks\": \"\"}}, \"type\": \"scattergl\"}], \"scattermapbox\": [{\"marker\": {\"colorbar\": {\"outlinewidth\": 0, \"ticks\": \"\"}}, \"type\": \"scattermapbox\"}], \"scatterpolar\": [{\"marker\": {\"colorbar\": {\"outlinewidth\": 0, \"ticks\": \"\"}}, \"type\": \"scatterpolar\"}], \"scatterpolargl\": [{\"marker\": {\"colorbar\": {\"outlinewidth\": 0, \"ticks\": \"\"}}, \"type\": \"scatterpolargl\"}], \"scatterternary\": [{\"marker\": {\"colorbar\": {\"outlinewidth\": 0, \"ticks\": \"\"}}, \"type\": \"scatterternary\"}], \"surface\": [{\"colorbar\": {\"outlinewidth\": 0, \"ticks\": \"\"}, \"colorscale\": [[0.0, \"#0d0887\"], [0.1111111111111111, \"#46039f\"], [0.2222222222222222, \"#7201a8\"], [0.3333333333333333, \"#9c179e\"], [0.4444444444444444, \"#bd3786\"], [0.5555555555555556, \"#d8576b\"], [0.6666666666666666, \"#ed7953\"], [0.7777777777777778, \"#fb9f3a\"], [0.8888888888888888, \"#fdca26\"], [1.0, \"#f0f921\"]], \"type\": \"surface\"}], \"table\": [{\"cells\": {\"fill\": {\"color\": \"#EBF0F8\"}, \"line\": {\"color\": \"white\"}}, \"header\": {\"fill\": {\"color\": \"#C8D4E3\"}, \"line\": {\"color\": \"white\"}}, \"type\": \"table\"}]}, \"layout\": {\"annotationdefaults\": {\"arrowcolor\": \"#2a3f5f\", \"arrowhead\": 0, \"arrowwidth\": 1}, \"coloraxis\": {\"colorbar\": {\"outlinewidth\": 0, \"ticks\": \"\"}}, \"colorscale\": {\"diverging\": [[0, \"#8e0152\"], [0.1, \"#c51b7d\"], [0.2, \"#de77ae\"], [0.3, \"#f1b6da\"], [0.4, \"#fde0ef\"], [0.5, \"#f7f7f7\"], [0.6, \"#e6f5d0\"], [0.7, \"#b8e186\"], [0.8, \"#7fbc41\"], [0.9, \"#4d9221\"], [1, \"#276419\"]], \"sequential\": [[0.0, \"#0d0887\"], [0.1111111111111111, \"#46039f\"], [0.2222222222222222, \"#7201a8\"], [0.3333333333333333, \"#9c179e\"], [0.4444444444444444, \"#bd3786\"], [0.5555555555555556, \"#d8576b\"], [0.6666666666666666, \"#ed7953\"], [0.7777777777777778, \"#fb9f3a\"], [0.8888888888888888, \"#fdca26\"], [1.0, \"#f0f921\"]], \"sequentialminus\": [[0.0, \"#0d0887\"], [0.1111111111111111, \"#46039f\"], [0.2222222222222222, \"#7201a8\"], [0.3333333333333333, \"#9c179e\"], [0.4444444444444444, \"#bd3786\"], [0.5555555555555556, \"#d8576b\"], [0.6666666666666666, \"#ed7953\"], [0.7777777777777778, \"#fb9f3a\"], [0.8888888888888888, \"#fdca26\"], [1.0, \"#f0f921\"]]}, \"colorway\": [\"#636efa\", \"#EF553B\", \"#00cc96\", \"#ab63fa\", \"#FFA15A\", \"#19d3f3\", \"#FF6692\", \"#B6E880\", \"#FF97FF\", \"#FECB52\"], \"font\": {\"color\": \"#2a3f5f\"}, \"geo\": {\"bgcolor\": \"white\", \"lakecolor\": \"white\", \"landcolor\": \"#E5ECF6\", \"showlakes\": true, \"showland\": true, \"subunitcolor\": \"white\"}, \"hoverlabel\": {\"align\": \"left\"}, \"hovermode\": \"closest\", \"mapbox\": {\"style\": \"light\"}, \"paper_bgcolor\": \"white\", \"plot_bgcolor\": \"#E5ECF6\", \"polar\": {\"angularaxis\": {\"gridcolor\": \"white\", \"linecolor\": \"white\", \"ticks\": \"\"}, \"bgcolor\": \"#E5ECF6\", \"radialaxis\": {\"gridcolor\": \"white\", \"linecolor\": \"white\", \"ticks\": \"\"}}, \"scene\": {\"xaxis\": {\"backgroundcolor\": \"#E5ECF6\", \"gridcolor\": \"white\", \"gridwidth\": 2, \"linecolor\": \"white\", \"showbackground\": true, \"ticks\": \"\", \"zerolinecolor\": \"white\"}, \"yaxis\": {\"backgroundcolor\": \"#E5ECF6\", \"gridcolor\": \"white\", \"gridwidth\": 2, \"linecolor\": \"white\", \"showbackground\": true, \"ticks\": \"\", \"zerolinecolor\": \"white\"}, \"zaxis\": {\"backgroundcolor\": \"#E5ECF6\", \"gridcolor\": \"white\", \"gridwidth\": 2, \"linecolor\": \"white\", \"showbackground\": true, \"ticks\": \"\", \"zerolinecolor\": \"white\"}}, \"shapedefaults\": {\"line\": {\"color\": \"#2a3f5f\"}}, \"ternary\": {\"aaxis\": {\"gridcolor\": \"white\", \"linecolor\": \"white\", \"ticks\": \"\"}, \"baxis\": {\"gridcolor\": \"white\", \"linecolor\": \"white\", \"ticks\": \"\"}, \"bgcolor\": \"#E5ECF6\", \"caxis\": {\"gridcolor\": \"white\", \"linecolor\": \"white\", \"ticks\": \"\"}}, \"title\": {\"x\": 0.05}, \"xaxis\": {\"automargin\": true, \"gridcolor\": \"white\", \"linecolor\": \"white\", \"ticks\": \"\", \"title\": {\"standoff\": 15}, \"zerolinecolor\": \"white\", \"zerolinewidth\": 2}, \"yaxis\": {\"automargin\": true, \"gridcolor\": \"white\", \"linecolor\": \"white\", \"ticks\": \"\", \"title\": {\"standoff\": 15}, \"zerolinecolor\": \"white\", \"zerolinewidth\": 2}}}, \"title\": {\"text\": \"Comulative number of deaths, by number of days since 3rd death\"}, \"width\": 900, \"xaxis\": {\"title\": {\"text\": \"Number of days since 3rd death\"}}, \"yaxis\": {\"title\": {\"text\": \"Comulative number of deaths\"}, \"type\": \"log\"}},\n",
       "                        {\"responsive\": true}\n",
       "                    ).then(function(){\n",
       "                            \n",
       "var gd = document.getElementById('bb9f7445-f398-4db2-8f84-d8fb63209730');\n",
       "var x = new MutationObserver(function (mutations, observer) {{\n",
       "        var display = window.getComputedStyle(gd).display;\n",
       "        if (!display || display === 'none') {{\n",
       "            console.log([gd, 'removed!']);\n",
       "            Plotly.purge(gd);\n",
       "            observer.disconnect();\n",
       "        }}\n",
       "}});\n",
       "\n",
       "// Listen for the removal of the full notebook cells\n",
       "var notebookContainer = gd.closest('#notebook-container');\n",
       "if (notebookContainer) {{\n",
       "    x.observe(notebookContainer, {childList: true});\n",
       "}}\n",
       "\n",
       "// Listen for the clearing of the current output cell\n",
       "var outputEl = gd.closest('.output');\n",
       "if (outputEl) {{\n",
       "    x.observe(outputEl, {childList: true});\n",
       "}}\n",
       "\n",
       "                        })\n",
       "                };\n",
       "                });\n",
       "            </script>\n",
       "        </div>"
      ]
     },
     "metadata": {},
     "output_type": "display_data"
    }
   ],
   "source": [
    "###########################################################################\n",
    "#### Deaths\n",
    "\n",
    "data = dfs_norm_3death\n",
    "lines = Lines_ds\n",
    "title = 'Comulative number of deaths, by number of days since 3rd death'\n",
    "x_title = 'Number of days since 3rd death'\n",
    "y_title = 'Comulative number of deaths'\n",
    "yaxis_scale_value = 'log'\n",
    "\n",
    "fig = go.Figure()\n",
    "\n",
    "plot_data = []\n",
    "annotations = []\n",
    "for i, column in enumerate(data.columns):\n",
    "    plot_data.append(\n",
    "        go.Scatter(x=list(data.index.values),\n",
    "                   y=data[column],\n",
    "                   hovertemplate = '%{y:.0f}',\n",
    "                   mode='lines',\n",
    "                   line = {'color': coloursp[i]},\n",
    "                   opacity=0.6,\n",
    "                   name=column) )\n",
    "\n",
    "    plot_data.append(\n",
    "        go.Scatter(x = [data[column].dropna().index[-1]],\n",
    "                   y = [list(data[column].dropna())[-1]],\n",
    "                   mode='markers',\n",
    "                   marker = {'color': coloursp[i],\n",
    "                             'size' : 5},\n",
    "                   showlegend=False,\n",
    "                   opacity=0.6,\n",
    "                   hoverinfo='skip',) )\n",
    "\n",
    "    annotations.append(dict(xref='x',yref='y',\n",
    "                            x=data[column].dropna().index[-1],\n",
    "                            y=list(data[column].dropna())[-1],\n",
    "                            xanchor='left', yanchor='middle',\n",
    "                            text=df_loc.set_index('region_name').region.loc[column],\n",
    "                            font={'family':'Arial','size':12},\n",
    "                            showarrow=False))\n",
    "for column in lines.columns:\n",
    "    plot_data.append(\n",
    "        go.Scatter(x=list(lines.index.values),\n",
    "                   y=lines[column],\n",
    "                   hovertemplate = 'Doubles',\n",
    "                   mode='lines',\n",
    "                   opacity=0.5,\n",
    "                   line={'color': color_balck,\n",
    "                         'dash':'dash'},\n",
    "                   name=column) )\n",
    "    \n",
    "for i in range(0,plot_data.__len__()):\n",
    "    fig.add_trace(plot_data[i])\n",
    "    \n",
    "if yaxis_scale_value == 'log':\n",
    "    for i in annotations:\n",
    "        i['y'] = np.log10(i['y'])\n",
    "elif yaxis_scale_value == 'linear':\n",
    "    annotations = annotations\n",
    "\n",
    "fig.update_layout(  title = title,\n",
    "                    width = 900,\n",
    "                    height = 500,\n",
    "                    xaxis={'title': x_title,},\n",
    "                    yaxis={'title': y_title,\n",
    "                           'type': 'log' if yaxis_scale_value == 'log' else 'linear'},\n",
    "                    hovermode='x',\n",
    "                    annotations = annotations\n",
    "                 )\n",
    "    \n",
    "fig.show()"
   ]
  },
  {
   "cell_type": "code",
   "execution_count": 10,
   "metadata": {},
   "outputs": [],
   "source": [
    "###############################################################################\n",
    "### Deaths - Daily\n",
    "\n",
    "dfs_pivot_d_daily = dfs_pivot_d.diff()\n",
    "dfs_pivot_d_daily.loc['2020-03-08'] = dfs_pivot_d.loc['2020-03-08']\n",
    "\n",
    "regions = dfs_pivot_d_daily.agg(max) > 3\n",
    "regions = (regions[regions == True].index.values)\n",
    "dfs_pivot_3death = dfs_pivot_d_daily[regions]\n",
    "\n",
    "dfs_norm_3death_roll = []\n",
    "for column in dfs_pivot_3death.columns:\n",
    "    temp = dfs_pivot_3death[column].reset_index(drop=True)\n",
    "    dfs_norm_3death_roll.append(dfs_pivot_3death[column].iloc[temp[temp > 3]\\\n",
    "                                                             .index[0]:].values)\n",
    "\n",
    "dfs_norm_3death_roll = pd.DataFrame(dfs_norm_3death_roll).T\n",
    "dfs_norm_3death_roll.columns = dfs_pivot_3death.columns\n",
    "dfs_norm_3death_roll = dfs_norm_3death_roll.rolling(7).mean().iloc[6:]\\\n",
    "                                                         .reset_index(drop=True)\n",
    "dfs_norm_3death_roll = dfs_norm_3death_roll.dropna(how='all',axis = 1)"
   ]
  },
  {
   "cell_type": "code",
   "execution_count": 11,
   "metadata": {
    "scrolled": false
   },
   "outputs": [
    {
     "data": {
      "application/vnd.plotly.v1+json": {
       "config": {
        "plotlyServerURL": "https://plot.ly"
       },
       "data": [
        {
         "hovertemplate": "%{y:.0f}",
         "line": {
          "color": "#636EFA"
         },
         "mode": "lines",
         "name": "Andalusia",
         "opacity": 0.6,
         "type": "scatter",
         "x": [
          0,
          1,
          2,
          3,
          4,
          5,
          6,
          7,
          8,
          9,
          10,
          11,
          12,
          13,
          14,
          15,
          16,
          17,
          18,
          19,
          20,
          21,
          22,
          23,
          24
         ],
         "y": [
          5.428571428571429,
          5.857142857142857,
          7.285714285714286,
          10.857142857142858,
          13.428571428571429,
          15.857142857142858,
          16.285714285714285,
          19.285714285714285,
          22.857142857142858,
          25.428571428571427,
          23,
          27.857142857142858,
          29.857142857142858,
          33.142857142857146,
          35.857142857142854,
          37.57142857142857,
          36.42857142857143,
          40,
          42.42857142857143,
          null,
          null,
          null,
          null,
          null,
          null
         ]
        },
        {
         "hoverinfo": "skip",
         "marker": {
          "color": "#636EFA",
          "size": 5
         },
         "mode": "markers",
         "opacity": 0.6,
         "showlegend": false,
         "type": "scatter",
         "x": [
          18
         ],
         "y": [
          42.42857142857143
         ]
        },
        {
         "hovertemplate": "%{y:.0f}",
         "line": {
          "color": "#EF553B"
         },
         "mode": "lines",
         "name": "Aragon",
         "opacity": 0.6,
         "type": "scatter",
         "x": [
          0,
          1,
          2,
          3,
          4,
          5,
          6,
          7,
          8,
          9,
          10,
          11,
          12,
          13,
          14,
          15,
          16,
          17,
          18,
          19,
          20,
          21,
          22,
          23,
          24
         ],
         "y": [
          2.4285714285714284,
          3,
          3.5714285714285716,
          3.857142857142857,
          4.714285714285714,
          5.857142857142857,
          10.142857142857142,
          11.428571428571429,
          10.571428571428571,
          14.428571428571429,
          18.428571428571427,
          21.714285714285715,
          23.714285714285715,
          22.571428571428573,
          23.714285714285715,
          25.428571428571427,
          24.857142857142858,
          25.714285714285715,
          null,
          null,
          null,
          null,
          null,
          null,
          null
         ]
        },
        {
         "hoverinfo": "skip",
         "marker": {
          "color": "#EF553B",
          "size": 5
         },
         "mode": "markers",
         "opacity": 0.6,
         "showlegend": false,
         "type": "scatter",
         "x": [
          17
         ],
         "y": [
          25.714285714285715
         ]
        },
        {
         "hovertemplate": "%{y:.0f}",
         "line": {
          "color": "#00CC96"
         },
         "mode": "lines",
         "name": "Asturias",
         "opacity": 0.6,
         "type": "scatter",
         "x": [
          0,
          1,
          2,
          3,
          4,
          5,
          6,
          7,
          8,
          9,
          10,
          11,
          12,
          13,
          14,
          15,
          16,
          17,
          18,
          19,
          20,
          21,
          22,
          23,
          24
         ],
         "y": [
          4.714285714285714,
          5.285714285714286,
          4.714285714285714,
          5.428571428571429,
          6,
          5.857142857142857,
          6.142857142857143,
          5.571428571428571,
          5.285714285714286,
          5.857142857142857,
          5.571428571428571,
          null,
          null,
          null,
          null,
          null,
          null,
          null,
          null,
          null,
          null,
          null,
          null,
          null,
          null
         ]
        },
        {
         "hoverinfo": "skip",
         "marker": {
          "color": "#00CC96",
          "size": 5
         },
         "mode": "markers",
         "opacity": 0.6,
         "showlegend": false,
         "type": "scatter",
         "x": [
          10
         ],
         "y": [
          5.571428571428571
         ]
        },
        {
         "hovertemplate": "%{y:.0f}",
         "line": {
          "color": "#AB63FA"
         },
         "mode": "lines",
         "name": "Balearic Islands",
         "opacity": 0.6,
         "type": "scatter",
         "x": [
          0,
          1,
          2,
          3,
          4,
          5,
          6,
          7,
          8,
          9,
          10,
          11,
          12,
          13,
          14,
          15,
          16,
          17,
          18,
          19,
          20,
          21,
          22,
          23,
          24
         ],
         "y": [
          3.5714285714285716,
          3.857142857142857,
          4.571428571428571,
          4.714285714285714,
          5.857142857142857,
          6.714285714285714,
          6.428571428571429,
          6.571428571428571,
          6.285714285714286,
          6,
          6.142857142857143,
          null,
          null,
          null,
          null,
          null,
          null,
          null,
          null,
          null,
          null,
          null,
          null,
          null,
          null
         ]
        },
        {
         "hoverinfo": "skip",
         "marker": {
          "color": "#AB63FA",
          "size": 5
         },
         "mode": "markers",
         "opacity": 0.6,
         "showlegend": false,
         "type": "scatter",
         "x": [
          10
         ],
         "y": [
          6.142857142857143
         ]
        },
        {
         "hovertemplate": "%{y:.0f}",
         "line": {
          "color": "#FFA15A"
         },
         "mode": "lines",
         "name": "Basque Country",
         "opacity": 0.6,
         "type": "scatter",
         "x": [
          0,
          1,
          2,
          3,
          4,
          5,
          6,
          7,
          8,
          9,
          10,
          11,
          12,
          13,
          14,
          15,
          16,
          17,
          18,
          19,
          20,
          21,
          22,
          23,
          24
         ],
         "y": [
          3.2857142857142856,
          2.4285714285714284,
          4.285714285714286,
          4.857142857142857,
          6,
          8.142857142857142,
          10.142857142857142,
          10.571428571428571,
          13.857142857142858,
          13.857142857142858,
          16.428571428571427,
          18.142857142857142,
          19.428571428571427,
          22.285714285714285,
          24,
          25.285714285714285,
          27.428571428571427,
          30.571428571428573,
          33.142857142857146,
          33.857142857142854,
          33.714285714285715,
          35.714285714285715,
          35.857142857142854,
          37.285714285714285,
          38
         ]
        },
        {
         "hoverinfo": "skip",
         "marker": {
          "color": "#FFA15A",
          "size": 5
         },
         "mode": "markers",
         "opacity": 0.6,
         "showlegend": false,
         "type": "scatter",
         "x": [
          24
         ],
         "y": [
          38
         ]
        },
        {
         "hovertemplate": "%{y:.0f}",
         "line": {
          "color": "#19D3F3"
         },
         "mode": "lines",
         "name": "Canary Islands",
         "opacity": 0.6,
         "type": "scatter",
         "x": [
          0,
          1,
          2,
          3,
          4,
          5,
          6,
          7,
          8,
          9,
          10,
          11,
          12,
          13,
          14,
          15,
          16,
          17,
          18,
          19,
          20,
          21,
          22,
          23,
          24
         ],
         "y": [
          4.142857142857143,
          5.571428571428571,
          5.857142857142857,
          6.285714285714286,
          6.571428571428571,
          6,
          5.857142857142857,
          6.428571428571429,
          4.857142857142857,
          4.142857142857143,
          null,
          null,
          null,
          null,
          null,
          null,
          null,
          null,
          null,
          null,
          null,
          null,
          null,
          null,
          null
         ]
        },
        {
         "hoverinfo": "skip",
         "marker": {
          "color": "#19D3F3",
          "size": 5
         },
         "mode": "markers",
         "opacity": 0.6,
         "showlegend": false,
         "type": "scatter",
         "x": [
          9
         ],
         "y": [
          4.142857142857143
         ]
        },
        {
         "hovertemplate": "%{y:.0f}",
         "line": {
          "color": "#FF6692"
         },
         "mode": "lines",
         "name": "Cantabria",
         "opacity": 0.6,
         "type": "scatter",
         "x": [
          0,
          1,
          2,
          3,
          4,
          5,
          6,
          7,
          8,
          9,
          10,
          11,
          12,
          13,
          14,
          15,
          16,
          17,
          18,
          19,
          20,
          21,
          22,
          23,
          24
         ],
         "y": [
          4,
          5.714285714285714,
          6.142857142857143,
          6.142857142857143,
          6.571428571428571,
          6,
          7.142857142857143,
          6.857142857142857,
          5.428571428571429,
          null,
          null,
          null,
          null,
          null,
          null,
          null,
          null,
          null,
          null,
          null,
          null,
          null,
          null,
          null,
          null
         ]
        },
        {
         "hoverinfo": "skip",
         "marker": {
          "color": "#FF6692",
          "size": 5
         },
         "mode": "markers",
         "opacity": 0.6,
         "showlegend": false,
         "type": "scatter",
         "x": [
          8
         ],
         "y": [
          5.428571428571429
         ]
        },
        {
         "hovertemplate": "%{y:.0f}",
         "line": {
          "color": "#B6E880"
         },
         "mode": "lines",
         "name": "Castille and Leon",
         "opacity": 0.6,
         "type": "scatter",
         "x": [
          0,
          1,
          2,
          3,
          4,
          5,
          6,
          7,
          8,
          9,
          10,
          11,
          12,
          13,
          14,
          15,
          16,
          17,
          18,
          19,
          20,
          21,
          22,
          23,
          24
         ],
         "y": [
          13.714285714285714,
          16,
          20.428571428571427,
          25.285714285714285,
          29.857142857142858,
          38,
          43.714285714285715,
          48.57142857142857,
          56,
          60,
          62.142857142857146,
          67.28571428571429,
          66.42857142857143,
          66.71428571428571,
          68.14285714285714,
          66.57142857142857,
          63.285714285714285,
          null,
          null,
          null,
          null,
          null,
          null,
          null,
          null
         ]
        },
        {
         "hoverinfo": "skip",
         "marker": {
          "color": "#B6E880",
          "size": 5
         },
         "mode": "markers",
         "opacity": 0.6,
         "showlegend": false,
         "type": "scatter",
         "x": [
          16
         ],
         "y": [
          63.285714285714285
         ]
        },
        {
         "hovertemplate": "%{y:.0f}",
         "line": {
          "color": "#FF97FF"
         },
         "mode": "lines",
         "name": "Castille-La Mancha",
         "opacity": 0.6,
         "type": "scatter",
         "x": [
          0,
          1,
          2,
          3,
          4,
          5,
          6,
          7,
          8,
          9,
          10,
          11,
          12,
          13,
          14,
          15,
          16,
          17,
          18,
          19,
          20,
          21,
          22,
          23,
          24
         ],
         "y": [
          5.857142857142857,
          5.285714285714286,
          11.142857142857142,
          14.571428571428571,
          18.285714285714285,
          28.428571428571427,
          33.57142857142857,
          39.142857142857146,
          46.42857142857143,
          52,
          61,
          68.14285714285714,
          70.28571428571429,
          73,
          76.85714285714286,
          78.42857142857143,
          77.28571428571429,
          73.71428571428571,
          72.85714285714286,
          67,
          68.71428571428571,
          null,
          null,
          null,
          null
         ]
        },
        {
         "hoverinfo": "skip",
         "marker": {
          "color": "#FF97FF",
          "size": 5
         },
         "mode": "markers",
         "opacity": 0.6,
         "showlegend": false,
         "type": "scatter",
         "x": [
          20
         ],
         "y": [
          68.71428571428571
         ]
        },
        {
         "hovertemplate": "%{y:.0f}",
         "line": {
          "color": "#FECB52"
         },
         "mode": "lines",
         "name": "Catalonia",
         "opacity": 0.6,
         "type": "scatter",
         "x": [
          0,
          1,
          2,
          3,
          4,
          5,
          6,
          7,
          8,
          9,
          10,
          11,
          12,
          13,
          14,
          15,
          16,
          17,
          18,
          19,
          20,
          21,
          22,
          23,
          24
         ],
         "y": [
          26.142857142857142,
          33.285714285714285,
          37.714285714285715,
          67.85714285714286,
          88.14285714285714,
          114,
          135.42857142857142,
          147.85714285714286,
          166.42857142857142,
          198.57142857142858,
          190.42857142857142,
          203,
          207.85714285714286,
          205.42857142857142,
          201.57142857142858,
          192.85714285714286,
          176.57142857142858,
          170.28571428571428,
          null,
          null,
          null,
          null,
          null,
          null,
          null
         ]
        },
        {
         "hoverinfo": "skip",
         "marker": {
          "color": "#FECB52",
          "size": 5
         },
         "mode": "markers",
         "opacity": 0.6,
         "showlegend": false,
         "type": "scatter",
         "x": [
          17
         ],
         "y": [
          170.28571428571428
         ]
        },
        {
         "hovertemplate": "%{y:.0f}",
         "line": {
          "color": "#636EFA"
         },
         "mode": "lines",
         "name": "Extremadura",
         "opacity": 0.6,
         "type": "scatter",
         "x": [
          0,
          1,
          2,
          3,
          4,
          5,
          6,
          7,
          8,
          9,
          10,
          11,
          12,
          13,
          14,
          15,
          16,
          17,
          18,
          19,
          20,
          21,
          22,
          23,
          24
         ],
         "y": [
          12.285714285714286,
          12.571428571428571,
          15.285714285714286,
          16.142857142857142,
          17.571428571428573,
          18.714285714285715,
          17.142857142857142,
          16.857142857142858,
          17.428571428571427,
          17.857142857142858,
          17,
          null,
          null,
          null,
          null,
          null,
          null,
          null,
          null,
          null,
          null,
          null,
          null,
          null,
          null
         ]
        },
        {
         "hoverinfo": "skip",
         "marker": {
          "color": "#636EFA",
          "size": 5
         },
         "mode": "markers",
         "opacity": 0.6,
         "showlegend": false,
         "type": "scatter",
         "x": [
          10
         ],
         "y": [
          17
         ]
        },
        {
         "hovertemplate": "%{y:.0f}",
         "line": {
          "color": "#EF553B"
         },
         "mode": "lines",
         "name": "Galicia",
         "opacity": 0.6,
         "type": "scatter",
         "x": [
          0,
          1,
          2,
          3,
          4,
          5,
          6,
          7,
          8,
          9,
          10,
          11,
          12,
          13,
          14,
          15,
          16,
          17,
          18,
          19,
          20,
          21,
          22,
          23,
          24
         ],
         "y": [
          5.428571428571429,
          5.428571428571429,
          6.857142857142857,
          6.857142857142857,
          9.142857142857142,
          10.857142857142858,
          12.571428571428571,
          13.571428571428571,
          16,
          16.285714285714285,
          17.714285714285715,
          17.142857142857142,
          15.714285714285714,
          null,
          null,
          null,
          null,
          null,
          null,
          null,
          null,
          null,
          null,
          null,
          null
         ]
        },
        {
         "hoverinfo": "skip",
         "marker": {
          "color": "#EF553B",
          "size": 5
         },
         "mode": "markers",
         "opacity": 0.6,
         "showlegend": false,
         "type": "scatter",
         "x": [
          12
         ],
         "y": [
          15.714285714285714
         ]
        },
        {
         "hovertemplate": "%{y:.0f}",
         "line": {
          "color": "#00CC96"
         },
         "mode": "lines",
         "name": "La Rioja",
         "opacity": 0.6,
         "type": "scatter",
         "x": [
          0,
          1,
          2,
          3,
          4,
          5,
          6,
          7,
          8,
          9,
          10,
          11,
          12,
          13,
          14,
          15,
          16,
          17,
          18,
          19,
          20,
          21,
          22,
          23,
          24
         ],
         "y": [
          6.857142857142857,
          7.142857142857143,
          7.142857142857143,
          7,
          7.857142857142857,
          7.571428571428571,
          8.285714285714286,
          7.714285714285714,
          9,
          9.428571428571429,
          10,
          10.714285714285714,
          12.428571428571429,
          null,
          null,
          null,
          null,
          null,
          null,
          null,
          null,
          null,
          null,
          null,
          null
         ]
        },
        {
         "hoverinfo": "skip",
         "marker": {
          "color": "#00CC96",
          "size": 5
         },
         "mode": "markers",
         "opacity": 0.6,
         "showlegend": false,
         "type": "scatter",
         "x": [
          12
         ],
         "y": [
          12.428571428571429
         ]
        },
        {
         "hovertemplate": "%{y:.0f}",
         "line": {
          "color": "#AB63FA"
         },
         "mode": "lines",
         "name": "Madrid",
         "opacity": 0.6,
         "type": "scatter",
         "x": [
          0,
          1,
          2,
          3,
          4,
          5,
          6,
          7,
          8,
          9,
          10,
          11,
          12,
          13,
          14,
          15,
          16,
          17,
          18,
          19,
          20,
          21,
          22,
          23,
          24
         ],
         "y": [
          30.428571428571427,
          28.142857142857142,
          47.714285714285715,
          51.285714285714285,
          63.142857142857146,
          78.14285714285714,
          102.57142857142857,
          115.42857142857143,
          150,
          168.57142857142858,
          205,
          227.42857142857142,
          254.85714285714286,
          279,
          294.42857142857144,
          304.14285714285717,
          295.42857142857144,
          291.42857142857144,
          297.85714285714283,
          295.85714285714283,
          280.85714285714283,
          265.57142857142856,
          249.14285714285714,
          252.57142857142858,
          245.85714285714286
         ]
        },
        {
         "hoverinfo": "skip",
         "marker": {
          "color": "#AB63FA",
          "size": 5
         },
         "mode": "markers",
         "opacity": 0.6,
         "showlegend": false,
         "type": "scatter",
         "x": [
          24
         ],
         "y": [
          245.85714285714286
         ]
        },
        {
         "hovertemplate": "%{y:.0f}",
         "line": {
          "color": "#FFA15A"
         },
         "mode": "lines",
         "name": "Murcia",
         "opacity": 0.6,
         "type": "scatter",
         "x": [
          0,
          1,
          2,
          3,
          4,
          5,
          6,
          7,
          8,
          9,
          10,
          11,
          12,
          13,
          14,
          15,
          16,
          17,
          18,
          19,
          20,
          21,
          22,
          23,
          24
         ],
         "y": [
          4.857142857142857,
          4.428571428571429,
          4.857142857142857,
          5.571428571428571,
          6.142857142857143,
          6.285714285714286,
          6.857142857142857,
          null,
          null,
          null,
          null,
          null,
          null,
          null,
          null,
          null,
          null,
          null,
          null,
          null,
          null,
          null,
          null,
          null,
          null
         ]
        },
        {
         "hoverinfo": "skip",
         "marker": {
          "color": "#FFA15A",
          "size": 5
         },
         "mode": "markers",
         "opacity": 0.6,
         "showlegend": false,
         "type": "scatter",
         "x": [
          6
         ],
         "y": [
          6.857142857142857
         ]
        },
        {
         "hovertemplate": "%{y:.0f}",
         "line": {
          "color": "#19D3F3"
         },
         "mode": "lines",
         "name": "Navarre",
         "opacity": 0.6,
         "type": "scatter",
         "x": [
          0,
          1,
          2,
          3,
          4,
          5,
          6,
          7,
          8,
          9,
          10,
          11,
          12,
          13,
          14,
          15,
          16,
          17,
          18,
          19,
          20,
          21,
          22,
          23,
          24
         ],
         "y": [
          7.571428571428571,
          8.714285714285714,
          10,
          11.142857142857142,
          11.714285714285714,
          13.857142857142858,
          13.142857142857142,
          13.285714285714286,
          14.428571428571429,
          13.428571428571429,
          12.142857142857142,
          12.714285714285714,
          10.857142857142858,
          null,
          null,
          null,
          null,
          null,
          null,
          null,
          null,
          null,
          null,
          null,
          null
         ]
        },
        {
         "hoverinfo": "skip",
         "marker": {
          "color": "#19D3F3",
          "size": 5
         },
         "mode": "markers",
         "opacity": 0.6,
         "showlegend": false,
         "type": "scatter",
         "x": [
          12
         ],
         "y": [
          10.857142857142858
         ]
        },
        {
         "hovertemplate": "%{y:.0f}",
         "line": {
          "color": "#FF6692"
         },
         "mode": "lines",
         "name": "Valencia",
         "opacity": 0.6,
         "type": "scatter",
         "x": [
          0,
          1,
          2,
          3,
          4,
          5,
          6,
          7,
          8,
          9,
          10,
          11,
          12,
          13,
          14,
          15,
          16,
          17,
          18,
          19,
          20,
          21,
          22,
          23,
          24
         ],
         "y": [
          12.714285714285714,
          14.571428571428571,
          17.285714285714285,
          20.428571428571427,
          23.571428571428573,
          26.285714285714285,
          28.285714285714285,
          30.857142857142858,
          32,
          36,
          39.42857142857143,
          44.714285714285715,
          48.142857142857146,
          49.42857142857143,
          46.714285714285715,
          47.57142857142857,
          47,
          null,
          null,
          null,
          null,
          null,
          null,
          null,
          null
         ]
        },
        {
         "hoverinfo": "skip",
         "marker": {
          "color": "#FF6692",
          "size": 5
         },
         "mode": "markers",
         "opacity": 0.6,
         "showlegend": false,
         "type": "scatter",
         "x": [
          16
         ],
         "y": [
          47
         ]
        }
       ],
       "layout": {
        "annotations": [
         {
          "font": {
           "family": "Arial",
           "size": 12
          },
          "showarrow": false,
          "text": "AN",
          "x": 18,
          "xanchor": "left",
          "xref": "x",
          "y": 42.42857142857143,
          "yanchor": "middle",
          "yref": "y"
         },
         {
          "font": {
           "family": "Arial",
           "size": 12
          },
          "showarrow": false,
          "text": "AR",
          "x": 17,
          "xanchor": "left",
          "xref": "x",
          "y": 25.714285714285715,
          "yanchor": "middle",
          "yref": "y"
         },
         {
          "font": {
           "family": "Arial",
           "size": 12
          },
          "showarrow": false,
          "text": "AS",
          "x": 10,
          "xanchor": "left",
          "xref": "x",
          "y": 5.571428571428571,
          "yanchor": "middle",
          "yref": "y"
         },
         {
          "font": {
           "family": "Arial",
           "size": 12
          },
          "showarrow": false,
          "text": "IB",
          "x": 10,
          "xanchor": "left",
          "xref": "x",
          "y": 6.142857142857143,
          "yanchor": "middle",
          "yref": "y"
         },
         {
          "font": {
           "family": "Arial",
           "size": 12
          },
          "showarrow": false,
          "text": "PV",
          "x": 24,
          "xanchor": "left",
          "xref": "x",
          "y": 38,
          "yanchor": "middle",
          "yref": "y"
         },
         {
          "font": {
           "family": "Arial",
           "size": 12
          },
          "showarrow": false,
          "text": "CN",
          "x": 9,
          "xanchor": "left",
          "xref": "x",
          "y": 4.142857142857143,
          "yanchor": "middle",
          "yref": "y"
         },
         {
          "font": {
           "family": "Arial",
           "size": 12
          },
          "showarrow": false,
          "text": "CB",
          "x": 8,
          "xanchor": "left",
          "xref": "x",
          "y": 5.428571428571429,
          "yanchor": "middle",
          "yref": "y"
         },
         {
          "font": {
           "family": "Arial",
           "size": 12
          },
          "showarrow": false,
          "text": "CL",
          "x": 16,
          "xanchor": "left",
          "xref": "x",
          "y": 63.285714285714285,
          "yanchor": "middle",
          "yref": "y"
         },
         {
          "font": {
           "family": "Arial",
           "size": 12
          },
          "showarrow": false,
          "text": "CM",
          "x": 20,
          "xanchor": "left",
          "xref": "x",
          "y": 68.71428571428571,
          "yanchor": "middle",
          "yref": "y"
         },
         {
          "font": {
           "family": "Arial",
           "size": 12
          },
          "showarrow": false,
          "text": "CT",
          "x": 17,
          "xanchor": "left",
          "xref": "x",
          "y": 170.28571428571428,
          "yanchor": "middle",
          "yref": "y"
         },
         {
          "font": {
           "family": "Arial",
           "size": 12
          },
          "showarrow": false,
          "text": "EX",
          "x": 10,
          "xanchor": "left",
          "xref": "x",
          "y": 17,
          "yanchor": "middle",
          "yref": "y"
         },
         {
          "font": {
           "family": "Arial",
           "size": 12
          },
          "showarrow": false,
          "text": "GA",
          "x": 12,
          "xanchor": "left",
          "xref": "x",
          "y": 15.714285714285714,
          "yanchor": "middle",
          "yref": "y"
         },
         {
          "font": {
           "family": "Arial",
           "size": 12
          },
          "showarrow": false,
          "text": "RI",
          "x": 12,
          "xanchor": "left",
          "xref": "x",
          "y": 12.428571428571429,
          "yanchor": "middle",
          "yref": "y"
         },
         {
          "font": {
           "family": "Arial",
           "size": 12
          },
          "showarrow": false,
          "text": "MD",
          "x": 24,
          "xanchor": "left",
          "xref": "x",
          "y": 245.85714285714286,
          "yanchor": "middle",
          "yref": "y"
         },
         {
          "font": {
           "family": "Arial",
           "size": 12
          },
          "showarrow": false,
          "text": "MC",
          "x": 6,
          "xanchor": "left",
          "xref": "x",
          "y": 6.857142857142857,
          "yanchor": "middle",
          "yref": "y"
         },
         {
          "font": {
           "family": "Arial",
           "size": 12
          },
          "showarrow": false,
          "text": "NC",
          "x": 12,
          "xanchor": "left",
          "xref": "x",
          "y": 10.857142857142858,
          "yanchor": "middle",
          "yref": "y"
         },
         {
          "font": {
           "family": "Arial",
           "size": 12
          },
          "showarrow": false,
          "text": "VC",
          "x": 16,
          "xanchor": "left",
          "xref": "x",
          "y": 47,
          "yanchor": "middle",
          "yref": "y"
         }
        ],
        "height": 500,
        "hovermode": "x",
        "template": {
         "data": {
          "bar": [
           {
            "error_x": {
             "color": "#2a3f5f"
            },
            "error_y": {
             "color": "#2a3f5f"
            },
            "marker": {
             "line": {
              "color": "#E5ECF6",
              "width": 0.5
             }
            },
            "type": "bar"
           }
          ],
          "barpolar": [
           {
            "marker": {
             "line": {
              "color": "#E5ECF6",
              "width": 0.5
             }
            },
            "type": "barpolar"
           }
          ],
          "carpet": [
           {
            "aaxis": {
             "endlinecolor": "#2a3f5f",
             "gridcolor": "white",
             "linecolor": "white",
             "minorgridcolor": "white",
             "startlinecolor": "#2a3f5f"
            },
            "baxis": {
             "endlinecolor": "#2a3f5f",
             "gridcolor": "white",
             "linecolor": "white",
             "minorgridcolor": "white",
             "startlinecolor": "#2a3f5f"
            },
            "type": "carpet"
           }
          ],
          "choropleth": [
           {
            "colorbar": {
             "outlinewidth": 0,
             "ticks": ""
            },
            "type": "choropleth"
           }
          ],
          "contour": [
           {
            "colorbar": {
             "outlinewidth": 0,
             "ticks": ""
            },
            "colorscale": [
             [
              0,
              "#0d0887"
             ],
             [
              0.1111111111111111,
              "#46039f"
             ],
             [
              0.2222222222222222,
              "#7201a8"
             ],
             [
              0.3333333333333333,
              "#9c179e"
             ],
             [
              0.4444444444444444,
              "#bd3786"
             ],
             [
              0.5555555555555556,
              "#d8576b"
             ],
             [
              0.6666666666666666,
              "#ed7953"
             ],
             [
              0.7777777777777778,
              "#fb9f3a"
             ],
             [
              0.8888888888888888,
              "#fdca26"
             ],
             [
              1,
              "#f0f921"
             ]
            ],
            "type": "contour"
           }
          ],
          "contourcarpet": [
           {
            "colorbar": {
             "outlinewidth": 0,
             "ticks": ""
            },
            "type": "contourcarpet"
           }
          ],
          "heatmap": [
           {
            "colorbar": {
             "outlinewidth": 0,
             "ticks": ""
            },
            "colorscale": [
             [
              0,
              "#0d0887"
             ],
             [
              0.1111111111111111,
              "#46039f"
             ],
             [
              0.2222222222222222,
              "#7201a8"
             ],
             [
              0.3333333333333333,
              "#9c179e"
             ],
             [
              0.4444444444444444,
              "#bd3786"
             ],
             [
              0.5555555555555556,
              "#d8576b"
             ],
             [
              0.6666666666666666,
              "#ed7953"
             ],
             [
              0.7777777777777778,
              "#fb9f3a"
             ],
             [
              0.8888888888888888,
              "#fdca26"
             ],
             [
              1,
              "#f0f921"
             ]
            ],
            "type": "heatmap"
           }
          ],
          "heatmapgl": [
           {
            "colorbar": {
             "outlinewidth": 0,
             "ticks": ""
            },
            "colorscale": [
             [
              0,
              "#0d0887"
             ],
             [
              0.1111111111111111,
              "#46039f"
             ],
             [
              0.2222222222222222,
              "#7201a8"
             ],
             [
              0.3333333333333333,
              "#9c179e"
             ],
             [
              0.4444444444444444,
              "#bd3786"
             ],
             [
              0.5555555555555556,
              "#d8576b"
             ],
             [
              0.6666666666666666,
              "#ed7953"
             ],
             [
              0.7777777777777778,
              "#fb9f3a"
             ],
             [
              0.8888888888888888,
              "#fdca26"
             ],
             [
              1,
              "#f0f921"
             ]
            ],
            "type": "heatmapgl"
           }
          ],
          "histogram": [
           {
            "marker": {
             "colorbar": {
              "outlinewidth": 0,
              "ticks": ""
             }
            },
            "type": "histogram"
           }
          ],
          "histogram2d": [
           {
            "colorbar": {
             "outlinewidth": 0,
             "ticks": ""
            },
            "colorscale": [
             [
              0,
              "#0d0887"
             ],
             [
              0.1111111111111111,
              "#46039f"
             ],
             [
              0.2222222222222222,
              "#7201a8"
             ],
             [
              0.3333333333333333,
              "#9c179e"
             ],
             [
              0.4444444444444444,
              "#bd3786"
             ],
             [
              0.5555555555555556,
              "#d8576b"
             ],
             [
              0.6666666666666666,
              "#ed7953"
             ],
             [
              0.7777777777777778,
              "#fb9f3a"
             ],
             [
              0.8888888888888888,
              "#fdca26"
             ],
             [
              1,
              "#f0f921"
             ]
            ],
            "type": "histogram2d"
           }
          ],
          "histogram2dcontour": [
           {
            "colorbar": {
             "outlinewidth": 0,
             "ticks": ""
            },
            "colorscale": [
             [
              0,
              "#0d0887"
             ],
             [
              0.1111111111111111,
              "#46039f"
             ],
             [
              0.2222222222222222,
              "#7201a8"
             ],
             [
              0.3333333333333333,
              "#9c179e"
             ],
             [
              0.4444444444444444,
              "#bd3786"
             ],
             [
              0.5555555555555556,
              "#d8576b"
             ],
             [
              0.6666666666666666,
              "#ed7953"
             ],
             [
              0.7777777777777778,
              "#fb9f3a"
             ],
             [
              0.8888888888888888,
              "#fdca26"
             ],
             [
              1,
              "#f0f921"
             ]
            ],
            "type": "histogram2dcontour"
           }
          ],
          "mesh3d": [
           {
            "colorbar": {
             "outlinewidth": 0,
             "ticks": ""
            },
            "type": "mesh3d"
           }
          ],
          "parcoords": [
           {
            "line": {
             "colorbar": {
              "outlinewidth": 0,
              "ticks": ""
             }
            },
            "type": "parcoords"
           }
          ],
          "pie": [
           {
            "automargin": true,
            "type": "pie"
           }
          ],
          "scatter": [
           {
            "marker": {
             "colorbar": {
              "outlinewidth": 0,
              "ticks": ""
             }
            },
            "type": "scatter"
           }
          ],
          "scatter3d": [
           {
            "line": {
             "colorbar": {
              "outlinewidth": 0,
              "ticks": ""
             }
            },
            "marker": {
             "colorbar": {
              "outlinewidth": 0,
              "ticks": ""
             }
            },
            "type": "scatter3d"
           }
          ],
          "scattercarpet": [
           {
            "marker": {
             "colorbar": {
              "outlinewidth": 0,
              "ticks": ""
             }
            },
            "type": "scattercarpet"
           }
          ],
          "scattergeo": [
           {
            "marker": {
             "colorbar": {
              "outlinewidth": 0,
              "ticks": ""
             }
            },
            "type": "scattergeo"
           }
          ],
          "scattergl": [
           {
            "marker": {
             "colorbar": {
              "outlinewidth": 0,
              "ticks": ""
             }
            },
            "type": "scattergl"
           }
          ],
          "scattermapbox": [
           {
            "marker": {
             "colorbar": {
              "outlinewidth": 0,
              "ticks": ""
             }
            },
            "type": "scattermapbox"
           }
          ],
          "scatterpolar": [
           {
            "marker": {
             "colorbar": {
              "outlinewidth": 0,
              "ticks": ""
             }
            },
            "type": "scatterpolar"
           }
          ],
          "scatterpolargl": [
           {
            "marker": {
             "colorbar": {
              "outlinewidth": 0,
              "ticks": ""
             }
            },
            "type": "scatterpolargl"
           }
          ],
          "scatterternary": [
           {
            "marker": {
             "colorbar": {
              "outlinewidth": 0,
              "ticks": ""
             }
            },
            "type": "scatterternary"
           }
          ],
          "surface": [
           {
            "colorbar": {
             "outlinewidth": 0,
             "ticks": ""
            },
            "colorscale": [
             [
              0,
              "#0d0887"
             ],
             [
              0.1111111111111111,
              "#46039f"
             ],
             [
              0.2222222222222222,
              "#7201a8"
             ],
             [
              0.3333333333333333,
              "#9c179e"
             ],
             [
              0.4444444444444444,
              "#bd3786"
             ],
             [
              0.5555555555555556,
              "#d8576b"
             ],
             [
              0.6666666666666666,
              "#ed7953"
             ],
             [
              0.7777777777777778,
              "#fb9f3a"
             ],
             [
              0.8888888888888888,
              "#fdca26"
             ],
             [
              1,
              "#f0f921"
             ]
            ],
            "type": "surface"
           }
          ],
          "table": [
           {
            "cells": {
             "fill": {
              "color": "#EBF0F8"
             },
             "line": {
              "color": "white"
             }
            },
            "header": {
             "fill": {
              "color": "#C8D4E3"
             },
             "line": {
              "color": "white"
             }
            },
            "type": "table"
           }
          ]
         },
         "layout": {
          "annotationdefaults": {
           "arrowcolor": "#2a3f5f",
           "arrowhead": 0,
           "arrowwidth": 1
          },
          "coloraxis": {
           "colorbar": {
            "outlinewidth": 0,
            "ticks": ""
           }
          },
          "colorscale": {
           "diverging": [
            [
             0,
             "#8e0152"
            ],
            [
             0.1,
             "#c51b7d"
            ],
            [
             0.2,
             "#de77ae"
            ],
            [
             0.3,
             "#f1b6da"
            ],
            [
             0.4,
             "#fde0ef"
            ],
            [
             0.5,
             "#f7f7f7"
            ],
            [
             0.6,
             "#e6f5d0"
            ],
            [
             0.7,
             "#b8e186"
            ],
            [
             0.8,
             "#7fbc41"
            ],
            [
             0.9,
             "#4d9221"
            ],
            [
             1,
             "#276419"
            ]
           ],
           "sequential": [
            [
             0,
             "#0d0887"
            ],
            [
             0.1111111111111111,
             "#46039f"
            ],
            [
             0.2222222222222222,
             "#7201a8"
            ],
            [
             0.3333333333333333,
             "#9c179e"
            ],
            [
             0.4444444444444444,
             "#bd3786"
            ],
            [
             0.5555555555555556,
             "#d8576b"
            ],
            [
             0.6666666666666666,
             "#ed7953"
            ],
            [
             0.7777777777777778,
             "#fb9f3a"
            ],
            [
             0.8888888888888888,
             "#fdca26"
            ],
            [
             1,
             "#f0f921"
            ]
           ],
           "sequentialminus": [
            [
             0,
             "#0d0887"
            ],
            [
             0.1111111111111111,
             "#46039f"
            ],
            [
             0.2222222222222222,
             "#7201a8"
            ],
            [
             0.3333333333333333,
             "#9c179e"
            ],
            [
             0.4444444444444444,
             "#bd3786"
            ],
            [
             0.5555555555555556,
             "#d8576b"
            ],
            [
             0.6666666666666666,
             "#ed7953"
            ],
            [
             0.7777777777777778,
             "#fb9f3a"
            ],
            [
             0.8888888888888888,
             "#fdca26"
            ],
            [
             1,
             "#f0f921"
            ]
           ]
          },
          "colorway": [
           "#636efa",
           "#EF553B",
           "#00cc96",
           "#ab63fa",
           "#FFA15A",
           "#19d3f3",
           "#FF6692",
           "#B6E880",
           "#FF97FF",
           "#FECB52"
          ],
          "font": {
           "color": "#2a3f5f"
          },
          "geo": {
           "bgcolor": "white",
           "lakecolor": "white",
           "landcolor": "#E5ECF6",
           "showlakes": true,
           "showland": true,
           "subunitcolor": "white"
          },
          "hoverlabel": {
           "align": "left"
          },
          "hovermode": "closest",
          "mapbox": {
           "style": "light"
          },
          "paper_bgcolor": "white",
          "plot_bgcolor": "#E5ECF6",
          "polar": {
           "angularaxis": {
            "gridcolor": "white",
            "linecolor": "white",
            "ticks": ""
           },
           "bgcolor": "#E5ECF6",
           "radialaxis": {
            "gridcolor": "white",
            "linecolor": "white",
            "ticks": ""
           }
          },
          "scene": {
           "xaxis": {
            "backgroundcolor": "#E5ECF6",
            "gridcolor": "white",
            "gridwidth": 2,
            "linecolor": "white",
            "showbackground": true,
            "ticks": "",
            "zerolinecolor": "white"
           },
           "yaxis": {
            "backgroundcolor": "#E5ECF6",
            "gridcolor": "white",
            "gridwidth": 2,
            "linecolor": "white",
            "showbackground": true,
            "ticks": "",
            "zerolinecolor": "white"
           },
           "zaxis": {
            "backgroundcolor": "#E5ECF6",
            "gridcolor": "white",
            "gridwidth": 2,
            "linecolor": "white",
            "showbackground": true,
            "ticks": "",
            "zerolinecolor": "white"
           }
          },
          "shapedefaults": {
           "line": {
            "color": "#2a3f5f"
           }
          },
          "ternary": {
           "aaxis": {
            "gridcolor": "white",
            "linecolor": "white",
            "ticks": ""
           },
           "baxis": {
            "gridcolor": "white",
            "linecolor": "white",
            "ticks": ""
           },
           "bgcolor": "#E5ECF6",
           "caxis": {
            "gridcolor": "white",
            "linecolor": "white",
            "ticks": ""
           }
          },
          "title": {
           "x": 0.05
          },
          "xaxis": {
           "automargin": true,
           "gridcolor": "white",
           "linecolor": "white",
           "ticks": "",
           "title": {
            "standoff": 15
           },
           "zerolinecolor": "white",
           "zerolinewidth": 2
          },
          "yaxis": {
           "automargin": true,
           "gridcolor": "white",
           "linecolor": "white",
           "ticks": "",
           "title": {
            "standoff": 15
           },
           "zerolinecolor": "white",
           "zerolinewidth": 2
          }
         }
        },
        "title": {
         "text": "Daily deaths"
        },
        "width": 900,
        "xaxis": {
         "title": {
          "text": "Number of days since 3 daily deaths first recorded"
         }
        },
        "yaxis": {
         "title": {
          "text": "Number of daily deaths (7 day rolling average)"
         },
         "type": "linear"
        }
       }
      },
      "text/html": [
       "<div>\n",
       "        \n",
       "        \n",
       "            <div id=\"ebde62e0-345d-4cd6-9e52-92152b64b4a1\" class=\"plotly-graph-div\" style=\"height:500px; width:900px;\"></div>\n",
       "            <script type=\"text/javascript\">\n",
       "                require([\"plotly\"], function(Plotly) {\n",
       "                    window.PLOTLYENV=window.PLOTLYENV || {};\n",
       "                    \n",
       "                if (document.getElementById(\"ebde62e0-345d-4cd6-9e52-92152b64b4a1\")) {\n",
       "                    Plotly.newPlot(\n",
       "                        'ebde62e0-345d-4cd6-9e52-92152b64b4a1',\n",
       "                        [{\"hovertemplate\": \"%{y:.0f}\", \"line\": {\"color\": \"#636EFA\"}, \"mode\": \"lines\", \"name\": \"Andalusia\", \"opacity\": 0.6, \"type\": \"scatter\", \"x\": [0, 1, 2, 3, 4, 5, 6, 7, 8, 9, 10, 11, 12, 13, 14, 15, 16, 17, 18, 19, 20, 21, 22, 23, 24], \"y\": [5.428571428571429, 5.857142857142857, 7.285714285714286, 10.857142857142858, 13.428571428571429, 15.857142857142858, 16.285714285714285, 19.285714285714285, 22.857142857142858, 25.428571428571427, 23.0, 27.857142857142858, 29.857142857142858, 33.142857142857146, 35.857142857142854, 37.57142857142857, 36.42857142857143, 40.0, 42.42857142857143, null, null, null, null, null, null]}, {\"hoverinfo\": \"skip\", \"marker\": {\"color\": \"#636EFA\", \"size\": 5}, \"mode\": \"markers\", \"opacity\": 0.6, \"showlegend\": false, \"type\": \"scatter\", \"x\": [18], \"y\": [42.42857142857143]}, {\"hovertemplate\": \"%{y:.0f}\", \"line\": {\"color\": \"#EF553B\"}, \"mode\": \"lines\", \"name\": \"Aragon\", \"opacity\": 0.6, \"type\": \"scatter\", \"x\": [0, 1, 2, 3, 4, 5, 6, 7, 8, 9, 10, 11, 12, 13, 14, 15, 16, 17, 18, 19, 20, 21, 22, 23, 24], \"y\": [2.4285714285714284, 3.0, 3.5714285714285716, 3.857142857142857, 4.714285714285714, 5.857142857142857, 10.142857142857142, 11.428571428571429, 10.571428571428571, 14.428571428571429, 18.428571428571427, 21.714285714285715, 23.714285714285715, 22.571428571428573, 23.714285714285715, 25.428571428571427, 24.857142857142858, 25.714285714285715, null, null, null, null, null, null, null]}, {\"hoverinfo\": \"skip\", \"marker\": {\"color\": \"#EF553B\", \"size\": 5}, \"mode\": \"markers\", \"opacity\": 0.6, \"showlegend\": false, \"type\": \"scatter\", \"x\": [17], \"y\": [25.714285714285715]}, {\"hovertemplate\": \"%{y:.0f}\", \"line\": {\"color\": \"#00CC96\"}, \"mode\": \"lines\", \"name\": \"Asturias\", \"opacity\": 0.6, \"type\": \"scatter\", \"x\": [0, 1, 2, 3, 4, 5, 6, 7, 8, 9, 10, 11, 12, 13, 14, 15, 16, 17, 18, 19, 20, 21, 22, 23, 24], \"y\": [4.714285714285714, 5.285714285714286, 4.714285714285714, 5.428571428571429, 6.0, 5.857142857142857, 6.142857142857143, 5.571428571428571, 5.285714285714286, 5.857142857142857, 5.571428571428571, null, null, null, null, null, null, null, null, null, null, null, null, null, null]}, {\"hoverinfo\": \"skip\", \"marker\": {\"color\": \"#00CC96\", \"size\": 5}, \"mode\": \"markers\", \"opacity\": 0.6, \"showlegend\": false, \"type\": \"scatter\", \"x\": [10], \"y\": [5.571428571428571]}, {\"hovertemplate\": \"%{y:.0f}\", \"line\": {\"color\": \"#AB63FA\"}, \"mode\": \"lines\", \"name\": \"Balearic Islands\", \"opacity\": 0.6, \"type\": \"scatter\", \"x\": [0, 1, 2, 3, 4, 5, 6, 7, 8, 9, 10, 11, 12, 13, 14, 15, 16, 17, 18, 19, 20, 21, 22, 23, 24], \"y\": [3.5714285714285716, 3.857142857142857, 4.571428571428571, 4.714285714285714, 5.857142857142857, 6.714285714285714, 6.428571428571429, 6.571428571428571, 6.285714285714286, 6.0, 6.142857142857143, null, null, null, null, null, null, null, null, null, null, null, null, null, null]}, {\"hoverinfo\": \"skip\", \"marker\": {\"color\": \"#AB63FA\", \"size\": 5}, \"mode\": \"markers\", \"opacity\": 0.6, \"showlegend\": false, \"type\": \"scatter\", \"x\": [10], \"y\": [6.142857142857143]}, {\"hovertemplate\": \"%{y:.0f}\", \"line\": {\"color\": \"#FFA15A\"}, \"mode\": \"lines\", \"name\": \"Basque Country\", \"opacity\": 0.6, \"type\": \"scatter\", \"x\": [0, 1, 2, 3, 4, 5, 6, 7, 8, 9, 10, 11, 12, 13, 14, 15, 16, 17, 18, 19, 20, 21, 22, 23, 24], \"y\": [3.2857142857142856, 2.4285714285714284, 4.285714285714286, 4.857142857142857, 6.0, 8.142857142857142, 10.142857142857142, 10.571428571428571, 13.857142857142858, 13.857142857142858, 16.428571428571427, 18.142857142857142, 19.428571428571427, 22.285714285714285, 24.0, 25.285714285714285, 27.428571428571427, 30.571428571428573, 33.142857142857146, 33.857142857142854, 33.714285714285715, 35.714285714285715, 35.857142857142854, 37.285714285714285, 38.0]}, {\"hoverinfo\": \"skip\", \"marker\": {\"color\": \"#FFA15A\", \"size\": 5}, \"mode\": \"markers\", \"opacity\": 0.6, \"showlegend\": false, \"type\": \"scatter\", \"x\": [24], \"y\": [38.0]}, {\"hovertemplate\": \"%{y:.0f}\", \"line\": {\"color\": \"#19D3F3\"}, \"mode\": \"lines\", \"name\": \"Canary Islands\", \"opacity\": 0.6, \"type\": \"scatter\", \"x\": [0, 1, 2, 3, 4, 5, 6, 7, 8, 9, 10, 11, 12, 13, 14, 15, 16, 17, 18, 19, 20, 21, 22, 23, 24], \"y\": [4.142857142857143, 5.571428571428571, 5.857142857142857, 6.285714285714286, 6.571428571428571, 6.0, 5.857142857142857, 6.428571428571429, 4.857142857142857, 4.142857142857143, null, null, null, null, null, null, null, null, null, null, null, null, null, null, null]}, {\"hoverinfo\": \"skip\", \"marker\": {\"color\": \"#19D3F3\", \"size\": 5}, \"mode\": \"markers\", \"opacity\": 0.6, \"showlegend\": false, \"type\": \"scatter\", \"x\": [9], \"y\": [4.142857142857143]}, {\"hovertemplate\": \"%{y:.0f}\", \"line\": {\"color\": \"#FF6692\"}, \"mode\": \"lines\", \"name\": \"Cantabria\", \"opacity\": 0.6, \"type\": \"scatter\", \"x\": [0, 1, 2, 3, 4, 5, 6, 7, 8, 9, 10, 11, 12, 13, 14, 15, 16, 17, 18, 19, 20, 21, 22, 23, 24], \"y\": [4.0, 5.714285714285714, 6.142857142857143, 6.142857142857143, 6.571428571428571, 6.0, 7.142857142857143, 6.857142857142857, 5.428571428571429, null, null, null, null, null, null, null, null, null, null, null, null, null, null, null, null]}, {\"hoverinfo\": \"skip\", \"marker\": {\"color\": \"#FF6692\", \"size\": 5}, \"mode\": \"markers\", \"opacity\": 0.6, \"showlegend\": false, \"type\": \"scatter\", \"x\": [8], \"y\": [5.428571428571429]}, {\"hovertemplate\": \"%{y:.0f}\", \"line\": {\"color\": \"#B6E880\"}, \"mode\": \"lines\", \"name\": \"Castille and Leon\", \"opacity\": 0.6, \"type\": \"scatter\", \"x\": [0, 1, 2, 3, 4, 5, 6, 7, 8, 9, 10, 11, 12, 13, 14, 15, 16, 17, 18, 19, 20, 21, 22, 23, 24], \"y\": [13.714285714285714, 16.0, 20.428571428571427, 25.285714285714285, 29.857142857142858, 38.0, 43.714285714285715, 48.57142857142857, 56.0, 60.0, 62.142857142857146, 67.28571428571429, 66.42857142857143, 66.71428571428571, 68.14285714285714, 66.57142857142857, 63.285714285714285, null, null, null, null, null, null, null, null]}, {\"hoverinfo\": \"skip\", \"marker\": {\"color\": \"#B6E880\", \"size\": 5}, \"mode\": \"markers\", \"opacity\": 0.6, \"showlegend\": false, \"type\": \"scatter\", \"x\": [16], \"y\": [63.285714285714285]}, {\"hovertemplate\": \"%{y:.0f}\", \"line\": {\"color\": \"#FF97FF\"}, \"mode\": \"lines\", \"name\": \"Castille-La Mancha\", \"opacity\": 0.6, \"type\": \"scatter\", \"x\": [0, 1, 2, 3, 4, 5, 6, 7, 8, 9, 10, 11, 12, 13, 14, 15, 16, 17, 18, 19, 20, 21, 22, 23, 24], \"y\": [5.857142857142857, 5.285714285714286, 11.142857142857142, 14.571428571428571, 18.285714285714285, 28.428571428571427, 33.57142857142857, 39.142857142857146, 46.42857142857143, 52.0, 61.0, 68.14285714285714, 70.28571428571429, 73.0, 76.85714285714286, 78.42857142857143, 77.28571428571429, 73.71428571428571, 72.85714285714286, 67.0, 68.71428571428571, null, null, null, null]}, {\"hoverinfo\": \"skip\", \"marker\": {\"color\": \"#FF97FF\", \"size\": 5}, \"mode\": \"markers\", \"opacity\": 0.6, \"showlegend\": false, \"type\": \"scatter\", \"x\": [20], \"y\": [68.71428571428571]}, {\"hovertemplate\": \"%{y:.0f}\", \"line\": {\"color\": \"#FECB52\"}, \"mode\": \"lines\", \"name\": \"Catalonia\", \"opacity\": 0.6, \"type\": \"scatter\", \"x\": [0, 1, 2, 3, 4, 5, 6, 7, 8, 9, 10, 11, 12, 13, 14, 15, 16, 17, 18, 19, 20, 21, 22, 23, 24], \"y\": [26.142857142857142, 33.285714285714285, 37.714285714285715, 67.85714285714286, 88.14285714285714, 114.0, 135.42857142857142, 147.85714285714286, 166.42857142857142, 198.57142857142858, 190.42857142857142, 203.0, 207.85714285714286, 205.42857142857142, 201.57142857142858, 192.85714285714286, 176.57142857142858, 170.28571428571428, null, null, null, null, null, null, null]}, {\"hoverinfo\": \"skip\", \"marker\": {\"color\": \"#FECB52\", \"size\": 5}, \"mode\": \"markers\", \"opacity\": 0.6, \"showlegend\": false, \"type\": \"scatter\", \"x\": [17], \"y\": [170.28571428571428]}, {\"hovertemplate\": \"%{y:.0f}\", \"line\": {\"color\": \"#636EFA\"}, \"mode\": \"lines\", \"name\": \"Extremadura\", \"opacity\": 0.6, \"type\": \"scatter\", \"x\": [0, 1, 2, 3, 4, 5, 6, 7, 8, 9, 10, 11, 12, 13, 14, 15, 16, 17, 18, 19, 20, 21, 22, 23, 24], \"y\": [12.285714285714286, 12.571428571428571, 15.285714285714286, 16.142857142857142, 17.571428571428573, 18.714285714285715, 17.142857142857142, 16.857142857142858, 17.428571428571427, 17.857142857142858, 17.0, null, null, null, null, null, null, null, null, null, null, null, null, null, null]}, {\"hoverinfo\": \"skip\", \"marker\": {\"color\": \"#636EFA\", \"size\": 5}, \"mode\": \"markers\", \"opacity\": 0.6, \"showlegend\": false, \"type\": \"scatter\", \"x\": [10], \"y\": [17.0]}, {\"hovertemplate\": \"%{y:.0f}\", \"line\": {\"color\": \"#EF553B\"}, \"mode\": \"lines\", \"name\": \"Galicia\", \"opacity\": 0.6, \"type\": \"scatter\", \"x\": [0, 1, 2, 3, 4, 5, 6, 7, 8, 9, 10, 11, 12, 13, 14, 15, 16, 17, 18, 19, 20, 21, 22, 23, 24], \"y\": [5.428571428571429, 5.428571428571429, 6.857142857142857, 6.857142857142857, 9.142857142857142, 10.857142857142858, 12.571428571428571, 13.571428571428571, 16.0, 16.285714285714285, 17.714285714285715, 17.142857142857142, 15.714285714285714, null, null, null, null, null, null, null, null, null, null, null, null]}, {\"hoverinfo\": \"skip\", \"marker\": {\"color\": \"#EF553B\", \"size\": 5}, \"mode\": \"markers\", \"opacity\": 0.6, \"showlegend\": false, \"type\": \"scatter\", \"x\": [12], \"y\": [15.714285714285714]}, {\"hovertemplate\": \"%{y:.0f}\", \"line\": {\"color\": \"#00CC96\"}, \"mode\": \"lines\", \"name\": \"La Rioja\", \"opacity\": 0.6, \"type\": \"scatter\", \"x\": [0, 1, 2, 3, 4, 5, 6, 7, 8, 9, 10, 11, 12, 13, 14, 15, 16, 17, 18, 19, 20, 21, 22, 23, 24], \"y\": [6.857142857142857, 7.142857142857143, 7.142857142857143, 7.0, 7.857142857142857, 7.571428571428571, 8.285714285714286, 7.714285714285714, 9.0, 9.428571428571429, 10.0, 10.714285714285714, 12.428571428571429, null, null, null, null, null, null, null, null, null, null, null, null]}, {\"hoverinfo\": \"skip\", \"marker\": {\"color\": \"#00CC96\", \"size\": 5}, \"mode\": \"markers\", \"opacity\": 0.6, \"showlegend\": false, \"type\": \"scatter\", \"x\": [12], \"y\": [12.428571428571429]}, {\"hovertemplate\": \"%{y:.0f}\", \"line\": {\"color\": \"#AB63FA\"}, \"mode\": \"lines\", \"name\": \"Madrid\", \"opacity\": 0.6, \"type\": \"scatter\", \"x\": [0, 1, 2, 3, 4, 5, 6, 7, 8, 9, 10, 11, 12, 13, 14, 15, 16, 17, 18, 19, 20, 21, 22, 23, 24], \"y\": [30.428571428571427, 28.142857142857142, 47.714285714285715, 51.285714285714285, 63.142857142857146, 78.14285714285714, 102.57142857142857, 115.42857142857143, 150.0, 168.57142857142858, 205.0, 227.42857142857142, 254.85714285714286, 279.0, 294.42857142857144, 304.14285714285717, 295.42857142857144, 291.42857142857144, 297.85714285714283, 295.85714285714283, 280.85714285714283, 265.57142857142856, 249.14285714285714, 252.57142857142858, 245.85714285714286]}, {\"hoverinfo\": \"skip\", \"marker\": {\"color\": \"#AB63FA\", \"size\": 5}, \"mode\": \"markers\", \"opacity\": 0.6, \"showlegend\": false, \"type\": \"scatter\", \"x\": [24], \"y\": [245.85714285714286]}, {\"hovertemplate\": \"%{y:.0f}\", \"line\": {\"color\": \"#FFA15A\"}, \"mode\": \"lines\", \"name\": \"Murcia\", \"opacity\": 0.6, \"type\": \"scatter\", \"x\": [0, 1, 2, 3, 4, 5, 6, 7, 8, 9, 10, 11, 12, 13, 14, 15, 16, 17, 18, 19, 20, 21, 22, 23, 24], \"y\": [4.857142857142857, 4.428571428571429, 4.857142857142857, 5.571428571428571, 6.142857142857143, 6.285714285714286, 6.857142857142857, null, null, null, null, null, null, null, null, null, null, null, null, null, null, null, null, null, null]}, {\"hoverinfo\": \"skip\", \"marker\": {\"color\": \"#FFA15A\", \"size\": 5}, \"mode\": \"markers\", \"opacity\": 0.6, \"showlegend\": false, \"type\": \"scatter\", \"x\": [6], \"y\": [6.857142857142857]}, {\"hovertemplate\": \"%{y:.0f}\", \"line\": {\"color\": \"#19D3F3\"}, \"mode\": \"lines\", \"name\": \"Navarre\", \"opacity\": 0.6, \"type\": \"scatter\", \"x\": [0, 1, 2, 3, 4, 5, 6, 7, 8, 9, 10, 11, 12, 13, 14, 15, 16, 17, 18, 19, 20, 21, 22, 23, 24], \"y\": [7.571428571428571, 8.714285714285714, 10.0, 11.142857142857142, 11.714285714285714, 13.857142857142858, 13.142857142857142, 13.285714285714286, 14.428571428571429, 13.428571428571429, 12.142857142857142, 12.714285714285714, 10.857142857142858, null, null, null, null, null, null, null, null, null, null, null, null]}, {\"hoverinfo\": \"skip\", \"marker\": {\"color\": \"#19D3F3\", \"size\": 5}, \"mode\": \"markers\", \"opacity\": 0.6, \"showlegend\": false, \"type\": \"scatter\", \"x\": [12], \"y\": [10.857142857142858]}, {\"hovertemplate\": \"%{y:.0f}\", \"line\": {\"color\": \"#FF6692\"}, \"mode\": \"lines\", \"name\": \"Valencia\", \"opacity\": 0.6, \"type\": \"scatter\", \"x\": [0, 1, 2, 3, 4, 5, 6, 7, 8, 9, 10, 11, 12, 13, 14, 15, 16, 17, 18, 19, 20, 21, 22, 23, 24], \"y\": [12.714285714285714, 14.571428571428571, 17.285714285714285, 20.428571428571427, 23.571428571428573, 26.285714285714285, 28.285714285714285, 30.857142857142858, 32.0, 36.0, 39.42857142857143, 44.714285714285715, 48.142857142857146, 49.42857142857143, 46.714285714285715, 47.57142857142857, 47.0, null, null, null, null, null, null, null, null]}, {\"hoverinfo\": \"skip\", \"marker\": {\"color\": \"#FF6692\", \"size\": 5}, \"mode\": \"markers\", \"opacity\": 0.6, \"showlegend\": false, \"type\": \"scatter\", \"x\": [16], \"y\": [47.0]}],\n",
       "                        {\"annotations\": [{\"font\": {\"family\": \"Arial\", \"size\": 12}, \"showarrow\": false, \"text\": \"AN\", \"x\": 18, \"xanchor\": \"left\", \"xref\": \"x\", \"y\": 42.42857142857143, \"yanchor\": \"middle\", \"yref\": \"y\"}, {\"font\": {\"family\": \"Arial\", \"size\": 12}, \"showarrow\": false, \"text\": \"AR\", \"x\": 17, \"xanchor\": \"left\", \"xref\": \"x\", \"y\": 25.714285714285715, \"yanchor\": \"middle\", \"yref\": \"y\"}, {\"font\": {\"family\": \"Arial\", \"size\": 12}, \"showarrow\": false, \"text\": \"AS\", \"x\": 10, \"xanchor\": \"left\", \"xref\": \"x\", \"y\": 5.571428571428571, \"yanchor\": \"middle\", \"yref\": \"y\"}, {\"font\": {\"family\": \"Arial\", \"size\": 12}, \"showarrow\": false, \"text\": \"IB\", \"x\": 10, \"xanchor\": \"left\", \"xref\": \"x\", \"y\": 6.142857142857143, \"yanchor\": \"middle\", \"yref\": \"y\"}, {\"font\": {\"family\": \"Arial\", \"size\": 12}, \"showarrow\": false, \"text\": \"PV\", \"x\": 24, \"xanchor\": \"left\", \"xref\": \"x\", \"y\": 38.0, \"yanchor\": \"middle\", \"yref\": \"y\"}, {\"font\": {\"family\": \"Arial\", \"size\": 12}, \"showarrow\": false, \"text\": \"CN\", \"x\": 9, \"xanchor\": \"left\", \"xref\": \"x\", \"y\": 4.142857142857143, \"yanchor\": \"middle\", \"yref\": \"y\"}, {\"font\": {\"family\": \"Arial\", \"size\": 12}, \"showarrow\": false, \"text\": \"CB\", \"x\": 8, \"xanchor\": \"left\", \"xref\": \"x\", \"y\": 5.428571428571429, \"yanchor\": \"middle\", \"yref\": \"y\"}, {\"font\": {\"family\": \"Arial\", \"size\": 12}, \"showarrow\": false, \"text\": \"CL\", \"x\": 16, \"xanchor\": \"left\", \"xref\": \"x\", \"y\": 63.285714285714285, \"yanchor\": \"middle\", \"yref\": \"y\"}, {\"font\": {\"family\": \"Arial\", \"size\": 12}, \"showarrow\": false, \"text\": \"CM\", \"x\": 20, \"xanchor\": \"left\", \"xref\": \"x\", \"y\": 68.71428571428571, \"yanchor\": \"middle\", \"yref\": \"y\"}, {\"font\": {\"family\": \"Arial\", \"size\": 12}, \"showarrow\": false, \"text\": \"CT\", \"x\": 17, \"xanchor\": \"left\", \"xref\": \"x\", \"y\": 170.28571428571428, \"yanchor\": \"middle\", \"yref\": \"y\"}, {\"font\": {\"family\": \"Arial\", \"size\": 12}, \"showarrow\": false, \"text\": \"EX\", \"x\": 10, \"xanchor\": \"left\", \"xref\": \"x\", \"y\": 17.0, \"yanchor\": \"middle\", \"yref\": \"y\"}, {\"font\": {\"family\": \"Arial\", \"size\": 12}, \"showarrow\": false, \"text\": \"GA\", \"x\": 12, \"xanchor\": \"left\", \"xref\": \"x\", \"y\": 15.714285714285714, \"yanchor\": \"middle\", \"yref\": \"y\"}, {\"font\": {\"family\": \"Arial\", \"size\": 12}, \"showarrow\": false, \"text\": \"RI\", \"x\": 12, \"xanchor\": \"left\", \"xref\": \"x\", \"y\": 12.428571428571429, \"yanchor\": \"middle\", \"yref\": \"y\"}, {\"font\": {\"family\": \"Arial\", \"size\": 12}, \"showarrow\": false, \"text\": \"MD\", \"x\": 24, \"xanchor\": \"left\", \"xref\": \"x\", \"y\": 245.85714285714286, \"yanchor\": \"middle\", \"yref\": \"y\"}, {\"font\": {\"family\": \"Arial\", \"size\": 12}, \"showarrow\": false, \"text\": \"MC\", \"x\": 6, \"xanchor\": \"left\", \"xref\": \"x\", \"y\": 6.857142857142857, \"yanchor\": \"middle\", \"yref\": \"y\"}, {\"font\": {\"family\": \"Arial\", \"size\": 12}, \"showarrow\": false, \"text\": \"NC\", \"x\": 12, \"xanchor\": \"left\", \"xref\": \"x\", \"y\": 10.857142857142858, \"yanchor\": \"middle\", \"yref\": \"y\"}, {\"font\": {\"family\": \"Arial\", \"size\": 12}, \"showarrow\": false, \"text\": \"VC\", \"x\": 16, \"xanchor\": \"left\", \"xref\": \"x\", \"y\": 47.0, \"yanchor\": \"middle\", \"yref\": \"y\"}], \"height\": 500, \"hovermode\": \"x\", \"template\": {\"data\": {\"bar\": [{\"error_x\": {\"color\": \"#2a3f5f\"}, \"error_y\": {\"color\": \"#2a3f5f\"}, \"marker\": {\"line\": {\"color\": \"#E5ECF6\", \"width\": 0.5}}, \"type\": \"bar\"}], \"barpolar\": [{\"marker\": {\"line\": {\"color\": \"#E5ECF6\", \"width\": 0.5}}, \"type\": \"barpolar\"}], \"carpet\": [{\"aaxis\": {\"endlinecolor\": \"#2a3f5f\", \"gridcolor\": \"white\", \"linecolor\": \"white\", \"minorgridcolor\": \"white\", \"startlinecolor\": \"#2a3f5f\"}, \"baxis\": {\"endlinecolor\": \"#2a3f5f\", \"gridcolor\": \"white\", \"linecolor\": \"white\", \"minorgridcolor\": \"white\", \"startlinecolor\": \"#2a3f5f\"}, \"type\": \"carpet\"}], \"choropleth\": [{\"colorbar\": {\"outlinewidth\": 0, \"ticks\": \"\"}, \"type\": \"choropleth\"}], \"contour\": [{\"colorbar\": {\"outlinewidth\": 0, \"ticks\": \"\"}, \"colorscale\": [[0.0, \"#0d0887\"], [0.1111111111111111, \"#46039f\"], [0.2222222222222222, \"#7201a8\"], [0.3333333333333333, \"#9c179e\"], [0.4444444444444444, \"#bd3786\"], [0.5555555555555556, \"#d8576b\"], [0.6666666666666666, \"#ed7953\"], [0.7777777777777778, \"#fb9f3a\"], [0.8888888888888888, \"#fdca26\"], [1.0, \"#f0f921\"]], \"type\": \"contour\"}], \"contourcarpet\": [{\"colorbar\": {\"outlinewidth\": 0, \"ticks\": \"\"}, \"type\": \"contourcarpet\"}], \"heatmap\": [{\"colorbar\": {\"outlinewidth\": 0, \"ticks\": \"\"}, \"colorscale\": [[0.0, \"#0d0887\"], [0.1111111111111111, \"#46039f\"], [0.2222222222222222, \"#7201a8\"], [0.3333333333333333, \"#9c179e\"], [0.4444444444444444, \"#bd3786\"], [0.5555555555555556, \"#d8576b\"], [0.6666666666666666, \"#ed7953\"], [0.7777777777777778, \"#fb9f3a\"], [0.8888888888888888, \"#fdca26\"], [1.0, \"#f0f921\"]], \"type\": \"heatmap\"}], \"heatmapgl\": [{\"colorbar\": {\"outlinewidth\": 0, \"ticks\": \"\"}, \"colorscale\": [[0.0, \"#0d0887\"], [0.1111111111111111, \"#46039f\"], [0.2222222222222222, \"#7201a8\"], [0.3333333333333333, \"#9c179e\"], [0.4444444444444444, \"#bd3786\"], [0.5555555555555556, \"#d8576b\"], [0.6666666666666666, \"#ed7953\"], [0.7777777777777778, \"#fb9f3a\"], [0.8888888888888888, \"#fdca26\"], [1.0, \"#f0f921\"]], \"type\": \"heatmapgl\"}], \"histogram\": [{\"marker\": {\"colorbar\": {\"outlinewidth\": 0, \"ticks\": \"\"}}, \"type\": \"histogram\"}], \"histogram2d\": [{\"colorbar\": {\"outlinewidth\": 0, \"ticks\": \"\"}, \"colorscale\": [[0.0, \"#0d0887\"], [0.1111111111111111, \"#46039f\"], [0.2222222222222222, \"#7201a8\"], [0.3333333333333333, \"#9c179e\"], [0.4444444444444444, \"#bd3786\"], [0.5555555555555556, \"#d8576b\"], [0.6666666666666666, \"#ed7953\"], [0.7777777777777778, \"#fb9f3a\"], [0.8888888888888888, \"#fdca26\"], [1.0, \"#f0f921\"]], \"type\": \"histogram2d\"}], \"histogram2dcontour\": [{\"colorbar\": {\"outlinewidth\": 0, \"ticks\": \"\"}, \"colorscale\": [[0.0, \"#0d0887\"], [0.1111111111111111, \"#46039f\"], [0.2222222222222222, \"#7201a8\"], [0.3333333333333333, \"#9c179e\"], [0.4444444444444444, \"#bd3786\"], [0.5555555555555556, \"#d8576b\"], [0.6666666666666666, \"#ed7953\"], [0.7777777777777778, \"#fb9f3a\"], [0.8888888888888888, \"#fdca26\"], [1.0, \"#f0f921\"]], \"type\": \"histogram2dcontour\"}], \"mesh3d\": [{\"colorbar\": {\"outlinewidth\": 0, \"ticks\": \"\"}, \"type\": \"mesh3d\"}], \"parcoords\": [{\"line\": {\"colorbar\": {\"outlinewidth\": 0, \"ticks\": \"\"}}, \"type\": \"parcoords\"}], \"pie\": [{\"automargin\": true, \"type\": \"pie\"}], \"scatter\": [{\"marker\": {\"colorbar\": {\"outlinewidth\": 0, \"ticks\": \"\"}}, \"type\": \"scatter\"}], \"scatter3d\": [{\"line\": {\"colorbar\": {\"outlinewidth\": 0, \"ticks\": \"\"}}, \"marker\": {\"colorbar\": {\"outlinewidth\": 0, \"ticks\": \"\"}}, \"type\": \"scatter3d\"}], \"scattercarpet\": [{\"marker\": {\"colorbar\": {\"outlinewidth\": 0, \"ticks\": \"\"}}, \"type\": \"scattercarpet\"}], \"scattergeo\": [{\"marker\": {\"colorbar\": {\"outlinewidth\": 0, \"ticks\": \"\"}}, \"type\": \"scattergeo\"}], \"scattergl\": [{\"marker\": {\"colorbar\": {\"outlinewidth\": 0, \"ticks\": \"\"}}, \"type\": \"scattergl\"}], \"scattermapbox\": [{\"marker\": {\"colorbar\": {\"outlinewidth\": 0, \"ticks\": \"\"}}, \"type\": \"scattermapbox\"}], \"scatterpolar\": [{\"marker\": {\"colorbar\": {\"outlinewidth\": 0, \"ticks\": \"\"}}, \"type\": \"scatterpolar\"}], \"scatterpolargl\": [{\"marker\": {\"colorbar\": {\"outlinewidth\": 0, \"ticks\": \"\"}}, \"type\": \"scatterpolargl\"}], \"scatterternary\": [{\"marker\": {\"colorbar\": {\"outlinewidth\": 0, \"ticks\": \"\"}}, \"type\": \"scatterternary\"}], \"surface\": [{\"colorbar\": {\"outlinewidth\": 0, \"ticks\": \"\"}, \"colorscale\": [[0.0, \"#0d0887\"], [0.1111111111111111, \"#46039f\"], [0.2222222222222222, \"#7201a8\"], [0.3333333333333333, \"#9c179e\"], [0.4444444444444444, \"#bd3786\"], [0.5555555555555556, \"#d8576b\"], [0.6666666666666666, \"#ed7953\"], [0.7777777777777778, \"#fb9f3a\"], [0.8888888888888888, \"#fdca26\"], [1.0, \"#f0f921\"]], \"type\": \"surface\"}], \"table\": [{\"cells\": {\"fill\": {\"color\": \"#EBF0F8\"}, \"line\": {\"color\": \"white\"}}, \"header\": {\"fill\": {\"color\": \"#C8D4E3\"}, \"line\": {\"color\": \"white\"}}, \"type\": \"table\"}]}, \"layout\": {\"annotationdefaults\": {\"arrowcolor\": \"#2a3f5f\", \"arrowhead\": 0, \"arrowwidth\": 1}, \"coloraxis\": {\"colorbar\": {\"outlinewidth\": 0, \"ticks\": \"\"}}, \"colorscale\": {\"diverging\": [[0, \"#8e0152\"], [0.1, \"#c51b7d\"], [0.2, \"#de77ae\"], [0.3, \"#f1b6da\"], [0.4, \"#fde0ef\"], [0.5, \"#f7f7f7\"], [0.6, \"#e6f5d0\"], [0.7, \"#b8e186\"], [0.8, \"#7fbc41\"], [0.9, \"#4d9221\"], [1, \"#276419\"]], \"sequential\": [[0.0, \"#0d0887\"], [0.1111111111111111, \"#46039f\"], [0.2222222222222222, \"#7201a8\"], [0.3333333333333333, \"#9c179e\"], [0.4444444444444444, \"#bd3786\"], [0.5555555555555556, \"#d8576b\"], [0.6666666666666666, \"#ed7953\"], [0.7777777777777778, \"#fb9f3a\"], [0.8888888888888888, \"#fdca26\"], [1.0, \"#f0f921\"]], \"sequentialminus\": [[0.0, \"#0d0887\"], [0.1111111111111111, \"#46039f\"], [0.2222222222222222, \"#7201a8\"], [0.3333333333333333, \"#9c179e\"], [0.4444444444444444, \"#bd3786\"], [0.5555555555555556, \"#d8576b\"], [0.6666666666666666, \"#ed7953\"], [0.7777777777777778, \"#fb9f3a\"], [0.8888888888888888, \"#fdca26\"], [1.0, \"#f0f921\"]]}, \"colorway\": [\"#636efa\", \"#EF553B\", \"#00cc96\", \"#ab63fa\", \"#FFA15A\", \"#19d3f3\", \"#FF6692\", \"#B6E880\", \"#FF97FF\", \"#FECB52\"], \"font\": {\"color\": \"#2a3f5f\"}, \"geo\": {\"bgcolor\": \"white\", \"lakecolor\": \"white\", \"landcolor\": \"#E5ECF6\", \"showlakes\": true, \"showland\": true, \"subunitcolor\": \"white\"}, \"hoverlabel\": {\"align\": \"left\"}, \"hovermode\": \"closest\", \"mapbox\": {\"style\": \"light\"}, \"paper_bgcolor\": \"white\", \"plot_bgcolor\": \"#E5ECF6\", \"polar\": {\"angularaxis\": {\"gridcolor\": \"white\", \"linecolor\": \"white\", \"ticks\": \"\"}, \"bgcolor\": \"#E5ECF6\", \"radialaxis\": {\"gridcolor\": \"white\", \"linecolor\": \"white\", \"ticks\": \"\"}}, \"scene\": {\"xaxis\": {\"backgroundcolor\": \"#E5ECF6\", \"gridcolor\": \"white\", \"gridwidth\": 2, \"linecolor\": \"white\", \"showbackground\": true, \"ticks\": \"\", \"zerolinecolor\": \"white\"}, \"yaxis\": {\"backgroundcolor\": \"#E5ECF6\", \"gridcolor\": \"white\", \"gridwidth\": 2, \"linecolor\": \"white\", \"showbackground\": true, \"ticks\": \"\", \"zerolinecolor\": \"white\"}, \"zaxis\": {\"backgroundcolor\": \"#E5ECF6\", \"gridcolor\": \"white\", \"gridwidth\": 2, \"linecolor\": \"white\", \"showbackground\": true, \"ticks\": \"\", \"zerolinecolor\": \"white\"}}, \"shapedefaults\": {\"line\": {\"color\": \"#2a3f5f\"}}, \"ternary\": {\"aaxis\": {\"gridcolor\": \"white\", \"linecolor\": \"white\", \"ticks\": \"\"}, \"baxis\": {\"gridcolor\": \"white\", \"linecolor\": \"white\", \"ticks\": \"\"}, \"bgcolor\": \"#E5ECF6\", \"caxis\": {\"gridcolor\": \"white\", \"linecolor\": \"white\", \"ticks\": \"\"}}, \"title\": {\"x\": 0.05}, \"xaxis\": {\"automargin\": true, \"gridcolor\": \"white\", \"linecolor\": \"white\", \"ticks\": \"\", \"title\": {\"standoff\": 15}, \"zerolinecolor\": \"white\", \"zerolinewidth\": 2}, \"yaxis\": {\"automargin\": true, \"gridcolor\": \"white\", \"linecolor\": \"white\", \"ticks\": \"\", \"title\": {\"standoff\": 15}, \"zerolinecolor\": \"white\", \"zerolinewidth\": 2}}}, \"title\": {\"text\": \"Daily deaths\"}, \"width\": 900, \"xaxis\": {\"title\": {\"text\": \"Number of days since 3 daily deaths first recorded\"}}, \"yaxis\": {\"title\": {\"text\": \"Number of daily deaths (7 day rolling average)\"}, \"type\": \"linear\"}},\n",
       "                        {\"responsive\": true}\n",
       "                    ).then(function(){\n",
       "                            \n",
       "var gd = document.getElementById('ebde62e0-345d-4cd6-9e52-92152b64b4a1');\n",
       "var x = new MutationObserver(function (mutations, observer) {{\n",
       "        var display = window.getComputedStyle(gd).display;\n",
       "        if (!display || display === 'none') {{\n",
       "            console.log([gd, 'removed!']);\n",
       "            Plotly.purge(gd);\n",
       "            observer.disconnect();\n",
       "        }}\n",
       "}});\n",
       "\n",
       "// Listen for the removal of the full notebook cells\n",
       "var notebookContainer = gd.closest('#notebook-container');\n",
       "if (notebookContainer) {{\n",
       "    x.observe(notebookContainer, {childList: true});\n",
       "}}\n",
       "\n",
       "// Listen for the clearing of the current output cell\n",
       "var outputEl = gd.closest('.output');\n",
       "if (outputEl) {{\n",
       "    x.observe(outputEl, {childList: true});\n",
       "}}\n",
       "\n",
       "                        })\n",
       "                };\n",
       "                });\n",
       "            </script>\n",
       "        </div>"
      ]
     },
     "metadata": {},
     "output_type": "display_data"
    }
   ],
   "source": [
    "###########################################################################\n",
    "#### Daily Deaths\n",
    "\n",
    "data = dfs_norm_3death_roll\n",
    "title = 'Daily deaths'\n",
    "x_title = 'Number of days since 3 daily deaths first recorded'\n",
    "y_title = 'Number of daily deaths (7 day rolling average)'\n",
    "yaxis_scale_value = 'linear'\n",
    "\n",
    "fig = go.Figure()\n",
    "\n",
    "plot_data = []\n",
    "annotations = []\n",
    "for i, column in enumerate(data.columns):\n",
    "    plot_data.append(\n",
    "        go.Scatter(x=list(data.index.values),\n",
    "                   y=data[column],\n",
    "                   hovertemplate = '%{y:.0f}',\n",
    "                   mode='lines',\n",
    "                   line = {'color': coloursp[i]},\n",
    "                   opacity=0.6,\n",
    "                   name=column) )\n",
    "\n",
    "    plot_data.append(\n",
    "        go.Scatter(x = [data[column].dropna().index[-1]],\n",
    "                   y = [list(data[column].dropna())[-1]],\n",
    "                   mode='markers',\n",
    "                   marker = {'color': coloursp[i],\n",
    "                             'size' : 5},\n",
    "                   showlegend=False,\n",
    "                   opacity=0.6,\n",
    "                   hoverinfo='skip',) )\n",
    "\n",
    "    annotations.append(dict(xref='x',yref='y',\n",
    "                            x=data[column].dropna().index[-1],\n",
    "                            y=list(data[column].dropna())[-1],\n",
    "                            xanchor='left', yanchor='middle',\n",
    "                            text=df_loc.set_index('region_name').region.loc[column],\n",
    "                            font={'family':'Arial','size':12},\n",
    "                            showarrow=False))\n",
    "    \n",
    "for i in range(0,plot_data.__len__()):\n",
    "    fig.add_trace(plot_data[i])\n",
    "    \n",
    "if yaxis_scale_value == 'log':\n",
    "    for i in annotations:\n",
    "        i['y'] = np.log10(i['y'])\n",
    "elif yaxis_scale_value == 'linear':\n",
    "    annotations = annotations\n",
    "\n",
    "fig.update_layout(  title = title,\n",
    "                    width = 900,\n",
    "                    height = 500,\n",
    "                    xaxis={'title': x_title,},\n",
    "                    yaxis={'title': y_title,\n",
    "                           'type': 'log' if yaxis_scale_value == 'log' else 'linear'},\n",
    "                    hovermode='x',\n",
    "                    annotations = annotations\n",
    "                 )\n",
    "    \n",
    "fig.show()"
   ]
  },
  {
   "cell_type": "code",
   "execution_count": 143,
   "metadata": {},
   "outputs": [],
   "source": [
    "###############################################################################\n",
    "### Geo-plot\n",
    "\n",
    "df_geos = pd.merge(dfs, df_loc.drop('region_name',axis=1), how='inner', on='region').fillna(0)\n",
    "datas = df_geos[df_geos.date == df_geos.date.unique()[-1]]"
   ]
  },
  {
   "cell_type": "code",
   "execution_count": 145,
   "metadata": {},
   "outputs": [
    {
     "data": {
      "application/vnd.plotly.v1+json": {
       "config": {
        "plotlyServerURL": "https://plot.ly"
       },
       "data": [
        {
         "lat": [
          37.6,
          41,
          43.3333333,
          43.3333333,
          41.6666667,
          39.5,
          41.8204551,
          39,
          42.7550796,
          39.2226789,
          38,
          40.4252581,
          42.75,
          43,
          42.25,
          39.5
         ],
         "lon": [
          -4.5,
          -1,
          -6,
          -4,
          -4.25,
          -3,
          1.8676758,
          -6,
          -7.8662109,
          2.4334717,
          -1.5,
          -3.6906338,
          -1.6666667,
          -2.75,
          -2.5,
          -0.75
         ],
         "marker": {
          "color": [
           "#636EFA",
           "#EF553B",
           "#00CC96",
           "#AB63FA",
           "#FFA15A",
           "#19D3F3",
           "#FF6692",
           "#B6E880",
           "#FF97FF",
           "#FECB52",
           "#636EFA",
           "#EF553B",
           "#00CC96",
           "#AB63FA",
           "#FFA15A",
           "#19D3F3",
           "#FF6692",
           "#B6E880",
           "#FF97FF"
          ],
          "line": {
           "width": 0.5
          },
          "size": [
           224.925,
           88.725,
           42.625,
           39.3,
           251.45,
           294.7,
           741.175,
           54.6,
           163.45,
           35.3,
           33.15,
           1061.25,
           86.675,
           236.3,
           73.775,
           191.375
          ],
          "sizemode": "area"
         },
         "mode": "markers",
         "text": [
          "Andalusia: 8997.0",
          "Aragon: 3549.0",
          "Asturias: 1705.0",
          "Cantabria: 1572.0",
          "Castille and Leon: 10058.0",
          "Castille-La Mancha: 11788.0",
          "Catalonia: 29647.0",
          "Extremadura: 2184.0",
          "Galicia: 6538.0",
          "Balearic Islands: 1412.0",
          "Murcia: 1326.0",
          "Madrid: 42450.0",
          "Navarre: 3467.0",
          "Basque Country: 9452.0",
          "La Rioja: 2951.0",
          "Valencia: 7655.0"
         ],
         "type": "scattergeo"
        },
        {
         "lat": [
          37.6,
          41,
          43.3333333,
          43.3333333,
          41.6666667,
          39.5,
          41.8204551,
          39,
          42.7550796,
          39.2226789,
          38,
          40.4252581,
          42.75,
          43,
          42.25,
          39.5
         ],
         "lon": [
          -4.5,
          -1,
          -6,
          -4,
          -4.25,
          -3,
          1.8676758,
          -6,
          -7.8662109,
          2.4334717,
          -1.5,
          -3.6906338,
          -1.6666667,
          -2.75,
          -2.5,
          -0.75
         ],
         "marker": {
          "color": [
           "#636EFA",
           "#EF553B",
           "#00CC96",
           "#AB63FA",
           "#FFA15A",
           "#19D3F3",
           "#FF6692",
           "#B6E880",
           "#FF97FF",
           "#FECB52",
           "#636EFA",
           "#EF553B",
           "#00CC96",
           "#AB63FA",
           "#FFA15A",
           "#19D3F3",
           "#FF6692",
           "#B6E880",
           "#FF97FF"
          ],
          "line": {
           "width": 0
          },
          "size": 0,
          "sizemode": "area"
         },
         "mode": "text",
         "text": [
          "AN",
          "AR",
          "AS",
          "CB",
          "CL",
          "CM",
          "CT",
          "EX",
          "GA",
          "IB",
          "MC",
          "MD",
          "NC",
          "PV",
          "RI",
          "VC"
         ],
         "type": "scattergeo"
        }
       ],
       "layout": {
        "geo": {
         "fitbounds": "locations"
        },
        "height": 500,
        "showlegend": false,
        "template": {
         "data": {
          "bar": [
           {
            "error_x": {
             "color": "#2a3f5f"
            },
            "error_y": {
             "color": "#2a3f5f"
            },
            "marker": {
             "line": {
              "color": "#E5ECF6",
              "width": 0.5
             }
            },
            "type": "bar"
           }
          ],
          "barpolar": [
           {
            "marker": {
             "line": {
              "color": "#E5ECF6",
              "width": 0.5
             }
            },
            "type": "barpolar"
           }
          ],
          "carpet": [
           {
            "aaxis": {
             "endlinecolor": "#2a3f5f",
             "gridcolor": "white",
             "linecolor": "white",
             "minorgridcolor": "white",
             "startlinecolor": "#2a3f5f"
            },
            "baxis": {
             "endlinecolor": "#2a3f5f",
             "gridcolor": "white",
             "linecolor": "white",
             "minorgridcolor": "white",
             "startlinecolor": "#2a3f5f"
            },
            "type": "carpet"
           }
          ],
          "choropleth": [
           {
            "colorbar": {
             "outlinewidth": 0,
             "ticks": ""
            },
            "type": "choropleth"
           }
          ],
          "contour": [
           {
            "colorbar": {
             "outlinewidth": 0,
             "ticks": ""
            },
            "colorscale": [
             [
              0,
              "#0d0887"
             ],
             [
              0.1111111111111111,
              "#46039f"
             ],
             [
              0.2222222222222222,
              "#7201a8"
             ],
             [
              0.3333333333333333,
              "#9c179e"
             ],
             [
              0.4444444444444444,
              "#bd3786"
             ],
             [
              0.5555555555555556,
              "#d8576b"
             ],
             [
              0.6666666666666666,
              "#ed7953"
             ],
             [
              0.7777777777777778,
              "#fb9f3a"
             ],
             [
              0.8888888888888888,
              "#fdca26"
             ],
             [
              1,
              "#f0f921"
             ]
            ],
            "type": "contour"
           }
          ],
          "contourcarpet": [
           {
            "colorbar": {
             "outlinewidth": 0,
             "ticks": ""
            },
            "type": "contourcarpet"
           }
          ],
          "heatmap": [
           {
            "colorbar": {
             "outlinewidth": 0,
             "ticks": ""
            },
            "colorscale": [
             [
              0,
              "#0d0887"
             ],
             [
              0.1111111111111111,
              "#46039f"
             ],
             [
              0.2222222222222222,
              "#7201a8"
             ],
             [
              0.3333333333333333,
              "#9c179e"
             ],
             [
              0.4444444444444444,
              "#bd3786"
             ],
             [
              0.5555555555555556,
              "#d8576b"
             ],
             [
              0.6666666666666666,
              "#ed7953"
             ],
             [
              0.7777777777777778,
              "#fb9f3a"
             ],
             [
              0.8888888888888888,
              "#fdca26"
             ],
             [
              1,
              "#f0f921"
             ]
            ],
            "type": "heatmap"
           }
          ],
          "heatmapgl": [
           {
            "colorbar": {
             "outlinewidth": 0,
             "ticks": ""
            },
            "colorscale": [
             [
              0,
              "#0d0887"
             ],
             [
              0.1111111111111111,
              "#46039f"
             ],
             [
              0.2222222222222222,
              "#7201a8"
             ],
             [
              0.3333333333333333,
              "#9c179e"
             ],
             [
              0.4444444444444444,
              "#bd3786"
             ],
             [
              0.5555555555555556,
              "#d8576b"
             ],
             [
              0.6666666666666666,
              "#ed7953"
             ],
             [
              0.7777777777777778,
              "#fb9f3a"
             ],
             [
              0.8888888888888888,
              "#fdca26"
             ],
             [
              1,
              "#f0f921"
             ]
            ],
            "type": "heatmapgl"
           }
          ],
          "histogram": [
           {
            "marker": {
             "colorbar": {
              "outlinewidth": 0,
              "ticks": ""
             }
            },
            "type": "histogram"
           }
          ],
          "histogram2d": [
           {
            "colorbar": {
             "outlinewidth": 0,
             "ticks": ""
            },
            "colorscale": [
             [
              0,
              "#0d0887"
             ],
             [
              0.1111111111111111,
              "#46039f"
             ],
             [
              0.2222222222222222,
              "#7201a8"
             ],
             [
              0.3333333333333333,
              "#9c179e"
             ],
             [
              0.4444444444444444,
              "#bd3786"
             ],
             [
              0.5555555555555556,
              "#d8576b"
             ],
             [
              0.6666666666666666,
              "#ed7953"
             ],
             [
              0.7777777777777778,
              "#fb9f3a"
             ],
             [
              0.8888888888888888,
              "#fdca26"
             ],
             [
              1,
              "#f0f921"
             ]
            ],
            "type": "histogram2d"
           }
          ],
          "histogram2dcontour": [
           {
            "colorbar": {
             "outlinewidth": 0,
             "ticks": ""
            },
            "colorscale": [
             [
              0,
              "#0d0887"
             ],
             [
              0.1111111111111111,
              "#46039f"
             ],
             [
              0.2222222222222222,
              "#7201a8"
             ],
             [
              0.3333333333333333,
              "#9c179e"
             ],
             [
              0.4444444444444444,
              "#bd3786"
             ],
             [
              0.5555555555555556,
              "#d8576b"
             ],
             [
              0.6666666666666666,
              "#ed7953"
             ],
             [
              0.7777777777777778,
              "#fb9f3a"
             ],
             [
              0.8888888888888888,
              "#fdca26"
             ],
             [
              1,
              "#f0f921"
             ]
            ],
            "type": "histogram2dcontour"
           }
          ],
          "mesh3d": [
           {
            "colorbar": {
             "outlinewidth": 0,
             "ticks": ""
            },
            "type": "mesh3d"
           }
          ],
          "parcoords": [
           {
            "line": {
             "colorbar": {
              "outlinewidth": 0,
              "ticks": ""
             }
            },
            "type": "parcoords"
           }
          ],
          "pie": [
           {
            "automargin": true,
            "type": "pie"
           }
          ],
          "scatter": [
           {
            "marker": {
             "colorbar": {
              "outlinewidth": 0,
              "ticks": ""
             }
            },
            "type": "scatter"
           }
          ],
          "scatter3d": [
           {
            "line": {
             "colorbar": {
              "outlinewidth": 0,
              "ticks": ""
             }
            },
            "marker": {
             "colorbar": {
              "outlinewidth": 0,
              "ticks": ""
             }
            },
            "type": "scatter3d"
           }
          ],
          "scattercarpet": [
           {
            "marker": {
             "colorbar": {
              "outlinewidth": 0,
              "ticks": ""
             }
            },
            "type": "scattercarpet"
           }
          ],
          "scattergeo": [
           {
            "marker": {
             "colorbar": {
              "outlinewidth": 0,
              "ticks": ""
             }
            },
            "type": "scattergeo"
           }
          ],
          "scattergl": [
           {
            "marker": {
             "colorbar": {
              "outlinewidth": 0,
              "ticks": ""
             }
            },
            "type": "scattergl"
           }
          ],
          "scattermapbox": [
           {
            "marker": {
             "colorbar": {
              "outlinewidth": 0,
              "ticks": ""
             }
            },
            "type": "scattermapbox"
           }
          ],
          "scatterpolar": [
           {
            "marker": {
             "colorbar": {
              "outlinewidth": 0,
              "ticks": ""
             }
            },
            "type": "scatterpolar"
           }
          ],
          "scatterpolargl": [
           {
            "marker": {
             "colorbar": {
              "outlinewidth": 0,
              "ticks": ""
             }
            },
            "type": "scatterpolargl"
           }
          ],
          "scatterternary": [
           {
            "marker": {
             "colorbar": {
              "outlinewidth": 0,
              "ticks": ""
             }
            },
            "type": "scatterternary"
           }
          ],
          "surface": [
           {
            "colorbar": {
             "outlinewidth": 0,
             "ticks": ""
            },
            "colorscale": [
             [
              0,
              "#0d0887"
             ],
             [
              0.1111111111111111,
              "#46039f"
             ],
             [
              0.2222222222222222,
              "#7201a8"
             ],
             [
              0.3333333333333333,
              "#9c179e"
             ],
             [
              0.4444444444444444,
              "#bd3786"
             ],
             [
              0.5555555555555556,
              "#d8576b"
             ],
             [
              0.6666666666666666,
              "#ed7953"
             ],
             [
              0.7777777777777778,
              "#fb9f3a"
             ],
             [
              0.8888888888888888,
              "#fdca26"
             ],
             [
              1,
              "#f0f921"
             ]
            ],
            "type": "surface"
           }
          ],
          "table": [
           {
            "cells": {
             "fill": {
              "color": "#EBF0F8"
             },
             "line": {
              "color": "white"
             }
            },
            "header": {
             "fill": {
              "color": "#C8D4E3"
             },
             "line": {
              "color": "white"
             }
            },
            "type": "table"
           }
          ]
         },
         "layout": {
          "annotationdefaults": {
           "arrowcolor": "#2a3f5f",
           "arrowhead": 0,
           "arrowwidth": 1
          },
          "coloraxis": {
           "colorbar": {
            "outlinewidth": 0,
            "ticks": ""
           }
          },
          "colorscale": {
           "diverging": [
            [
             0,
             "#8e0152"
            ],
            [
             0.1,
             "#c51b7d"
            ],
            [
             0.2,
             "#de77ae"
            ],
            [
             0.3,
             "#f1b6da"
            ],
            [
             0.4,
             "#fde0ef"
            ],
            [
             0.5,
             "#f7f7f7"
            ],
            [
             0.6,
             "#e6f5d0"
            ],
            [
             0.7,
             "#b8e186"
            ],
            [
             0.8,
             "#7fbc41"
            ],
            [
             0.9,
             "#4d9221"
            ],
            [
             1,
             "#276419"
            ]
           ],
           "sequential": [
            [
             0,
             "#0d0887"
            ],
            [
             0.1111111111111111,
             "#46039f"
            ],
            [
             0.2222222222222222,
             "#7201a8"
            ],
            [
             0.3333333333333333,
             "#9c179e"
            ],
            [
             0.4444444444444444,
             "#bd3786"
            ],
            [
             0.5555555555555556,
             "#d8576b"
            ],
            [
             0.6666666666666666,
             "#ed7953"
            ],
            [
             0.7777777777777778,
             "#fb9f3a"
            ],
            [
             0.8888888888888888,
             "#fdca26"
            ],
            [
             1,
             "#f0f921"
            ]
           ],
           "sequentialminus": [
            [
             0,
             "#0d0887"
            ],
            [
             0.1111111111111111,
             "#46039f"
            ],
            [
             0.2222222222222222,
             "#7201a8"
            ],
            [
             0.3333333333333333,
             "#9c179e"
            ],
            [
             0.4444444444444444,
             "#bd3786"
            ],
            [
             0.5555555555555556,
             "#d8576b"
            ],
            [
             0.6666666666666666,
             "#ed7953"
            ],
            [
             0.7777777777777778,
             "#fb9f3a"
            ],
            [
             0.8888888888888888,
             "#fdca26"
            ],
            [
             1,
             "#f0f921"
            ]
           ]
          },
          "colorway": [
           "#636efa",
           "#EF553B",
           "#00cc96",
           "#ab63fa",
           "#FFA15A",
           "#19d3f3",
           "#FF6692",
           "#B6E880",
           "#FF97FF",
           "#FECB52"
          ],
          "font": {
           "color": "#2a3f5f"
          },
          "geo": {
           "bgcolor": "white",
           "lakecolor": "white",
           "landcolor": "#E5ECF6",
           "showlakes": true,
           "showland": true,
           "subunitcolor": "white"
          },
          "hoverlabel": {
           "align": "left"
          },
          "hovermode": "closest",
          "mapbox": {
           "style": "light"
          },
          "paper_bgcolor": "white",
          "plot_bgcolor": "#E5ECF6",
          "polar": {
           "angularaxis": {
            "gridcolor": "white",
            "linecolor": "white",
            "ticks": ""
           },
           "bgcolor": "#E5ECF6",
           "radialaxis": {
            "gridcolor": "white",
            "linecolor": "white",
            "ticks": ""
           }
          },
          "scene": {
           "xaxis": {
            "backgroundcolor": "#E5ECF6",
            "gridcolor": "white",
            "gridwidth": 2,
            "linecolor": "white",
            "showbackground": true,
            "ticks": "",
            "zerolinecolor": "white"
           },
           "yaxis": {
            "backgroundcolor": "#E5ECF6",
            "gridcolor": "white",
            "gridwidth": 2,
            "linecolor": "white",
            "showbackground": true,
            "ticks": "",
            "zerolinecolor": "white"
           },
           "zaxis": {
            "backgroundcolor": "#E5ECF6",
            "gridcolor": "white",
            "gridwidth": 2,
            "linecolor": "white",
            "showbackground": true,
            "ticks": "",
            "zerolinecolor": "white"
           }
          },
          "shapedefaults": {
           "line": {
            "color": "#2a3f5f"
           }
          },
          "ternary": {
           "aaxis": {
            "gridcolor": "white",
            "linecolor": "white",
            "ticks": ""
           },
           "baxis": {
            "gridcolor": "white",
            "linecolor": "white",
            "ticks": ""
           },
           "bgcolor": "#E5ECF6",
           "caxis": {
            "gridcolor": "white",
            "linecolor": "white",
            "ticks": ""
           }
          },
          "title": {
           "x": 0.05
          },
          "xaxis": {
           "automargin": true,
           "gridcolor": "white",
           "linecolor": "white",
           "ticks": "",
           "title": {
            "standoff": 15
           },
           "zerolinecolor": "white",
           "zerolinewidth": 2
          },
          "yaxis": {
           "automargin": true,
           "gridcolor": "white",
           "linecolor": "white",
           "ticks": "",
           "title": {
            "standoff": 15
           },
           "zerolinecolor": "white",
           "zerolinewidth": 2
          }
         }
        },
        "title": {
         "text": "Confirmed cases in Spain by region"
        },
        "width": 900
       }
      },
      "text/html": [
       "<div>\n",
       "        \n",
       "        \n",
       "            <div id=\"4c6303a6-9eac-4ea3-b5ac-d740ac2b1fe3\" class=\"plotly-graph-div\" style=\"height:500px; width:900px;\"></div>\n",
       "            <script type=\"text/javascript\">\n",
       "                require([\"plotly\"], function(Plotly) {\n",
       "                    window.PLOTLYENV=window.PLOTLYENV || {};\n",
       "                    \n",
       "                if (document.getElementById(\"4c6303a6-9eac-4ea3-b5ac-d740ac2b1fe3\")) {\n",
       "                    Plotly.newPlot(\n",
       "                        '4c6303a6-9eac-4ea3-b5ac-d740ac2b1fe3',\n",
       "                        [{\"lat\": [37.6, 41.0, 43.3333333, 43.3333333, 41.6666667, 39.5, 41.8204551, 39.0, 42.7550796, 39.2226789, 38.0, 40.4252581, 42.75, 43.0, 42.25, 39.5], \"lon\": [-4.5, -1.0, -6.0, -4.0, -4.25, -3.0, 1.8676758, -6.0, -7.8662109, 2.4334717, -1.5, -3.6906338, -1.6666667, -2.75, -2.5, -0.75], \"marker\": {\"color\": [\"#636EFA\", \"#EF553B\", \"#00CC96\", \"#AB63FA\", \"#FFA15A\", \"#19D3F3\", \"#FF6692\", \"#B6E880\", \"#FF97FF\", \"#FECB52\", \"#636EFA\", \"#EF553B\", \"#00CC96\", \"#AB63FA\", \"#FFA15A\", \"#19D3F3\", \"#FF6692\", \"#B6E880\", \"#FF97FF\"], \"line\": {\"width\": 0.5}, \"size\": [224.925, 88.725, 42.625, 39.3, 251.45, 294.7, 741.175, 54.6, 163.45, 35.3, 33.15, 1061.25, 86.675, 236.3, 73.775, 191.375], \"sizemode\": \"area\"}, \"mode\": \"markers\", \"text\": [\"Andalusia: 8997.0\", \"Aragon: 3549.0\", \"Asturias: 1705.0\", \"Cantabria: 1572.0\", \"Castille and Leon: 10058.0\", \"Castille-La Mancha: 11788.0\", \"Catalonia: 29647.0\", \"Extremadura: 2184.0\", \"Galicia: 6538.0\", \"Balearic Islands: 1412.0\", \"Murcia: 1326.0\", \"Madrid: 42450.0\", \"Navarre: 3467.0\", \"Basque Country: 9452.0\", \"La Rioja: 2951.0\", \"Valencia: 7655.0\"], \"type\": \"scattergeo\"}, {\"lat\": [37.6, 41.0, 43.3333333, 43.3333333, 41.6666667, 39.5, 41.8204551, 39.0, 42.7550796, 39.2226789, 38.0, 40.4252581, 42.75, 43.0, 42.25, 39.5], \"lon\": [-4.5, -1.0, -6.0, -4.0, -4.25, -3.0, 1.8676758, -6.0, -7.8662109, 2.4334717, -1.5, -3.6906338, -1.6666667, -2.75, -2.5, -0.75], \"marker\": {\"color\": [\"#636EFA\", \"#EF553B\", \"#00CC96\", \"#AB63FA\", \"#FFA15A\", \"#19D3F3\", \"#FF6692\", \"#B6E880\", \"#FF97FF\", \"#FECB52\", \"#636EFA\", \"#EF553B\", \"#00CC96\", \"#AB63FA\", \"#FFA15A\", \"#19D3F3\", \"#FF6692\", \"#B6E880\", \"#FF97FF\"], \"line\": {\"width\": 0.0}, \"size\": 0, \"sizemode\": \"area\"}, \"mode\": \"text\", \"text\": [\"AN\", \"AR\", \"AS\", \"CB\", \"CL\", \"CM\", \"CT\", \"EX\", \"GA\", \"IB\", \"MC\", \"MD\", \"NC\", \"PV\", \"RI\", \"VC\"], \"type\": \"scattergeo\"}],\n",
       "                        {\"geo\": {\"fitbounds\": \"locations\"}, \"height\": 500, \"showlegend\": false, \"template\": {\"data\": {\"bar\": [{\"error_x\": {\"color\": \"#2a3f5f\"}, \"error_y\": {\"color\": \"#2a3f5f\"}, \"marker\": {\"line\": {\"color\": \"#E5ECF6\", \"width\": 0.5}}, \"type\": \"bar\"}], \"barpolar\": [{\"marker\": {\"line\": {\"color\": \"#E5ECF6\", \"width\": 0.5}}, \"type\": \"barpolar\"}], \"carpet\": [{\"aaxis\": {\"endlinecolor\": \"#2a3f5f\", \"gridcolor\": \"white\", \"linecolor\": \"white\", \"minorgridcolor\": \"white\", \"startlinecolor\": \"#2a3f5f\"}, \"baxis\": {\"endlinecolor\": \"#2a3f5f\", \"gridcolor\": \"white\", \"linecolor\": \"white\", \"minorgridcolor\": \"white\", \"startlinecolor\": \"#2a3f5f\"}, \"type\": \"carpet\"}], \"choropleth\": [{\"colorbar\": {\"outlinewidth\": 0, \"ticks\": \"\"}, \"type\": \"choropleth\"}], \"contour\": [{\"colorbar\": {\"outlinewidth\": 0, \"ticks\": \"\"}, \"colorscale\": [[0.0, \"#0d0887\"], [0.1111111111111111, \"#46039f\"], [0.2222222222222222, \"#7201a8\"], [0.3333333333333333, \"#9c179e\"], [0.4444444444444444, \"#bd3786\"], [0.5555555555555556, \"#d8576b\"], [0.6666666666666666, \"#ed7953\"], [0.7777777777777778, \"#fb9f3a\"], [0.8888888888888888, \"#fdca26\"], [1.0, \"#f0f921\"]], \"type\": \"contour\"}], \"contourcarpet\": [{\"colorbar\": {\"outlinewidth\": 0, \"ticks\": \"\"}, \"type\": \"contourcarpet\"}], \"heatmap\": [{\"colorbar\": {\"outlinewidth\": 0, \"ticks\": \"\"}, \"colorscale\": [[0.0, \"#0d0887\"], [0.1111111111111111, \"#46039f\"], [0.2222222222222222, \"#7201a8\"], [0.3333333333333333, \"#9c179e\"], [0.4444444444444444, \"#bd3786\"], [0.5555555555555556, \"#d8576b\"], [0.6666666666666666, \"#ed7953\"], [0.7777777777777778, \"#fb9f3a\"], [0.8888888888888888, \"#fdca26\"], [1.0, \"#f0f921\"]], \"type\": \"heatmap\"}], \"heatmapgl\": [{\"colorbar\": {\"outlinewidth\": 0, \"ticks\": \"\"}, \"colorscale\": [[0.0, \"#0d0887\"], [0.1111111111111111, \"#46039f\"], [0.2222222222222222, \"#7201a8\"], [0.3333333333333333, \"#9c179e\"], [0.4444444444444444, \"#bd3786\"], [0.5555555555555556, \"#d8576b\"], [0.6666666666666666, \"#ed7953\"], [0.7777777777777778, \"#fb9f3a\"], [0.8888888888888888, \"#fdca26\"], [1.0, \"#f0f921\"]], \"type\": \"heatmapgl\"}], \"histogram\": [{\"marker\": {\"colorbar\": {\"outlinewidth\": 0, \"ticks\": \"\"}}, \"type\": \"histogram\"}], \"histogram2d\": [{\"colorbar\": {\"outlinewidth\": 0, \"ticks\": \"\"}, \"colorscale\": [[0.0, \"#0d0887\"], [0.1111111111111111, \"#46039f\"], [0.2222222222222222, \"#7201a8\"], [0.3333333333333333, \"#9c179e\"], [0.4444444444444444, \"#bd3786\"], [0.5555555555555556, \"#d8576b\"], [0.6666666666666666, \"#ed7953\"], [0.7777777777777778, \"#fb9f3a\"], [0.8888888888888888, \"#fdca26\"], [1.0, \"#f0f921\"]], \"type\": \"histogram2d\"}], \"histogram2dcontour\": [{\"colorbar\": {\"outlinewidth\": 0, \"ticks\": \"\"}, \"colorscale\": [[0.0, \"#0d0887\"], [0.1111111111111111, \"#46039f\"], [0.2222222222222222, \"#7201a8\"], [0.3333333333333333, \"#9c179e\"], [0.4444444444444444, \"#bd3786\"], [0.5555555555555556, \"#d8576b\"], [0.6666666666666666, \"#ed7953\"], [0.7777777777777778, \"#fb9f3a\"], [0.8888888888888888, \"#fdca26\"], [1.0, \"#f0f921\"]], \"type\": \"histogram2dcontour\"}], \"mesh3d\": [{\"colorbar\": {\"outlinewidth\": 0, \"ticks\": \"\"}, \"type\": \"mesh3d\"}], \"parcoords\": [{\"line\": {\"colorbar\": {\"outlinewidth\": 0, \"ticks\": \"\"}}, \"type\": \"parcoords\"}], \"pie\": [{\"automargin\": true, \"type\": \"pie\"}], \"scatter\": [{\"marker\": {\"colorbar\": {\"outlinewidth\": 0, \"ticks\": \"\"}}, \"type\": \"scatter\"}], \"scatter3d\": [{\"line\": {\"colorbar\": {\"outlinewidth\": 0, \"ticks\": \"\"}}, \"marker\": {\"colorbar\": {\"outlinewidth\": 0, \"ticks\": \"\"}}, \"type\": \"scatter3d\"}], \"scattercarpet\": [{\"marker\": {\"colorbar\": {\"outlinewidth\": 0, \"ticks\": \"\"}}, \"type\": \"scattercarpet\"}], \"scattergeo\": [{\"marker\": {\"colorbar\": {\"outlinewidth\": 0, \"ticks\": \"\"}}, \"type\": \"scattergeo\"}], \"scattergl\": [{\"marker\": {\"colorbar\": {\"outlinewidth\": 0, \"ticks\": \"\"}}, \"type\": \"scattergl\"}], \"scattermapbox\": [{\"marker\": {\"colorbar\": {\"outlinewidth\": 0, \"ticks\": \"\"}}, \"type\": \"scattermapbox\"}], \"scatterpolar\": [{\"marker\": {\"colorbar\": {\"outlinewidth\": 0, \"ticks\": \"\"}}, \"type\": \"scatterpolar\"}], \"scatterpolargl\": [{\"marker\": {\"colorbar\": {\"outlinewidth\": 0, \"ticks\": \"\"}}, \"type\": \"scatterpolargl\"}], \"scatterternary\": [{\"marker\": {\"colorbar\": {\"outlinewidth\": 0, \"ticks\": \"\"}}, \"type\": \"scatterternary\"}], \"surface\": [{\"colorbar\": {\"outlinewidth\": 0, \"ticks\": \"\"}, \"colorscale\": [[0.0, \"#0d0887\"], [0.1111111111111111, \"#46039f\"], [0.2222222222222222, \"#7201a8\"], [0.3333333333333333, \"#9c179e\"], [0.4444444444444444, \"#bd3786\"], [0.5555555555555556, \"#d8576b\"], [0.6666666666666666, \"#ed7953\"], [0.7777777777777778, \"#fb9f3a\"], [0.8888888888888888, \"#fdca26\"], [1.0, \"#f0f921\"]], \"type\": \"surface\"}], \"table\": [{\"cells\": {\"fill\": {\"color\": \"#EBF0F8\"}, \"line\": {\"color\": \"white\"}}, \"header\": {\"fill\": {\"color\": \"#C8D4E3\"}, \"line\": {\"color\": \"white\"}}, \"type\": \"table\"}]}, \"layout\": {\"annotationdefaults\": {\"arrowcolor\": \"#2a3f5f\", \"arrowhead\": 0, \"arrowwidth\": 1}, \"coloraxis\": {\"colorbar\": {\"outlinewidth\": 0, \"ticks\": \"\"}}, \"colorscale\": {\"diverging\": [[0, \"#8e0152\"], [0.1, \"#c51b7d\"], [0.2, \"#de77ae\"], [0.3, \"#f1b6da\"], [0.4, \"#fde0ef\"], [0.5, \"#f7f7f7\"], [0.6, \"#e6f5d0\"], [0.7, \"#b8e186\"], [0.8, \"#7fbc41\"], [0.9, \"#4d9221\"], [1, \"#276419\"]], \"sequential\": [[0.0, \"#0d0887\"], [0.1111111111111111, \"#46039f\"], [0.2222222222222222, \"#7201a8\"], [0.3333333333333333, \"#9c179e\"], [0.4444444444444444, \"#bd3786\"], [0.5555555555555556, \"#d8576b\"], [0.6666666666666666, \"#ed7953\"], [0.7777777777777778, \"#fb9f3a\"], [0.8888888888888888, \"#fdca26\"], [1.0, \"#f0f921\"]], \"sequentialminus\": [[0.0, \"#0d0887\"], [0.1111111111111111, \"#46039f\"], [0.2222222222222222, \"#7201a8\"], [0.3333333333333333, \"#9c179e\"], [0.4444444444444444, \"#bd3786\"], [0.5555555555555556, \"#d8576b\"], [0.6666666666666666, \"#ed7953\"], [0.7777777777777778, \"#fb9f3a\"], [0.8888888888888888, \"#fdca26\"], [1.0, \"#f0f921\"]]}, \"colorway\": [\"#636efa\", \"#EF553B\", \"#00cc96\", \"#ab63fa\", \"#FFA15A\", \"#19d3f3\", \"#FF6692\", \"#B6E880\", \"#FF97FF\", \"#FECB52\"], \"font\": {\"color\": \"#2a3f5f\"}, \"geo\": {\"bgcolor\": \"white\", \"lakecolor\": \"white\", \"landcolor\": \"#E5ECF6\", \"showlakes\": true, \"showland\": true, \"subunitcolor\": \"white\"}, \"hoverlabel\": {\"align\": \"left\"}, \"hovermode\": \"closest\", \"mapbox\": {\"style\": \"light\"}, \"paper_bgcolor\": \"white\", \"plot_bgcolor\": \"#E5ECF6\", \"polar\": {\"angularaxis\": {\"gridcolor\": \"white\", \"linecolor\": \"white\", \"ticks\": \"\"}, \"bgcolor\": \"#E5ECF6\", \"radialaxis\": {\"gridcolor\": \"white\", \"linecolor\": \"white\", \"ticks\": \"\"}}, \"scene\": {\"xaxis\": {\"backgroundcolor\": \"#E5ECF6\", \"gridcolor\": \"white\", \"gridwidth\": 2, \"linecolor\": \"white\", \"showbackground\": true, \"ticks\": \"\", \"zerolinecolor\": \"white\"}, \"yaxis\": {\"backgroundcolor\": \"#E5ECF6\", \"gridcolor\": \"white\", \"gridwidth\": 2, \"linecolor\": \"white\", \"showbackground\": true, \"ticks\": \"\", \"zerolinecolor\": \"white\"}, \"zaxis\": {\"backgroundcolor\": \"#E5ECF6\", \"gridcolor\": \"white\", \"gridwidth\": 2, \"linecolor\": \"white\", \"showbackground\": true, \"ticks\": \"\", \"zerolinecolor\": \"white\"}}, \"shapedefaults\": {\"line\": {\"color\": \"#2a3f5f\"}}, \"ternary\": {\"aaxis\": {\"gridcolor\": \"white\", \"linecolor\": \"white\", \"ticks\": \"\"}, \"baxis\": {\"gridcolor\": \"white\", \"linecolor\": \"white\", \"ticks\": \"\"}, \"bgcolor\": \"#E5ECF6\", \"caxis\": {\"gridcolor\": \"white\", \"linecolor\": \"white\", \"ticks\": \"\"}}, \"title\": {\"x\": 0.05}, \"xaxis\": {\"automargin\": true, \"gridcolor\": \"white\", \"linecolor\": \"white\", \"ticks\": \"\", \"title\": {\"standoff\": 15}, \"zerolinecolor\": \"white\", \"zerolinewidth\": 2}, \"yaxis\": {\"automargin\": true, \"gridcolor\": \"white\", \"linecolor\": \"white\", \"ticks\": \"\", \"title\": {\"standoff\": 15}, \"zerolinecolor\": \"white\", \"zerolinewidth\": 2}}}, \"title\": {\"text\": \"Confirmed cases in Spain by region\"}, \"width\": 900},\n",
       "                        {\"responsive\": true}\n",
       "                    ).then(function(){\n",
       "                            \n",
       "var gd = document.getElementById('4c6303a6-9eac-4ea3-b5ac-d740ac2b1fe3');\n",
       "var x = new MutationObserver(function (mutations, observer) {{\n",
       "        var display = window.getComputedStyle(gd).display;\n",
       "        if (!display || display === 'none') {{\n",
       "            console.log([gd, 'removed!']);\n",
       "            Plotly.purge(gd);\n",
       "            observer.disconnect();\n",
       "        }}\n",
       "}});\n",
       "\n",
       "// Listen for the removal of the full notebook cells\n",
       "var notebookContainer = gd.closest('#notebook-container');\n",
       "if (notebookContainer) {{\n",
       "    x.observe(notebookContainer, {childList: true});\n",
       "}}\n",
       "\n",
       "// Listen for the clearing of the current output cell\n",
       "var outputEl = gd.closest('.output');\n",
       "if (outputEl) {{\n",
       "    x.observe(outputEl, {childList: true});\n",
       "}}\n",
       "\n",
       "                        })\n",
       "                };\n",
       "                });\n",
       "            </script>\n",
       "        </div>"
      ]
     },
     "metadata": {},
     "output_type": "display_data"
    }
   ],
   "source": [
    "fig_spain_map = go.Figure(go.Scattergeo(\n",
    "                                        lon = datas['long'],\n",
    "                                        lat = datas['lat'],\n",
    "                                        text = datas['region_name']+': '+datas['cases'].astype(str),\n",
    "                                        mode = 'markers',\n",
    "                                        marker = dict(size = datas['cases']/40,\n",
    "                                                    color = coloursp,\n",
    "                                                    line_width=0.5,\n",
    "                                                    sizemode = 'area'),\n",
    "                                        )\n",
    "                           )\n",
    "\n",
    "fig_spain_map.add_trace(go.Scattergeo(\n",
    "                                        lon = datas['long'],\n",
    "                                        lat = datas['lat'],\n",
    "                                        text = datas['region'],\n",
    "                                        mode = 'text',\n",
    "                                        marker = dict(size = 0,\n",
    "                                                    color = coloursp,\n",
    "                                                    line_width=0.0,\n",
    "                                                    sizemode = 'area'),\n",
    "                                        ))\n",
    "\n",
    "fig_spain_map.update_layout(  title = 'Confirmed cases in Spain by region',\n",
    "                    width = 900,\n",
    "                    height = 500,\n",
    "                    showlegend=False\n",
    "                 )\n",
    "\n",
    "fig_spain_map.update_geos(fitbounds=\"locations\")\n",
    "\n",
    "fig_spain_map.show()"
   ]
  },
  {
   "cell_type": "code",
   "execution_count": 17,
   "metadata": {},
   "outputs": [
    {
     "name": "stderr",
     "output_type": "stream",
     "text": [
      "/Library/Frameworks/Python.framework/Versions/3.7/lib/python3.7/site-packages/ipykernel_launcher.py:7: SettingWithCopyWarning:\n",
      "\n",
      "\n",
      "A value is trying to be set on a copy of a slice from a DataFrame\n",
      "\n",
      "See the caveats in the documentation: https://pandas.pydata.org/pandas-docs/stable/user_guide/indexing.html#returning-a-view-versus-a-copy\n",
      "\n",
      "/Library/Frameworks/Python.framework/Versions/3.7/lib/python3.7/site-packages/ipykernel_launcher.py:8: SettingWithCopyWarning:\n",
      "\n",
      "\n",
      "A value is trying to be set on a copy of a slice from a DataFrame\n",
      "\n",
      "See the caveats in the documentation: https://pandas.pydata.org/pandas-docs/stable/user_guide/indexing.html#returning-a-view-versus-a-copy\n",
      "\n"
     ]
    }
   ],
   "source": [
    "data_sun = datas[['region','cases','hospitalised','ICU','deaths','recovered']].copy()\n",
    "data_sun['active'] = pd.Series(data_sun.loc[:,'cases'] -\\\n",
    "                              ( data_sun.loc[:,'deaths'] + data_sun.loc[:,'recovered']))\n",
    "data_sun['home_isolation'] = pd.Series(data_sun.loc[:,'active']\\\n",
    "                                       - ( data_sun.loc[:,'hospitalised']))\n",
    "data_sun = data_sun.reset_index(drop=True)\n",
    "data_sun['home_isolation'][7] = data_sun.loc[:,'home_isolation'][7] * (-1)\n",
    "data_sun['home_isolation'][14] = data_sun.loc[:,'home_isolation'][14] * (-1)"
   ]
  },
  {
   "cell_type": "code",
   "execution_count": 112,
   "metadata": {},
   "outputs": [],
   "source": [
    "data_sun_total = data_sun[['region','cases']]\n",
    "data_sun_total = pd.melt(data_sun_total, id_vars=['region'], value_vars=['cases'])\n",
    "\n",
    "data_sun_cases = pd.melt(data_sun, id_vars=['region'],value_vars=['active','deaths','recovered'])\n",
    "data_sun_cases = data_sun_cases.sort_values('region')\n",
    "\n",
    "data_sun_active = pd.melt(data_sun, id_vars=['active'],value_vars=['hospitalised','ICU','home_isolation'])\n",
    "data_sun_active['active'] = data_sun_active['active'].apply(str) \n",
    "data_sun_active = data_sun_active.sort_values('active')\n",
    "\n",
    "for r in df_loc.region:\n",
    "    data_sun_cases[data_sun_cases.region == r] = \\\n",
    "    data_sun_cases[data_sun_cases.region == r].replace('active','active ('+r+')')\n",
    "\n",
    "a = [ 'active ('+ i +')' for i in list(df_loc.region)] * 3\n",
    "a.sort()"
   ]
  },
  {
   "cell_type": "code",
   "execution_count": 113,
   "metadata": {},
   "outputs": [],
   "source": [
    "labels = list(data_sun_total.region) + list(data_sun_cases.variable) + list(data_sun_active.variable)\n",
    "parents = ['Spain'] * len(data_sun_total.region) \\\n",
    "        + list(data_sun_cases['region']) + a\n",
    "values= list(data_sun_total['value']) + list(data_sun_cases['value'])+ list(data_sun_active['value'])"
   ]
  },
  {
   "cell_type": "code",
   "execution_count": 137,
   "metadata": {},
   "outputs": [
    {
     "data": {
      "application/vnd.plotly.v1+json": {
       "config": {
        "plotlyServerURL": "https://plot.ly"
       },
       "data": [
        {
         "insidetextfont": {
          "size": 15
         },
         "labels": [
          "AN",
          "AR",
          "AS",
          "CB",
          "CL",
          "CM",
          "CN",
          "CT",
          "EX",
          "GA",
          "IB",
          "MC",
          "MD",
          "NC",
          "PV",
          "RI",
          "VC",
          "active (AN)",
          "deaths",
          "recovered",
          "active (AR)",
          "deaths",
          "recovered",
          "active (AS)",
          "deaths",
          "recovered",
          "active (CB)",
          "deaths",
          "recovered",
          "deaths",
          "recovered",
          "active (CL)",
          "recovered",
          "active (CM)",
          "deaths",
          "recovered",
          "active (CN)",
          "deaths",
          "recovered",
          "active (CT)",
          "deaths",
          "recovered",
          "deaths",
          "active (EX)",
          "deaths",
          "recovered",
          "active (GA)",
          "deaths",
          "recovered",
          "active (IB)",
          "deaths",
          "recovered",
          "active (MC)",
          "recovered",
          "active (MD)",
          "deaths",
          "deaths",
          "recovered",
          "active (NC)",
          "active (PV)",
          "deaths",
          "recovered",
          "recovered",
          "active (RI)",
          "deaths",
          "active (VC)",
          "deaths",
          "recovered",
          "hospitalised",
          "home_isolation",
          "ICU",
          "home_isolation",
          "hospitalised",
          "ICU",
          "hospitalised",
          "ICU",
          "home_isolation",
          "home_isolation",
          "ICU",
          "hospitalised",
          "home_isolation",
          "hospitalised",
          "ICU",
          "hospitalised",
          "home_isolation",
          "ICU",
          "hospitalised",
          "ICU",
          "home_isolation",
          "home_isolation",
          "hospitalised",
          "ICU",
          "home_isolation",
          "hospitalised",
          "ICU",
          "hospitalised",
          "home_isolation",
          "ICU",
          "hospitalised",
          "ICU",
          "home_isolation",
          "ICU",
          "hospitalised",
          "home_isolation",
          "home_isolation",
          "ICU",
          "hospitalised",
          "home_isolation",
          "ICU",
          "hospitalised",
          "ICU",
          "home_isolation",
          "hospitalised",
          "ICU",
          "home_isolation",
          "hospitalised",
          "home_isolation",
          "ICU",
          "hospitalised"
         ],
         "outsidetextfont": {
          "color": "#377eb8",
          "size": 20
         },
         "parents": [
          "Spain",
          "Spain",
          "Spain",
          "Spain",
          "Spain",
          "Spain",
          "Spain",
          "Spain",
          "Spain",
          "Spain",
          "Spain",
          "Spain",
          "Spain",
          "Spain",
          "Spain",
          "Spain",
          "Spain",
          "AN",
          "AN",
          "AN",
          "AR",
          "AR",
          "AR",
          "AS",
          "AS",
          "AS",
          "CB",
          "CB",
          "CB",
          "CL",
          "CL",
          "CL",
          "CM",
          "CM",
          "CM",
          "CN",
          "CN",
          "CN",
          "CT",
          "CT",
          "CT",
          "EX",
          "EX",
          "EX",
          "GA",
          "GA",
          "GA",
          "IB",
          "IB",
          "IB",
          "MC",
          "MC",
          "MC",
          "MD",
          "MD",
          "MD",
          "NC",
          "NC",
          "NC",
          "PV",
          "PV",
          "PV",
          "RI",
          "RI",
          "RI",
          "VC",
          "VC",
          "VC",
          "active (AN)",
          "active (AN)",
          "active (AN)",
          "active (AR)",
          "active (AR)",
          "active (AR)",
          "active (AS)",
          "active (AS)",
          "active (AS)",
          "active (CB)",
          "active (CB)",
          "active (CB)",
          "active (CL)",
          "active (CL)",
          "active (CL)",
          "active (CM)",
          "active (CM)",
          "active (CM)",
          "active (CN)",
          "active (CN)",
          "active (CN)",
          "active (CT)",
          "active (CT)",
          "active (CT)",
          "active (EX)",
          "active (EX)",
          "active (EX)",
          "active (GA)",
          "active (GA)",
          "active (GA)",
          "active (IB)",
          "active (IB)",
          "active (IB)",
          "active (MC)",
          "active (MC)",
          "active (MC)",
          "active (MD)",
          "active (MD)",
          "active (MD)",
          "active (NC)",
          "active (NC)",
          "active (NC)",
          "active (PV)",
          "active (PV)",
          "active (PV)",
          "active (RI)",
          "active (RI)",
          "active (RI)",
          "active (VC)",
          "active (VC)",
          "active (VC)"
         ],
         "type": "sunburst",
         "values": [
          8997,
          3549,
          1705,
          1572,
          10058,
          11788,
          1762,
          29647,
          2184,
          6538,
          1412,
          1326,
          42450,
          3467,
          9452,
          2951,
          7655,
          7351,
          605,
          1041,
          2541,
          349,
          659,
          1309,
          102,
          294,
          1305,
          92,
          175,
          1028,
          2988,
          6042,
          1557,
          8976,
          1255,
          249,
          1422,
          91,
          12250,
          14356,
          3041,
          328,
          271,
          1585,
          213,
          800,
          5525,
          89,
          616,
          707,
          85,
          203,
          1038,
          19836,
          17028,
          5586,
          206,
          450,
          2811,
          4666,
          635,
          4151,
          1061,
          1713,
          177,
          5587,
          724,
          1344,
          515,
          523,
          86,
          605,
          700,
          69,
          958,
          91,
          351,
          719,
          138,
          703,
          5894,
          20250,
          2442,
          898,
          687,
          98,
          13289,
          1450,
          3739,
          758,
          955,
          68,
          825,
          1716,
          255,
          1526,
          1285,
          124,
          4982,
          430,
          316,
          158,
          2014,
          3511,
          3873,
          371,
          1714,
          720,
          342,
          5322,
          129,
          -24,
          731,
          520,
          2888,
          4463,
          6245,
          354,
          2731
         ]
        }
       ],
       "layout": {
        "height": 1000,
        "margin": {
         "b": 0,
         "l": 0,
         "r": 0,
         "t": 0
        },
        "template": {
         "data": {
          "bar": [
           {
            "error_x": {
             "color": "#2a3f5f"
            },
            "error_y": {
             "color": "#2a3f5f"
            },
            "marker": {
             "line": {
              "color": "#E5ECF6",
              "width": 0.5
             }
            },
            "type": "bar"
           }
          ],
          "barpolar": [
           {
            "marker": {
             "line": {
              "color": "#E5ECF6",
              "width": 0.5
             }
            },
            "type": "barpolar"
           }
          ],
          "carpet": [
           {
            "aaxis": {
             "endlinecolor": "#2a3f5f",
             "gridcolor": "white",
             "linecolor": "white",
             "minorgridcolor": "white",
             "startlinecolor": "#2a3f5f"
            },
            "baxis": {
             "endlinecolor": "#2a3f5f",
             "gridcolor": "white",
             "linecolor": "white",
             "minorgridcolor": "white",
             "startlinecolor": "#2a3f5f"
            },
            "type": "carpet"
           }
          ],
          "choropleth": [
           {
            "colorbar": {
             "outlinewidth": 0,
             "ticks": ""
            },
            "type": "choropleth"
           }
          ],
          "contour": [
           {
            "colorbar": {
             "outlinewidth": 0,
             "ticks": ""
            },
            "colorscale": [
             [
              0,
              "#0d0887"
             ],
             [
              0.1111111111111111,
              "#46039f"
             ],
             [
              0.2222222222222222,
              "#7201a8"
             ],
             [
              0.3333333333333333,
              "#9c179e"
             ],
             [
              0.4444444444444444,
              "#bd3786"
             ],
             [
              0.5555555555555556,
              "#d8576b"
             ],
             [
              0.6666666666666666,
              "#ed7953"
             ],
             [
              0.7777777777777778,
              "#fb9f3a"
             ],
             [
              0.8888888888888888,
              "#fdca26"
             ],
             [
              1,
              "#f0f921"
             ]
            ],
            "type": "contour"
           }
          ],
          "contourcarpet": [
           {
            "colorbar": {
             "outlinewidth": 0,
             "ticks": ""
            },
            "type": "contourcarpet"
           }
          ],
          "heatmap": [
           {
            "colorbar": {
             "outlinewidth": 0,
             "ticks": ""
            },
            "colorscale": [
             [
              0,
              "#0d0887"
             ],
             [
              0.1111111111111111,
              "#46039f"
             ],
             [
              0.2222222222222222,
              "#7201a8"
             ],
             [
              0.3333333333333333,
              "#9c179e"
             ],
             [
              0.4444444444444444,
              "#bd3786"
             ],
             [
              0.5555555555555556,
              "#d8576b"
             ],
             [
              0.6666666666666666,
              "#ed7953"
             ],
             [
              0.7777777777777778,
              "#fb9f3a"
             ],
             [
              0.8888888888888888,
              "#fdca26"
             ],
             [
              1,
              "#f0f921"
             ]
            ],
            "type": "heatmap"
           }
          ],
          "heatmapgl": [
           {
            "colorbar": {
             "outlinewidth": 0,
             "ticks": ""
            },
            "colorscale": [
             [
              0,
              "#0d0887"
             ],
             [
              0.1111111111111111,
              "#46039f"
             ],
             [
              0.2222222222222222,
              "#7201a8"
             ],
             [
              0.3333333333333333,
              "#9c179e"
             ],
             [
              0.4444444444444444,
              "#bd3786"
             ],
             [
              0.5555555555555556,
              "#d8576b"
             ],
             [
              0.6666666666666666,
              "#ed7953"
             ],
             [
              0.7777777777777778,
              "#fb9f3a"
             ],
             [
              0.8888888888888888,
              "#fdca26"
             ],
             [
              1,
              "#f0f921"
             ]
            ],
            "type": "heatmapgl"
           }
          ],
          "histogram": [
           {
            "marker": {
             "colorbar": {
              "outlinewidth": 0,
              "ticks": ""
             }
            },
            "type": "histogram"
           }
          ],
          "histogram2d": [
           {
            "colorbar": {
             "outlinewidth": 0,
             "ticks": ""
            },
            "colorscale": [
             [
              0,
              "#0d0887"
             ],
             [
              0.1111111111111111,
              "#46039f"
             ],
             [
              0.2222222222222222,
              "#7201a8"
             ],
             [
              0.3333333333333333,
              "#9c179e"
             ],
             [
              0.4444444444444444,
              "#bd3786"
             ],
             [
              0.5555555555555556,
              "#d8576b"
             ],
             [
              0.6666666666666666,
              "#ed7953"
             ],
             [
              0.7777777777777778,
              "#fb9f3a"
             ],
             [
              0.8888888888888888,
              "#fdca26"
             ],
             [
              1,
              "#f0f921"
             ]
            ],
            "type": "histogram2d"
           }
          ],
          "histogram2dcontour": [
           {
            "colorbar": {
             "outlinewidth": 0,
             "ticks": ""
            },
            "colorscale": [
             [
              0,
              "#0d0887"
             ],
             [
              0.1111111111111111,
              "#46039f"
             ],
             [
              0.2222222222222222,
              "#7201a8"
             ],
             [
              0.3333333333333333,
              "#9c179e"
             ],
             [
              0.4444444444444444,
              "#bd3786"
             ],
             [
              0.5555555555555556,
              "#d8576b"
             ],
             [
              0.6666666666666666,
              "#ed7953"
             ],
             [
              0.7777777777777778,
              "#fb9f3a"
             ],
             [
              0.8888888888888888,
              "#fdca26"
             ],
             [
              1,
              "#f0f921"
             ]
            ],
            "type": "histogram2dcontour"
           }
          ],
          "mesh3d": [
           {
            "colorbar": {
             "outlinewidth": 0,
             "ticks": ""
            },
            "type": "mesh3d"
           }
          ],
          "parcoords": [
           {
            "line": {
             "colorbar": {
              "outlinewidth": 0,
              "ticks": ""
             }
            },
            "type": "parcoords"
           }
          ],
          "pie": [
           {
            "automargin": true,
            "type": "pie"
           }
          ],
          "scatter": [
           {
            "marker": {
             "colorbar": {
              "outlinewidth": 0,
              "ticks": ""
             }
            },
            "type": "scatter"
           }
          ],
          "scatter3d": [
           {
            "line": {
             "colorbar": {
              "outlinewidth": 0,
              "ticks": ""
             }
            },
            "marker": {
             "colorbar": {
              "outlinewidth": 0,
              "ticks": ""
             }
            },
            "type": "scatter3d"
           }
          ],
          "scattercarpet": [
           {
            "marker": {
             "colorbar": {
              "outlinewidth": 0,
              "ticks": ""
             }
            },
            "type": "scattercarpet"
           }
          ],
          "scattergeo": [
           {
            "marker": {
             "colorbar": {
              "outlinewidth": 0,
              "ticks": ""
             }
            },
            "type": "scattergeo"
           }
          ],
          "scattergl": [
           {
            "marker": {
             "colorbar": {
              "outlinewidth": 0,
              "ticks": ""
             }
            },
            "type": "scattergl"
           }
          ],
          "scattermapbox": [
           {
            "marker": {
             "colorbar": {
              "outlinewidth": 0,
              "ticks": ""
             }
            },
            "type": "scattermapbox"
           }
          ],
          "scatterpolar": [
           {
            "marker": {
             "colorbar": {
              "outlinewidth": 0,
              "ticks": ""
             }
            },
            "type": "scatterpolar"
           }
          ],
          "scatterpolargl": [
           {
            "marker": {
             "colorbar": {
              "outlinewidth": 0,
              "ticks": ""
             }
            },
            "type": "scatterpolargl"
           }
          ],
          "scatterternary": [
           {
            "marker": {
             "colorbar": {
              "outlinewidth": 0,
              "ticks": ""
             }
            },
            "type": "scatterternary"
           }
          ],
          "surface": [
           {
            "colorbar": {
             "outlinewidth": 0,
             "ticks": ""
            },
            "colorscale": [
             [
              0,
              "#0d0887"
             ],
             [
              0.1111111111111111,
              "#46039f"
             ],
             [
              0.2222222222222222,
              "#7201a8"
             ],
             [
              0.3333333333333333,
              "#9c179e"
             ],
             [
              0.4444444444444444,
              "#bd3786"
             ],
             [
              0.5555555555555556,
              "#d8576b"
             ],
             [
              0.6666666666666666,
              "#ed7953"
             ],
             [
              0.7777777777777778,
              "#fb9f3a"
             ],
             [
              0.8888888888888888,
              "#fdca26"
             ],
             [
              1,
              "#f0f921"
             ]
            ],
            "type": "surface"
           }
          ],
          "table": [
           {
            "cells": {
             "fill": {
              "color": "#EBF0F8"
             },
             "line": {
              "color": "white"
             }
            },
            "header": {
             "fill": {
              "color": "#C8D4E3"
             },
             "line": {
              "color": "white"
             }
            },
            "type": "table"
           }
          ]
         },
         "layout": {
          "annotationdefaults": {
           "arrowcolor": "#2a3f5f",
           "arrowhead": 0,
           "arrowwidth": 1
          },
          "coloraxis": {
           "colorbar": {
            "outlinewidth": 0,
            "ticks": ""
           }
          },
          "colorscale": {
           "diverging": [
            [
             0,
             "#8e0152"
            ],
            [
             0.1,
             "#c51b7d"
            ],
            [
             0.2,
             "#de77ae"
            ],
            [
             0.3,
             "#f1b6da"
            ],
            [
             0.4,
             "#fde0ef"
            ],
            [
             0.5,
             "#f7f7f7"
            ],
            [
             0.6,
             "#e6f5d0"
            ],
            [
             0.7,
             "#b8e186"
            ],
            [
             0.8,
             "#7fbc41"
            ],
            [
             0.9,
             "#4d9221"
            ],
            [
             1,
             "#276419"
            ]
           ],
           "sequential": [
            [
             0,
             "#0d0887"
            ],
            [
             0.1111111111111111,
             "#46039f"
            ],
            [
             0.2222222222222222,
             "#7201a8"
            ],
            [
             0.3333333333333333,
             "#9c179e"
            ],
            [
             0.4444444444444444,
             "#bd3786"
            ],
            [
             0.5555555555555556,
             "#d8576b"
            ],
            [
             0.6666666666666666,
             "#ed7953"
            ],
            [
             0.7777777777777778,
             "#fb9f3a"
            ],
            [
             0.8888888888888888,
             "#fdca26"
            ],
            [
             1,
             "#f0f921"
            ]
           ],
           "sequentialminus": [
            [
             0,
             "#0d0887"
            ],
            [
             0.1111111111111111,
             "#46039f"
            ],
            [
             0.2222222222222222,
             "#7201a8"
            ],
            [
             0.3333333333333333,
             "#9c179e"
            ],
            [
             0.4444444444444444,
             "#bd3786"
            ],
            [
             0.5555555555555556,
             "#d8576b"
            ],
            [
             0.6666666666666666,
             "#ed7953"
            ],
            [
             0.7777777777777778,
             "#fb9f3a"
            ],
            [
             0.8888888888888888,
             "#fdca26"
            ],
            [
             1,
             "#f0f921"
            ]
           ]
          },
          "colorway": [
           "#636efa",
           "#EF553B",
           "#00cc96",
           "#ab63fa",
           "#FFA15A",
           "#19d3f3",
           "#FF6692",
           "#B6E880",
           "#FF97FF",
           "#FECB52"
          ],
          "font": {
           "color": "#2a3f5f"
          },
          "geo": {
           "bgcolor": "white",
           "lakecolor": "white",
           "landcolor": "#E5ECF6",
           "showlakes": true,
           "showland": true,
           "subunitcolor": "white"
          },
          "hoverlabel": {
           "align": "left"
          },
          "hovermode": "closest",
          "mapbox": {
           "style": "light"
          },
          "paper_bgcolor": "white",
          "plot_bgcolor": "#E5ECF6",
          "polar": {
           "angularaxis": {
            "gridcolor": "white",
            "linecolor": "white",
            "ticks": ""
           },
           "bgcolor": "#E5ECF6",
           "radialaxis": {
            "gridcolor": "white",
            "linecolor": "white",
            "ticks": ""
           }
          },
          "scene": {
           "xaxis": {
            "backgroundcolor": "#E5ECF6",
            "gridcolor": "white",
            "gridwidth": 2,
            "linecolor": "white",
            "showbackground": true,
            "ticks": "",
            "zerolinecolor": "white"
           },
           "yaxis": {
            "backgroundcolor": "#E5ECF6",
            "gridcolor": "white",
            "gridwidth": 2,
            "linecolor": "white",
            "showbackground": true,
            "ticks": "",
            "zerolinecolor": "white"
           },
           "zaxis": {
            "backgroundcolor": "#E5ECF6",
            "gridcolor": "white",
            "gridwidth": 2,
            "linecolor": "white",
            "showbackground": true,
            "ticks": "",
            "zerolinecolor": "white"
           }
          },
          "shapedefaults": {
           "line": {
            "color": "#2a3f5f"
           }
          },
          "ternary": {
           "aaxis": {
            "gridcolor": "white",
            "linecolor": "white",
            "ticks": ""
           },
           "baxis": {
            "gridcolor": "white",
            "linecolor": "white",
            "ticks": ""
           },
           "bgcolor": "#E5ECF6",
           "caxis": {
            "gridcolor": "white",
            "linecolor": "white",
            "ticks": ""
           }
          },
          "title": {
           "x": 0.05
          },
          "xaxis": {
           "automargin": true,
           "gridcolor": "white",
           "linecolor": "white",
           "ticks": "",
           "title": {
            "standoff": 15
           },
           "zerolinecolor": "white",
           "zerolinewidth": 2
          },
          "yaxis": {
           "automargin": true,
           "gridcolor": "white",
           "linecolor": "white",
           "ticks": "",
           "title": {
            "standoff": 15
           },
           "zerolinecolor": "white",
           "zerolinewidth": 2
          }
         }
        },
        "width": 1000
       }
      },
      "text/html": [
       "<div>\n",
       "        \n",
       "        \n",
       "            <div id=\"2ef100b3-abd8-4aa7-ab95-83528cf2608e\" class=\"plotly-graph-div\" style=\"height:1000px; width:1000px;\"></div>\n",
       "            <script type=\"text/javascript\">\n",
       "                require([\"plotly\"], function(Plotly) {\n",
       "                    window.PLOTLYENV=window.PLOTLYENV || {};\n",
       "                    \n",
       "                if (document.getElementById(\"2ef100b3-abd8-4aa7-ab95-83528cf2608e\")) {\n",
       "                    Plotly.newPlot(\n",
       "                        '2ef100b3-abd8-4aa7-ab95-83528cf2608e',\n",
       "                        [{\"insidetextfont\": {\"size\": 15}, \"labels\": [\"AN\", \"AR\", \"AS\", \"CB\", \"CL\", \"CM\", \"CN\", \"CT\", \"EX\", \"GA\", \"IB\", \"MC\", \"MD\", \"NC\", \"PV\", \"RI\", \"VC\", \"active (AN)\", \"deaths\", \"recovered\", \"active (AR)\", \"deaths\", \"recovered\", \"active (AS)\", \"deaths\", \"recovered\", \"active (CB)\", \"deaths\", \"recovered\", \"deaths\", \"recovered\", \"active (CL)\", \"recovered\", \"active (CM)\", \"deaths\", \"recovered\", \"active (CN)\", \"deaths\", \"recovered\", \"active (CT)\", \"deaths\", \"recovered\", \"deaths\", \"active (EX)\", \"deaths\", \"recovered\", \"active (GA)\", \"deaths\", \"recovered\", \"active (IB)\", \"deaths\", \"recovered\", \"active (MC)\", \"recovered\", \"active (MD)\", \"deaths\", \"deaths\", \"recovered\", \"active (NC)\", \"active (PV)\", \"deaths\", \"recovered\", \"recovered\", \"active (RI)\", \"deaths\", \"active (VC)\", \"deaths\", \"recovered\", \"hospitalised\", \"home_isolation\", \"ICU\", \"home_isolation\", \"hospitalised\", \"ICU\", \"hospitalised\", \"ICU\", \"home_isolation\", \"home_isolation\", \"ICU\", \"hospitalised\", \"home_isolation\", \"hospitalised\", \"ICU\", \"hospitalised\", \"home_isolation\", \"ICU\", \"hospitalised\", \"ICU\", \"home_isolation\", \"home_isolation\", \"hospitalised\", \"ICU\", \"home_isolation\", \"hospitalised\", \"ICU\", \"hospitalised\", \"home_isolation\", \"ICU\", \"hospitalised\", \"ICU\", \"home_isolation\", \"ICU\", \"hospitalised\", \"home_isolation\", \"home_isolation\", \"ICU\", \"hospitalised\", \"home_isolation\", \"ICU\", \"hospitalised\", \"ICU\", \"home_isolation\", \"hospitalised\", \"ICU\", \"home_isolation\", \"hospitalised\", \"home_isolation\", \"ICU\", \"hospitalised\"], \"outsidetextfont\": {\"color\": \"#377eb8\", \"size\": 20}, \"parents\": [\"Spain\", \"Spain\", \"Spain\", \"Spain\", \"Spain\", \"Spain\", \"Spain\", \"Spain\", \"Spain\", \"Spain\", \"Spain\", \"Spain\", \"Spain\", \"Spain\", \"Spain\", \"Spain\", \"Spain\", \"AN\", \"AN\", \"AN\", \"AR\", \"AR\", \"AR\", \"AS\", \"AS\", \"AS\", \"CB\", \"CB\", \"CB\", \"CL\", \"CL\", \"CL\", \"CM\", \"CM\", \"CM\", \"CN\", \"CN\", \"CN\", \"CT\", \"CT\", \"CT\", \"EX\", \"EX\", \"EX\", \"GA\", \"GA\", \"GA\", \"IB\", \"IB\", \"IB\", \"MC\", \"MC\", \"MC\", \"MD\", \"MD\", \"MD\", \"NC\", \"NC\", \"NC\", \"PV\", \"PV\", \"PV\", \"RI\", \"RI\", \"RI\", \"VC\", \"VC\", \"VC\", \"active (AN)\", \"active (AN)\", \"active (AN)\", \"active (AR)\", \"active (AR)\", \"active (AR)\", \"active (AS)\", \"active (AS)\", \"active (AS)\", \"active (CB)\", \"active (CB)\", \"active (CB)\", \"active (CL)\", \"active (CL)\", \"active (CL)\", \"active (CM)\", \"active (CM)\", \"active (CM)\", \"active (CN)\", \"active (CN)\", \"active (CN)\", \"active (CT)\", \"active (CT)\", \"active (CT)\", \"active (EX)\", \"active (EX)\", \"active (EX)\", \"active (GA)\", \"active (GA)\", \"active (GA)\", \"active (IB)\", \"active (IB)\", \"active (IB)\", \"active (MC)\", \"active (MC)\", \"active (MC)\", \"active (MD)\", \"active (MD)\", \"active (MD)\", \"active (NC)\", \"active (NC)\", \"active (NC)\", \"active (PV)\", \"active (PV)\", \"active (PV)\", \"active (RI)\", \"active (RI)\", \"active (RI)\", \"active (VC)\", \"active (VC)\", \"active (VC)\"], \"type\": \"sunburst\", \"values\": [8997.0, 3549.0, 1705.0, 1572.0, 10058.0, 11788.0, 1762.0, 29647.0, 2184.0, 6538.0, 1412.0, 1326.0, 42450.0, 3467.0, 9452.0, 2951.0, 7655.0, 7351.0, 605.0, 1041.0, 2541.0, 349.0, 659.0, 1309.0, 102.0, 294.0, 1305.0, 92.0, 175.0, 1028.0, 2988.0, 6042.0, 1557.0, 8976.0, 1255.0, 249.0, 1422.0, 91.0, 12250.0, 14356.0, 3041.0, 328.0, 271.0, 1585.0, 213.0, 800.0, 5525.0, 89.0, 616.0, 707.0, 85.0, 203.0, 1038.0, 19836.0, 17028.0, 5586.0, 206.0, 450.0, 2811.0, 4666.0, 635.0, 4151.0, 1061.0, 1713.0, 177.0, 5587.0, 724.0, 1344.0, 515.0, 523.0, 86.0, 605.0, 700.0, 69.0, 958.0, 91.0, 351.0, 719.0, 138.0, 703.0, 5894.0, 20250.0, 2442.0, 898.0, 687.0, 98.0, 13289.0, 1450.0, 3739.0, 758.0, 955.0, 68.0, 825.0, 1716.0, 255.0, 1526.0, 1285.0, 124.0, 4982.0, 430.0, 316.0, 158.0, 2014.0, 3511.0, 3873.0, 371.0, 1714.0, 720.0, 342.0, 5322.0, 129.0, -24.0, 731.0, 520.0, 2888.0, 4463.0, 6245.0, 354.0, 2731.0]}],\n",
       "                        {\"height\": 1000, \"margin\": {\"b\": 0, \"l\": 0, \"r\": 0, \"t\": 0}, \"template\": {\"data\": {\"bar\": [{\"error_x\": {\"color\": \"#2a3f5f\"}, \"error_y\": {\"color\": \"#2a3f5f\"}, \"marker\": {\"line\": {\"color\": \"#E5ECF6\", \"width\": 0.5}}, \"type\": \"bar\"}], \"barpolar\": [{\"marker\": {\"line\": {\"color\": \"#E5ECF6\", \"width\": 0.5}}, \"type\": \"barpolar\"}], \"carpet\": [{\"aaxis\": {\"endlinecolor\": \"#2a3f5f\", \"gridcolor\": \"white\", \"linecolor\": \"white\", \"minorgridcolor\": \"white\", \"startlinecolor\": \"#2a3f5f\"}, \"baxis\": {\"endlinecolor\": \"#2a3f5f\", \"gridcolor\": \"white\", \"linecolor\": \"white\", \"minorgridcolor\": \"white\", \"startlinecolor\": \"#2a3f5f\"}, \"type\": \"carpet\"}], \"choropleth\": [{\"colorbar\": {\"outlinewidth\": 0, \"ticks\": \"\"}, \"type\": \"choropleth\"}], \"contour\": [{\"colorbar\": {\"outlinewidth\": 0, \"ticks\": \"\"}, \"colorscale\": [[0.0, \"#0d0887\"], [0.1111111111111111, \"#46039f\"], [0.2222222222222222, \"#7201a8\"], [0.3333333333333333, \"#9c179e\"], [0.4444444444444444, \"#bd3786\"], [0.5555555555555556, \"#d8576b\"], [0.6666666666666666, \"#ed7953\"], [0.7777777777777778, \"#fb9f3a\"], [0.8888888888888888, \"#fdca26\"], [1.0, \"#f0f921\"]], \"type\": \"contour\"}], \"contourcarpet\": [{\"colorbar\": {\"outlinewidth\": 0, \"ticks\": \"\"}, \"type\": \"contourcarpet\"}], \"heatmap\": [{\"colorbar\": {\"outlinewidth\": 0, \"ticks\": \"\"}, \"colorscale\": [[0.0, \"#0d0887\"], [0.1111111111111111, \"#46039f\"], [0.2222222222222222, \"#7201a8\"], [0.3333333333333333, \"#9c179e\"], [0.4444444444444444, \"#bd3786\"], [0.5555555555555556, \"#d8576b\"], [0.6666666666666666, \"#ed7953\"], [0.7777777777777778, \"#fb9f3a\"], [0.8888888888888888, \"#fdca26\"], [1.0, \"#f0f921\"]], \"type\": \"heatmap\"}], \"heatmapgl\": [{\"colorbar\": {\"outlinewidth\": 0, \"ticks\": \"\"}, \"colorscale\": [[0.0, \"#0d0887\"], [0.1111111111111111, \"#46039f\"], [0.2222222222222222, \"#7201a8\"], [0.3333333333333333, \"#9c179e\"], [0.4444444444444444, \"#bd3786\"], [0.5555555555555556, \"#d8576b\"], [0.6666666666666666, \"#ed7953\"], [0.7777777777777778, \"#fb9f3a\"], [0.8888888888888888, \"#fdca26\"], [1.0, \"#f0f921\"]], \"type\": \"heatmapgl\"}], \"histogram\": [{\"marker\": {\"colorbar\": {\"outlinewidth\": 0, \"ticks\": \"\"}}, \"type\": \"histogram\"}], \"histogram2d\": [{\"colorbar\": {\"outlinewidth\": 0, \"ticks\": \"\"}, \"colorscale\": [[0.0, \"#0d0887\"], [0.1111111111111111, \"#46039f\"], [0.2222222222222222, \"#7201a8\"], [0.3333333333333333, \"#9c179e\"], [0.4444444444444444, \"#bd3786\"], [0.5555555555555556, \"#d8576b\"], [0.6666666666666666, \"#ed7953\"], [0.7777777777777778, \"#fb9f3a\"], [0.8888888888888888, \"#fdca26\"], [1.0, \"#f0f921\"]], \"type\": \"histogram2d\"}], \"histogram2dcontour\": [{\"colorbar\": {\"outlinewidth\": 0, \"ticks\": \"\"}, \"colorscale\": [[0.0, \"#0d0887\"], [0.1111111111111111, \"#46039f\"], [0.2222222222222222, \"#7201a8\"], [0.3333333333333333, \"#9c179e\"], [0.4444444444444444, \"#bd3786\"], [0.5555555555555556, \"#d8576b\"], [0.6666666666666666, \"#ed7953\"], [0.7777777777777778, \"#fb9f3a\"], [0.8888888888888888, \"#fdca26\"], [1.0, \"#f0f921\"]], \"type\": \"histogram2dcontour\"}], \"mesh3d\": [{\"colorbar\": {\"outlinewidth\": 0, \"ticks\": \"\"}, \"type\": \"mesh3d\"}], \"parcoords\": [{\"line\": {\"colorbar\": {\"outlinewidth\": 0, \"ticks\": \"\"}}, \"type\": \"parcoords\"}], \"pie\": [{\"automargin\": true, \"type\": \"pie\"}], \"scatter\": [{\"marker\": {\"colorbar\": {\"outlinewidth\": 0, \"ticks\": \"\"}}, \"type\": \"scatter\"}], \"scatter3d\": [{\"line\": {\"colorbar\": {\"outlinewidth\": 0, \"ticks\": \"\"}}, \"marker\": {\"colorbar\": {\"outlinewidth\": 0, \"ticks\": \"\"}}, \"type\": \"scatter3d\"}], \"scattercarpet\": [{\"marker\": {\"colorbar\": {\"outlinewidth\": 0, \"ticks\": \"\"}}, \"type\": \"scattercarpet\"}], \"scattergeo\": [{\"marker\": {\"colorbar\": {\"outlinewidth\": 0, \"ticks\": \"\"}}, \"type\": \"scattergeo\"}], \"scattergl\": [{\"marker\": {\"colorbar\": {\"outlinewidth\": 0, \"ticks\": \"\"}}, \"type\": \"scattergl\"}], \"scattermapbox\": [{\"marker\": {\"colorbar\": {\"outlinewidth\": 0, \"ticks\": \"\"}}, \"type\": \"scattermapbox\"}], \"scatterpolar\": [{\"marker\": {\"colorbar\": {\"outlinewidth\": 0, \"ticks\": \"\"}}, \"type\": \"scatterpolar\"}], \"scatterpolargl\": [{\"marker\": {\"colorbar\": {\"outlinewidth\": 0, \"ticks\": \"\"}}, \"type\": \"scatterpolargl\"}], \"scatterternary\": [{\"marker\": {\"colorbar\": {\"outlinewidth\": 0, \"ticks\": \"\"}}, \"type\": \"scatterternary\"}], \"surface\": [{\"colorbar\": {\"outlinewidth\": 0, \"ticks\": \"\"}, \"colorscale\": [[0.0, \"#0d0887\"], [0.1111111111111111, \"#46039f\"], [0.2222222222222222, \"#7201a8\"], [0.3333333333333333, \"#9c179e\"], [0.4444444444444444, \"#bd3786\"], [0.5555555555555556, \"#d8576b\"], [0.6666666666666666, \"#ed7953\"], [0.7777777777777778, \"#fb9f3a\"], [0.8888888888888888, \"#fdca26\"], [1.0, \"#f0f921\"]], \"type\": \"surface\"}], \"table\": [{\"cells\": {\"fill\": {\"color\": \"#EBF0F8\"}, \"line\": {\"color\": \"white\"}}, \"header\": {\"fill\": {\"color\": \"#C8D4E3\"}, \"line\": {\"color\": \"white\"}}, \"type\": \"table\"}]}, \"layout\": {\"annotationdefaults\": {\"arrowcolor\": \"#2a3f5f\", \"arrowhead\": 0, \"arrowwidth\": 1}, \"coloraxis\": {\"colorbar\": {\"outlinewidth\": 0, \"ticks\": \"\"}}, \"colorscale\": {\"diverging\": [[0, \"#8e0152\"], [0.1, \"#c51b7d\"], [0.2, \"#de77ae\"], [0.3, \"#f1b6da\"], [0.4, \"#fde0ef\"], [0.5, \"#f7f7f7\"], [0.6, \"#e6f5d0\"], [0.7, \"#b8e186\"], [0.8, \"#7fbc41\"], [0.9, \"#4d9221\"], [1, \"#276419\"]], \"sequential\": [[0.0, \"#0d0887\"], [0.1111111111111111, \"#46039f\"], [0.2222222222222222, \"#7201a8\"], [0.3333333333333333, \"#9c179e\"], [0.4444444444444444, \"#bd3786\"], [0.5555555555555556, \"#d8576b\"], [0.6666666666666666, \"#ed7953\"], [0.7777777777777778, \"#fb9f3a\"], [0.8888888888888888, \"#fdca26\"], [1.0, \"#f0f921\"]], \"sequentialminus\": [[0.0, \"#0d0887\"], [0.1111111111111111, \"#46039f\"], [0.2222222222222222, \"#7201a8\"], [0.3333333333333333, \"#9c179e\"], [0.4444444444444444, \"#bd3786\"], [0.5555555555555556, \"#d8576b\"], [0.6666666666666666, \"#ed7953\"], [0.7777777777777778, \"#fb9f3a\"], [0.8888888888888888, \"#fdca26\"], [1.0, \"#f0f921\"]]}, \"colorway\": [\"#636efa\", \"#EF553B\", \"#00cc96\", \"#ab63fa\", \"#FFA15A\", \"#19d3f3\", \"#FF6692\", \"#B6E880\", \"#FF97FF\", \"#FECB52\"], \"font\": {\"color\": \"#2a3f5f\"}, \"geo\": {\"bgcolor\": \"white\", \"lakecolor\": \"white\", \"landcolor\": \"#E5ECF6\", \"showlakes\": true, \"showland\": true, \"subunitcolor\": \"white\"}, \"hoverlabel\": {\"align\": \"left\"}, \"hovermode\": \"closest\", \"mapbox\": {\"style\": \"light\"}, \"paper_bgcolor\": \"white\", \"plot_bgcolor\": \"#E5ECF6\", \"polar\": {\"angularaxis\": {\"gridcolor\": \"white\", \"linecolor\": \"white\", \"ticks\": \"\"}, \"bgcolor\": \"#E5ECF6\", \"radialaxis\": {\"gridcolor\": \"white\", \"linecolor\": \"white\", \"ticks\": \"\"}}, \"scene\": {\"xaxis\": {\"backgroundcolor\": \"#E5ECF6\", \"gridcolor\": \"white\", \"gridwidth\": 2, \"linecolor\": \"white\", \"showbackground\": true, \"ticks\": \"\", \"zerolinecolor\": \"white\"}, \"yaxis\": {\"backgroundcolor\": \"#E5ECF6\", \"gridcolor\": \"white\", \"gridwidth\": 2, \"linecolor\": \"white\", \"showbackground\": true, \"ticks\": \"\", \"zerolinecolor\": \"white\"}, \"zaxis\": {\"backgroundcolor\": \"#E5ECF6\", \"gridcolor\": \"white\", \"gridwidth\": 2, \"linecolor\": \"white\", \"showbackground\": true, \"ticks\": \"\", \"zerolinecolor\": \"white\"}}, \"shapedefaults\": {\"line\": {\"color\": \"#2a3f5f\"}}, \"ternary\": {\"aaxis\": {\"gridcolor\": \"white\", \"linecolor\": \"white\", \"ticks\": \"\"}, \"baxis\": {\"gridcolor\": \"white\", \"linecolor\": \"white\", \"ticks\": \"\"}, \"bgcolor\": \"#E5ECF6\", \"caxis\": {\"gridcolor\": \"white\", \"linecolor\": \"white\", \"ticks\": \"\"}}, \"title\": {\"x\": 0.05}, \"xaxis\": {\"automargin\": true, \"gridcolor\": \"white\", \"linecolor\": \"white\", \"ticks\": \"\", \"title\": {\"standoff\": 15}, \"zerolinecolor\": \"white\", \"zerolinewidth\": 2}, \"yaxis\": {\"automargin\": true, \"gridcolor\": \"white\", \"linecolor\": \"white\", \"ticks\": \"\", \"title\": {\"standoff\": 15}, \"zerolinecolor\": \"white\", \"zerolinewidth\": 2}}}, \"width\": 1000},\n",
       "                        {\"responsive\": true}\n",
       "                    ).then(function(){\n",
       "                            \n",
       "var gd = document.getElementById('2ef100b3-abd8-4aa7-ab95-83528cf2608e');\n",
       "var x = new MutationObserver(function (mutations, observer) {{\n",
       "        var display = window.getComputedStyle(gd).display;\n",
       "        if (!display || display === 'none') {{\n",
       "            console.log([gd, 'removed!']);\n",
       "            Plotly.purge(gd);\n",
       "            observer.disconnect();\n",
       "        }}\n",
       "}});\n",
       "\n",
       "// Listen for the removal of the full notebook cells\n",
       "var notebookContainer = gd.closest('#notebook-container');\n",
       "if (notebookContainer) {{\n",
       "    x.observe(notebookContainer, {childList: true});\n",
       "}}\n",
       "\n",
       "// Listen for the clearing of the current output cell\n",
       "var outputEl = gd.closest('.output');\n",
       "if (outputEl) {{\n",
       "    x.observe(outputEl, {childList: true});\n",
       "}}\n",
       "\n",
       "                        })\n",
       "                };\n",
       "                });\n",
       "            </script>\n",
       "        </div>"
      ]
     },
     "metadata": {},
     "output_type": "display_data"
    }
   ],
   "source": [
    "fig_pie_chart =go.Figure(go.Sunburst(labels = labels, parents = parents, values= values,\n",
    "                                     #branchvalues=\"total\",\n",
    "                                     outsidetextfont = {\"size\": 20, \"color\": \"#377eb8\"},\n",
    "                                     insidetextfont = {\"size\": 15},\n",
    "                                    ))\n",
    "\n",
    "fig_pie_chart.update_layout(width = 1000,height = 1000,\n",
    "                            margin = dict(t=0, l=0, r=0, b=0))\n",
    "\n",
    "fig_pie_chart.show()"
   ]
  },
  {
   "cell_type": "code",
   "execution_count": null,
   "metadata": {},
   "outputs": [],
   "source": []
  }
 ],
 "metadata": {
  "kernelspec": {
   "display_name": "Python 3",
   "language": "python",
   "name": "python3"
  },
  "language_info": {
   "codemirror_mode": {
    "name": "ipython",
    "version": 3
   },
   "file_extension": ".py",
   "mimetype": "text/x-python",
   "name": "python",
   "nbconvert_exporter": "python",
   "pygments_lexer": "ipython3",
   "version": "3.7.7"
  },
  "varInspector": {
   "cols": {
    "lenName": 16,
    "lenType": 16,
    "lenVar": 40
   },
   "kernels_config": {
    "python": {
     "delete_cmd_postfix": "",
     "delete_cmd_prefix": "del ",
     "library": "var_list.py",
     "varRefreshCmd": "print(var_dic_list())"
    },
    "r": {
     "delete_cmd_postfix": ") ",
     "delete_cmd_prefix": "rm(",
     "library": "var_list.r",
     "varRefreshCmd": "cat(var_dic_list()) "
    }
   },
   "position": {
    "height": "382px",
    "left": "1081px",
    "right": "20px",
    "top": "119px",
    "width": "336px"
   },
   "types_to_exclude": [
    "module",
    "function",
    "builtin_function_or_method",
    "instance",
    "_Feature"
   ],
   "window_display": false
  }
 },
 "nbformat": 4,
 "nbformat_minor": 4
}
